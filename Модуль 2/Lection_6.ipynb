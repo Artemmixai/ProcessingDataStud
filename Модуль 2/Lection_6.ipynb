{
 "cells": [
  {
   "cell_type": "markdown",
   "id": "66a41300-20b0-41d6-953e-13f491735cbe",
   "metadata": {},
   "source": [
    "# Работа с .csv файлами"
   ]
  },
  {
   "cell_type": "markdown",
   "id": "a2030fff-eb25-4e38-9139-a35513d6372c",
   "metadata": {},
   "source": [
    "Ранее пользовались хранилищем в виде простых форматов .txt и .dat. Для работы с ними приходилось либо писать функции обработки или примитивно встроенными в numpy сохранением и загрузкой. Теперь рассмотрим более удобный как для пользователя, так и для программиста способом хранения - csv.<br>\n",
    "По своей сути он близок к формату данных, который мы создавали раннее - сверху через разделитель записываются ключи, ниже построчно через разделитель выводятся данные. Его удобство во вшитом формате, что позволяет легко использовать его со сторонними программами, например, Microsoft Excel<br>\n",
    "Подобно numpy, всего один метод позволяет создать и заполнить файл, и ещё один прочитать содержимое"
   ]
  },
  {
   "cell_type": "code",
   "execution_count": null,
   "id": "b3726eb7-f783-4531-80ee-5685f462add2",
   "metadata": {},
   "outputs": [],
   "source": [
    "import pandas as pd\n",
    "\n",
    "file_name = 'file_name.csv'"
   ]
  },
  {
   "cell_type": "code",
   "execution_count": null,
   "id": "001d6131-1dd2-4382-b443-4099be6b450e",
   "metadata": {},
   "outputs": [],
   "source": [
    "frame = pd.DataFrame({'a': [1, 2],\n",
    "                      'b': [3, 4]})\n",
    "frame.to_csv(file_name, mode='w', sep=',', index=True, header=True, encoding='utf-8', errors='ignore', decimal='.')"
   ]
  },
  {
   "cell_type": "markdown",
   "id": "a9acc986-6293-4195-ae6e-b4cb62675132",
   "metadata": {},
   "source": [
    "Файл можно посмотреть в папке с файлом программы. Первым аргументом указан путь к файлу (абсолютный или относительный), режим задаёт набор разрешённых операций, среди которых:<br>\n",
    "- ‘w’, создание или перезапись существующего файла<br>\n",
    "- ‘x’, создание файла, возвращает ошибку при существовании<br>\n",
    "- ‘a’, дописывает в существующий или создаёт новый файл<br>\n",
    "\n",
    "<i>sep</i> задаёт разделитель между числами (по умолчанию - запятая)<br>\n",
    "<i>'index'</i> и <i>'header'</i> отвечают за создание столбца индексов и строки заголовков. Полезно в следующей последовательности: <br>\n",
    "1) Создаём пустой DataFrame с заголовками, соответствующим измеряемым величинам, с `header=True`, `index=False`\n",
    "2) Сохраняем его в файл\n",
    "3) При получении новых данных, формируем из них новый DF и записываем с `mode='a'`, `header=False`, `index=False`, то есть добавим только значения  <br>\n",
    "\n",
    "<i>encoding</i> задаёт кодировку файла<br>\n",
    "<i>errors</i> помогает избежать ошибок при чтении символов с неправильной кодировкой<br>\n",
    "<i>decimal</i> изменяет разделитель целой и дробной части чисел"
   ]
  },
  {
   "cell_type": "markdown",
   "id": "d76757d2-9989-4704-97f6-bdf1174828d3",
   "metadata": {},
   "source": [
    "Посмотрим добавление новых данных:"
   ]
  },
  {
   "cell_type": "code",
   "execution_count": null,
   "id": "a8eb9ebb-197a-4331-b471-493dd92989f2",
   "metadata": {},
   "outputs": [],
   "source": [
    "new_frame = pd.DataFrame({'a': [1.1],\n",
    "                          'b': [3.1]})\n",
    "new_frame.to_csv(file_name, mode='a', header=False, encoding='utf-8', errors='ignore')"
   ]
  },
  {
   "cell_type": "markdown",
   "id": "2eca5aa8-0d14-46e2-b8d9-a27e0a819001",
   "metadata": {},
   "source": [
    "В файле появилась новая строка с данными, но с неправильным индексом. Самый простой способ избежать этого - не писать индексы вообще. Или вручную отслеживать размер хранилища и менять индексы в новых DataFrame"
   ]
  },
  {
   "cell_type": "code",
   "execution_count": null,
   "id": "64242a67-264c-4b3a-a4b8-974e24c12701",
   "metadata": {},
   "outputs": [],
   "source": [
    "index = 4\n",
    "new_frame = pd.DataFrame({'a': [1.1],\n",
    "                          'b': [3.1]},\n",
    "                         index=[index])\n",
    "index += 1\n",
    "new_frame"
   ]
  },
  {
   "cell_type": "markdown",
   "id": "a4fa2c23-2d68-43f4-a219-53fe67e86b74",
   "metadata": {},
   "source": [
    "Схожим образом выполняется чтение данных из файла"
   ]
  },
  {
   "cell_type": "code",
   "execution_count": null,
   "id": "41f3a18d-9fe2-4ab4-a036-82074af848a2",
   "metadata": {},
   "outputs": [],
   "source": [
    "df = pd.read_csv(file_name, sep=',', usecols=['a', 'b'], \n",
    "                 skip_blank_lines=True, chunksize=None, \n",
    "                 decimal='.', encoding='utf-8', \n",
    "                 skiprows=range(0, 0))\n"
   ]
  },
  {
   "cell_type": "markdown",
   "id": "deffa2ae-8fbd-4a86-893b-9c99e908b376",
   "metadata": {},
   "source": [
    "<i>file_name, sep, decimal, encoding</i> совпадают с `df.to_csv`<br>\n",
    "<i>usecols</i> ограничивает получаемые столбцы данных<br>"
   ]
  },
  {
   "cell_type": "code",
   "execution_count": null,
   "id": "dda52160-3d0f-43e1-b9aa-b943af72341b",
   "metadata": {},
   "outputs": [],
   "source": [
    "df = pd.read_csv(file_name, usecols=['a'])\n",
    "df"
   ]
  },
  {
   "cell_type": "markdown",
   "id": "f8e9eae2-ce80-4c73-9b33-39787e6a5d04",
   "metadata": {},
   "source": [
    "<i>skip_blank_lines</i> пропускает пустые строки<br>\n",
    "<i>chunksize</i> позволяет читать файл частями, размер которых задаётся этим ключом. Это оптимизирует использование памяти компьютера, если не требуется загружать всю базу данных. Будет полезным при отображении на графике ранее обработанных и записанных в файл данных"
   ]
  },
  {
   "cell_type": "code",
   "execution_count": null,
   "id": "789ad501-ac8e-4f89-a1d0-add52a4e89c0",
   "metadata": {},
   "outputs": [],
   "source": [
    "chunks = pd.read_csv(file_name, chunksize=1)\n",
    "for df in chunks:\n",
    "    print(df)"
   ]
  },
  {
   "cell_type": "markdown",
   "id": "aea6ed92-8db0-47dc-bf60-fa43892a3aac",
   "metadata": {},
   "source": [
    "<i>skiprows</i> позволяет пропустить ранее прочитанные данные или неинтересные фрагменты хранилища. Принимает номер или контейнер с числами"
   ]
  },
  {
   "cell_type": "code",
   "execution_count": null,
   "id": "303d68fb-72b5-425f-b809-7d8732eb7631",
   "metadata": {},
   "outputs": [],
   "source": [
    "df = pd.read_csv(file_name, skiprows=range(2, 3))\n",
    "df"
   ]
  },
  {
   "cell_type": "markdown",
   "id": "0d61e4c7-21f7-46d4-ae7b-989eb55f2f98",
   "metadata": {},
   "source": [
    "Рассмотрим конкретные примеры:<br>\n",
    "Пусть имеется набор параметров в виде словаря, за которыми мы следили. После сохранили весь DataFrame в файл(допустим большой). В какой-то момент нам потребовался определённый участок это базы, причём мы точно знаем где он находится - например, по времени начала и конца смогли вычислить номера строк. Из этого куска извлечём значения с постоянной(уже повторяющейся) температурой и запишем их в новый файл<br>\n",
    "Начнём с генерации той самой базы"
   ]
  },
  {
   "cell_type": "code",
   "execution_count": null,
   "id": "3d77b091-46af-4d10-a7df-923df2ec96f1",
   "metadata": {},
   "outputs": [],
   "source": [
    "from random import randint\n",
    "\n",
    "data = {'T': [300, 300, 300, 250, 250, 220, 200, 200, 200, 150, 150, 150, 150, 100],\n",
    "        'U': list(range(14)),\n",
    "        'I': [randint(0, int(pow(i*10, 0.5))) for i in range(14)]}\n",
    "data = pd.DataFrame(data)\n",
    "data"
   ]
  },
  {
   "cell_type": "markdown",
   "id": "8de76bf1-19e9-4637-bbe3-cf3ed222fc1b",
   "metadata": {},
   "source": [
    "Сохраним его в файл"
   ]
  },
  {
   "cell_type": "code",
   "execution_count": null,
   "id": "1b44cce9-3127-4ca0-94dd-ea720428aaa1",
   "metadata": {},
   "outputs": [],
   "source": [
    "data.to_csv(file_name, header=True, index=False, mode='w')"
   ]
  },
  {
   "cell_type": "markdown",
   "id": "cff315b4-c3d2-433d-bdea-46fd3451fdce",
   "metadata": {},
   "source": [
    "Для экономии ресурсов будем читать файл с пропуском первых 3 и последних 5 строк"
   ]
  },
  {
   "cell_type": "code",
   "execution_count": null,
   "id": "0d947bfb-f8ed-4734-8340-1d4366ed60bc",
   "metadata": {},
   "outputs": [],
   "source": [
    "new_data = pd.read_csv(file_name, skiprows=list(range(1, 4)) + list(range(10, 15)))\n",
    "new_data"
   ]
  },
  {
   "cell_type": "markdown",
   "id": "9cce7b44-3de4-4b12-b47c-d24238a7340e",
   "metadata": {},
   "source": [
    "Теперь стоит задача разработать алгоритм отбора данных согласно обозначенному условию повторяющейся температуры. Предлагаю следующий вариант: собираем список уникальных значений температур и проверяем хранилище на количество повторений"
   ]
  },
  {
   "cell_type": "code",
   "execution_count": null,
   "id": "c7075a92-0f7f-4023-838f-c243ce17481a",
   "metadata": {},
   "outputs": [],
   "source": [
    "temps = new_data['T'].unique()\n",
    "temps"
   ]
  },
  {
   "cell_type": "markdown",
   "id": "40d87e90-3f1e-4961-af96-59555b414481",
   "metadata": {},
   "source": [
    "Если значение встречается лишь 1 раз, то удаляем соответствующие ему строки методом `df.drop(...)`"
   ]
  },
  {
   "cell_type": "code",
   "execution_count": null,
   "id": "07c153b2-71df-4609-bc68-423466e55886",
   "metadata": {},
   "outputs": [],
   "source": [
    "for T in temps:\n",
    "    print(new_data['T'].loc[new_data['T'] == T])"
   ]
  },
  {
   "cell_type": "markdown",
   "id": "2530b51f-df98-43d3-8c5e-53b82d389330",
   "metadata": {},
   "source": [
    "Из трёх DataFrame нужно выбрать только те, число строк в которых не превышает 1. В этом поможет метод `df.count()`"
   ]
  },
  {
   "cell_type": "code",
   "execution_count": null,
   "id": "d0e8f308-141a-448f-a04c-b4625f39eee0",
   "metadata": {},
   "outputs": [],
   "source": [
    "for T in temps:\n",
    "    if new_data['T'].loc[new_data['T'] == T].count() == 1:\n",
    "        print(T)"
   ]
  },
  {
   "cell_type": "markdown",
   "id": "a3487084-2738-416f-919b-cf81ded62738",
   "metadata": {},
   "source": [
    "Мы убедились, что верно находим температуру для удаления. Для метода `df.drop(...)` понадобятся индексы строк. Их сможем получить, запросив методом `df.index` найденные строки"
   ]
  },
  {
   "cell_type": "code",
   "execution_count": null,
   "id": "3fa95ffd-fbe6-4709-bd0b-6964db28b9d3",
   "metadata": {},
   "outputs": [],
   "source": [
    "for T in temps:\n",
    "    if new_data['T'].loc[new_data['T'] == T].count() == 1:\n",
    "        print(new_data.loc[new_data['T'] == T].index)"
   ]
  },
  {
   "cell_type": "markdown",
   "id": "13e893e6-809e-45aa-8f06-705130b2b51b",
   "metadata": {},
   "source": [
    "Причём, индексы строк не зависят от рассматриваемого DataFrame (<i>new_data, new_data['T']</i>). Осталось добавить последний шаг"
   ]
  },
  {
   "cell_type": "code",
   "execution_count": null,
   "id": "5a1bbd3e-b875-4cce-9cef-82ee332d6066",
   "metadata": {},
   "outputs": [],
   "source": [
    "for T in temps:\n",
    "    if new_data['T'].loc[new_data['T'] == T].count() == 1:\n",
    "        new_data.drop(new_data.loc[new_data['T'] == T].index, inplace=True)\n",
    "        \n",
    "new_data"
   ]
  },
  {
   "cell_type": "markdown",
   "id": "ebe165a5-ebf4-4fe1-bf5f-5e70127bbcbe",
   "metadata": {},
   "source": [
    "Получили требуемый фрагмент. Сохраним его без индексов"
   ]
  },
  {
   "cell_type": "code",
   "execution_count": null,
   "id": "40f4cb20-b22f-4082-9c4c-0e4d3bee71e6",
   "metadata": {},
   "outputs": [],
   "source": [
    "new_data.to_csv('filtered_data.csv', mode='w', index=False)"
   ]
  },
  {
   "cell_type": "markdown",
   "id": "42eff918-5cff-43f4-aaa2-0a9e3f516e0a",
   "metadata": {},
   "source": [
    "# Дополнительно"
   ]
  },
  {
   "cell_type": "markdown",
   "id": "54489c77-e3c6-46a3-be8e-98540d1b5c89",
   "metadata": {},
   "source": [
    "Были рассмотрены наиболее используемые методы и функции программной библиотеки `Pandas`, но есть и другие полезные представители, о которых сейчас пойдёт речь"
   ]
  },
  {
   "cell_type": "code",
   "execution_count": null,
   "id": "fc2ec77e-6b9f-4f93-a5d3-c31e3fb2dfdc",
   "metadata": {},
   "outputs": [],
   "source": [
    "data = pd.DataFrame({'Pump_1': ['On', 'On', 'On', 'On', 'Off', 'Off', 'Off'],\n",
    "                     'Pump_2': ['Off', 'Off', 'Off', 'Off', 'On', 'On', 'On'],\n",
    "                     'Pressure': list(range(21))[::-3],\n",
    "                     'Time': list(range(1, 8))})\n",
    "data"
   ]
  },
  {
   "cell_type": "markdown",
   "id": "56914509-ac77-4d31-b8bd-246347210109",
   "metadata": {},
   "source": [
    "`df.combine(other, func, fill_value)` Весьма полезная функция, позволяющая попарно применить любую функцию, передаваемую в <i>func</i>. Последним аргументом можно передать значение, которое займёт место недостающего элемента в контейнерах(схожа с методом `df.apply`, но расширяет возможности для использования с другим df)"
   ]
  },
  {
   "cell_type": "code",
   "execution_count": 7,
   "id": "c46e2c34-13d2-4a95-ae26-8ff05382b0cb",
   "metadata": {},
   "outputs": [
    {
     "data": {
      "text/plain": [
       "0    20\n",
       "1    34\n",
       "2    42\n",
       "3    44\n",
       "4    40\n",
       "5    30\n",
       "6    14\n",
       "dtype: int64"
      ]
     },
     "execution_count": 7,
     "metadata": {},
     "output_type": "execute_result"
    }
   ],
   "source": [
    "data['Pressure'].combine(data['Time'], lambda x, y: x*y)"
   ]
  },
  {
   "cell_type": "markdown",
   "id": "9ac0e127-b605-4d9c-85f3-1191d3b6c61b",
   "metadata": {},
   "source": [
    "При работе с большими словарями зачастую требуется выделять из них отдельные столбцы или строки с некоторыми параметрами. Для первого подойдёт перечисление ключей в виде списка:"
   ]
  },
  {
   "cell_type": "code",
   "execution_count": null,
   "id": "e215a4ec-b042-492b-bff5-aa66629368c4",
   "metadata": {},
   "outputs": [],
   "source": [
    "data[['Pump_1', 'Pump_2']]"
   ]
  },
  {
   "cell_type": "markdown",
   "id": "44631105-5664-4ae3-afe8-634d9fd29d28",
   "metadata": {},
   "source": [
    "Для второго метод `df.isin()`"
   ]
  },
  {
   "cell_type": "code",
   "execution_count": null,
   "id": "ec7499cf-fb56-4c9b-8e83-f27940382cf7",
   "metadata": {},
   "outputs": [],
   "source": [
    "data[data['Pump_1'].isin(['On'])]"
   ]
  },
  {
   "cell_type": "markdown",
   "id": "2d2083f7-5ff6-427d-86c2-a5c49e225859",
   "metadata": {},
   "source": [
    "Он работает аналогично условиям, использованным раннее, но добавляет возможность искать сразу несколько элементов"
   ]
  },
  {
   "cell_type": "code",
   "execution_count": null,
   "id": "c2360ecc-f9cc-4341-81f5-f2db42118cb0",
   "metadata": {},
   "outputs": [],
   "source": [
    "print(data['Pump_1'].isin(['On']), '\\n')\n",
    "print(data['Pump_1'] == 'On', '\\n')\n",
    "data['Pump_1'].isin(['On', 'Off'])"
   ]
  },
  {
   "cell_type": "markdown",
   "id": "e959d7b0-a9b8-4bf7-954a-d0d5c86bbb60",
   "metadata": {},
   "source": [
    "Если возникает необходимость получить элемент из DataFrame без запросов точных координат, например, через условие, то вывод будет перегруженным"
   ]
  },
  {
   "cell_type": "code",
   "execution_count": null,
   "id": "b1dcaadb-cf27-4712-8e13-f6c4a375235a",
   "metadata": {},
   "outputs": [],
   "source": [
    "data.loc[data['Pressure'] < 5, ['Time']]"
   ]
  },
  {
   "cell_type": "markdown",
   "id": "be2c8386-d246-49f5-8b1f-a220f6fa9bd5",
   "metadata": {},
   "source": [
    "Убрать индекс, название столбца поможет метод `df.squeeze(type)`"
   ]
  },
  {
   "cell_type": "code",
   "execution_count": null,
   "id": "46e14675-7afd-4108-9e62-bff405ac1adb",
   "metadata": {},
   "outputs": [],
   "source": [
    "print(data.loc[data['Pressure'] < 5, ['Time']].squeeze(), '\\n')\n",
    "print(data.loc[data['Pressure'] < 5, ['Time']].squeeze('columns'), '\\n')\n",
    "print(data.loc[data['Pressure'] < 5, ['Time']].squeeze('rows'))"
   ]
  },
  {
   "cell_type": "markdown",
   "id": "a2e946cd-dc01-4f8a-bc6a-52e9a404f656",
   "metadata": {},
   "source": [
    "DataFrame можно транспонировать методом `T`"
   ]
  },
  {
   "cell_type": "code",
   "execution_count": null,
   "id": "be85597f-12e4-4434-ae8d-bb32f59ff323",
   "metadata": {},
   "outputs": [],
   "source": [
    "data.T"
   ]
  },
  {
   "cell_type": "markdown",
   "id": "c51bac3f-dd6f-474b-8b4d-e98a096e7893",
   "metadata": {},
   "source": [
    "`df.nlargest(n, column)`, `df.nsmallest(n, column)` возвращают несколько строк с самыми большими или малыми значениями в указанной колонке, причём отсортированными"
   ]
  },
  {
   "cell_type": "code",
   "execution_count": null,
   "id": "5e8a6743-e939-495b-8c79-5dfa131ff70c",
   "metadata": {},
   "outputs": [],
   "source": [
    "print(data.nlargest(2, 'Pressure'), '\\n')\n",
    "print(data.nsmallest(3, 'Pressure'), '\\n')"
   ]
  },
  {
   "cell_type": "markdown",
   "id": "c4913945-03ec-4660-a175-bde65e14e1f2",
   "metadata": {},
   "source": [
    "`df.rename(columns=None, index=None, errors='ignore', inplace=False)` отвечает за переименование столбцов или индексов в DataFrame"
   ]
  },
  {
   "cell_type": "code",
   "execution_count": null,
   "id": "916cb564-8f2a-4891-af61-f8f9f43bb76b",
   "metadata": {},
   "outputs": [],
   "source": [
    "data.rename(columns={'Pump_1': 'Давление'}, inplace=True)\n",
    "data"
   ]
  },
  {
   "cell_type": "markdown",
   "id": "7f408edc-40f0-4ab5-9845-8dc2d119aeac",
   "metadata": {},
   "source": [
    "Больше функций и методов можно увидеть в официальной документации, а некоторые редко используемые расписанны на https://proglib.io/p/25-vozmozhnostey-pandas-o-kotoryh-vy-ne-znali-2022-02-28"
   ]
  },
  {
   "cell_type": "markdown",
   "id": "5072d50c-e231-4d6b-a7e5-c191c0fc736e",
   "metadata": {},
   "source": [
    "## Excel"
   ]
  },
  {
   "cell_type": "markdown",
   "id": "06de5e28-03a4-4ce1-a3e2-ea316778fa80",
   "metadata": {},
   "source": [
    "Вместо csv фалйов можно использовать excel. Для демонстрации воспользуемся ещё одной библиотекой `seaborn`"
   ]
  },
  {
   "cell_type": "code",
   "execution_count": null,
   "id": "5fa9e1a9-c4de-4bc3-b8c6-19f558319bad",
   "metadata": {},
   "outputs": [],
   "source": [
    "import pandas as pd\n",
    "import seaborn as sns\n",
    "\n",
    "diamonds = sns.load_dataset(\"diamonds\")[:100]\n",
    "tips = sns.load_dataset(\"tips\")[:100]\n",
    "\n",
    "with pd.ExcelWriter(\"data.xlsx\", mode='w', datetime_format='YYYY-MM-DD HH:MM:SS', date_format='YYYY-MM-DD') as writer:\n",
    "    diamonds.to_excel(writer, sheet_name=\"diamonds\")\n",
    "    tips.to_excel(writer, sheet_name=\"tips\")\n",
    "\n",
    "with pd.ExcelWriter(\"data.xlsx\", mode='a', if_sheet_exists='new') as writer:\n",
    "    tips.to_excel(writer, sheet_name=\"tips\")"
   ]
  },
  {
   "cell_type": "markdown",
   "id": "c1dc8b8e-b6b9-4b64-807f-d215502a70de",
   "metadata": {},
   "source": [
    "Записываем базы данных в 2 переменных. При помощи класса `pd.ExcelWriter(...)` создаём или открываем файл<br>\n",
    "Первый аргумент - путь с названием файлом<br>\n",
    "<i>mode</i> - режим 'w' соответствует созданию нового файла, 'a' добавление в существующий<br>\n",
    "<i>if_sheet_exists</i> только с <i>mode='a'</i>, действие при существующей странице с таким названием:<br>\n",
    "- ‘error’ - поднятие ошибки ValueError<br>\n",
    "- ‘new’ - создать новую страницу с изменённым названием<br>\n",
    "- ‘replace’ - перезапись файла<br>\n",
    "- ‘overlay’ - дописывание файлв<br>\n",
    "\n",
    "<i>datetime_format, date_format</i> задают сохраняемый формат даты и времени"
   ]
  },
  {
   "cell_type": "code",
   "execution_count": null,
   "id": "9d266527-0a82-42c0-bc79-eed743ca3b05",
   "metadata": {},
   "outputs": [],
   "source": [
    "from datetime import date, datetime  \n",
    "\n",
    "with pd.ExcelWriter(\"data.xlsx\", mode='w', datetime_format='YYYY-MM-DD HH:MM:SS', date_format='YYYY-MM-DD') as writer:\n",
    "    df = pd.DataFrame([[date(2014, 1, 31), date(1999, 9, 24)],\n",
    "                       [datetime(1998, 5, 26, 23, 33, 4), datetime(2014, 2, 28, 13, 5, 13)],],\n",
    "                      index=[\"Date\", \"Datetime\"],\n",
    "                      columns=[\"X\", \"Y\"])\n",
    "    df.to_excel(writer, sheet_name='1')"
   ]
  },
  {
   "cell_type": "code",
   "execution_count": null,
   "id": "8f45555f-8bde-49ea-9f54-f7cc719ff36b",
   "metadata": {},
   "outputs": [],
   "source": []
  }
 ],
 "metadata": {
  "kernelspec": {
   "display_name": "Python 3 (ipykernel)",
   "language": "python",
   "name": "python3"
  },
  "language_info": {
   "codemirror_mode": {
    "name": "ipython",
    "version": 3
   },
   "file_extension": ".py",
   "mimetype": "text/x-python",
   "name": "python",
   "nbconvert_exporter": "python",
   "pygments_lexer": "ipython3",
   "version": "3.12.4"
  }
 },
 "nbformat": 4,
 "nbformat_minor": 5
}
