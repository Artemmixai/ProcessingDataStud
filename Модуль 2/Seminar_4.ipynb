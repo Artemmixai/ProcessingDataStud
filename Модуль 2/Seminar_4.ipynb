{
 "cells": [
  {
   "cell_type": "markdown",
   "id": "98451a55-5ea7-46e4-8316-b1576b3add60",
   "metadata": {},
   "source": [
    "## Сохранение и получение данных"
   ]
  },
  {
   "cell_type": "markdown",
   "id": "ec7bfab1-bb0d-45bb-aee8-fa3cc34e24cd",
   "metadata": {},
   "source": [
    "Начнем с создания функции генерации словаря с данными. Для этого воспользуемся стандартной библиотекой `random`"
   ]
  },
  {
   "cell_type": "code",
   "execution_count": 1,
   "id": "3836c3c9-6ff7-4990-89c9-628863b22631",
   "metadata": {},
   "outputs": [],
   "source": [
    "import random"
   ]
  },
  {
   "cell_type": "markdown",
   "id": "256d0734-2b2a-4849-943b-5e29d4c88666",
   "metadata": {},
   "source": [
    "Из неё нам понадобятся три функции:\n",
    "1) `random.random()` - возвращает случайное число от 0 до 1\n",
    "2) `random.randint(a: int, b: int)` - возвращает случайное целое число в диапазоне [a, b]\n",
    "3) `random.choice(massive)` - возвращает случайный элемент из контейнера<br>\n",
    "\n",
    "Перейдём к сборке словаря"
   ]
  },
  {
   "cell_type": "markdown",
   "id": "c6063cd2",
   "metadata": {},
   "source": [
    "*Упражнение 2.0*. \n",
    "\n",
    "Соберите словарь, ключами которого являются следующие физические величины: __Current, Voltage, Magnetic field, Magnetization,Temperature, Force__. Каждому ключу должен соответсвовать список значений в диапазоне от 0 до 100, который генерится в процессе создания словаря. Функция генерирующая такой словарь, должна принимать на вход **список физических величин**, **число, задающее количество ключей в словаре**, и **число значений, соответсвующих одному ключу**. Порядок заполнения ключей генерируется рандомным образом."
   ]
  },
  {
   "cell_type": "markdown",
   "id": "818be11a",
   "metadata": {},
   "source": [
    "***Пример***\n",
    "\n",
    "Вызов функции\n",
    "\n",
    "`create_dict(2, 3)`\n",
    "\n",
    "Вывод \n",
    "\n",
    "`{'Temperature': [17, 16, 14], 'Force': [1, 92, 45]}`\n"
   ]
  },
  {
   "cell_type": "code",
   "execution_count": null,
   "id": "4111e917",
   "metadata": {},
   "outputs": [],
   "source": []
  },
  {
   "cell_type": "markdown",
   "id": "dd564ac8",
   "metadata": {},
   "source": [
    "Приступим к записи нашего словаря в файл. Для этого переведем наш словарь в строки. "
   ]
  },
  {
   "cell_type": "markdown",
   "id": "acfc2b24-c61d-47ac-8fb7-c7d9b8454ca4",
   "metadata": {},
   "source": [
    " Пусть верхняя строка включает в себя названия столбцов, тогда её можно построить как:"
   ]
  },
  {
   "cell_type": "code",
   "execution_count": null,
   "id": "b26768a6-a4f9-4832-91f0-b4652aaf81f6",
   "metadata": {},
   "outputs": [],
   "source": [
    "string_1 = ..."
   ]
  },
  {
   "cell_type": "markdown",
   "id": "0f2d6eb7",
   "metadata": {},
   "source": [
    "Как быть с данными? \n",
    "\n",
    "Формат файла .dat не позволяет отдельно заполнять столбцы, но мы можем записывать строки. Необходимо вывести значения словаря сгруппированные по строкам (по индексу).\n",
    "\n",
    "***Пример***\n",
    "\n",
    "`17;1`\n",
    "\n",
    "`16;92`\n",
    "\n",
    "`14;45`\n",
    "\n",
    "\n",
    " *Hint: Начните формировать хранилище построчно с помощью цикла и внутрь него добавьте еще один цикл по элементам словаря*"
   ]
  },
  {
   "cell_type": "code",
   "execution_count": null,
   "id": "586e9a24",
   "metadata": {},
   "outputs": [],
   "source": []
  },
  {
   "cell_type": "markdown",
   "id": "2e5a44d1-2be8-4516-b0f7-4ff9096577b5",
   "metadata": {},
   "source": [
    "Осталось записать всё это в файл, начнём!\n",
    "\n",
    "**Задача 2.1.**\n",
    "\n",
    " Напишите функцию, которая принимает на вход заполненный выше словарь и записывает его в файл с расширением \".dat\".\n",
    "\n",
    "***Пример***\n",
    "\n",
    "Input: `write_data(dict_1)`\n",
    "\n",
    "Output: file.dat\n",
    "\n",
    "*Hint*: пойдём попорядку:\n",
    "\n",
    "0) Инициализируем функцию и открываем файл для записи\n",
    "1) Запускаем цикл по индексам одного из списков, длину которого получили функцией <b>len(object)</b>\n",
    "2) Создаем переменную, в которую записываем данные\n",
    "3) Создаем цикл по ключам словаря, чтобы включить все одновременно измеренные значения\n",
    "4) Добавляем новое значение в строку с разделителем\n",
    "5) После внутреннего цикла исключаем последний разделитель и добавляем символ переноса строки<br>\n",
    "\n"
   ]
  },
  {
   "cell_type": "code",
   "execution_count": null,
   "id": "ff52b700-63ac-4623-b088-2845efbc9887",
   "metadata": {},
   "outputs": [],
   "source": [
    "def write_data(...):\n",
    "    ...\n"
   ]
  },
  {
   "cell_type": "markdown",
   "id": "1e39e813-7177-4801-957f-1c526445646d",
   "metadata": {},
   "source": [
    "Желающие могут попробовать применить <i>list comprehention</i> для оптимизации работы "
   ]
  },
  {
   "cell_type": "code",
   "execution_count": null,
   "id": "efe042cc",
   "metadata": {},
   "outputs": [],
   "source": []
  },
  {
   "cell_type": "markdown",
   "id": "557f6959-03c5-45bc-b36e-6538dde2f9eb",
   "metadata": {},
   "source": [
    "**Задача 2.2**\n",
    "\n",
    "Cформировать функцию, принимающую путь к файлу и загружающую данные в словарь. В качестве ключей используйте первую строку из файла. "
   ]
  },
  {
   "cell_type": "markdown",
   "id": "8d8afc7e-163b-4cbc-8d94-e3e21aa95a69",
   "metadata": {},
   "source": [
    "## numpy"
   ]
  },
  {
   "cell_type": "markdown",
   "id": "4ce7c46c-5100-492b-8076-0e6c6d4133a9",
   "metadata": {},
   "source": [
    "Реализуем функцию записи и чтения данных с помощью numpy"
   ]
  },
  {
   "cell_type": "code",
   "execution_count": null,
   "id": "d81ccd71-07af-4c6d-a5a5-e6a430145150",
   "metadata": {},
   "outputs": [],
   "source": [
    "import numpy as np"
   ]
  },
  {
   "cell_type": "markdown",
   "id": "a7d8522c",
   "metadata": {},
   "source": [
    "*Упражнение 2.2.*\n",
    "\n",
    " Повторите задачи 2.1 и 2.2 (Запись и чтение файла) с помощью библиотеки numpy.\n",
    "\n",
    "*Hint:* Воспользуйтесь лекцией!"
   ]
  },
  {
   "cell_type": "code",
   "execution_count": null,
   "id": "899077df",
   "metadata": {},
   "outputs": [],
   "source": []
  },
  {
   "cell_type": "markdown",
   "id": "09b24022",
   "metadata": {},
   "source": []
  }
 ],
 "metadata": {
  "kernelspec": {
   "display_name": "Python 3 (ipykernel)",
   "language": "python",
   "name": "python3"
  },
  "language_info": {
   "codemirror_mode": {
    "name": "ipython",
    "version": 3
   },
   "file_extension": ".py",
   "mimetype": "text/x-python",
   "name": "python",
   "nbconvert_exporter": "python",
   "pygments_lexer": "ipython3",
   "version": "3.11.9"
  }
 },
 "nbformat": 4,
 "nbformat_minor": 5
}
