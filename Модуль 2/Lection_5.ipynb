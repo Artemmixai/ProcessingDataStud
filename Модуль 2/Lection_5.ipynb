{
 "cells": [
  {
   "cell_type": "markdown",
   "id": "51f4fdfe-e317-4533-a36a-cdf1d2fa5b2e",
   "metadata": {},
   "source": [
    "# Основы Pandas"
   ]
  },
  {
   "cell_type": "markdown",
   "id": "27127327-e780-45f2-9b87-b7062338803e",
   "metadata": {},
   "source": [
    "Базы данных неотъемлимая часть любой системы, поэтому она должна быть адаптирована под любую задачу. Из всех популярных вариантов, наиболее подходящей к нашей работе оказался фреймворк <b>Pandas</b>, за счёт скорости работы, именовонности переменных и удобного восприятия записанных файлов без использования языков программирования"
   ]
  },
  {
   "cell_type": "markdown",
   "id": "221d270f-56eb-42dc-b303-f487390c64de",
   "metadata": {},
   "source": [
    "Из его основных возможностей выделим:<br>\n",
    "1) Простая работа с .csv файлами\n",
    "2) Производительность при фильтрации и сортировке хранилища\n",
    "3) Интеграция с Python<br>\n",
    "\n",
    "При этом стоит учесть неоптимизированное пересоздание хранилище при постоянном добавлении или удалении элементов, что явно продемонстрирую далее"
   ]
  },
  {
   "cell_type": "markdown",
   "id": "8ad1f45b-5566-4aa1-94b2-4cd35e4e6d16",
   "metadata": {},
   "source": [
    "## DataFrame и его структура"
   ]
  },
  {
   "cell_type": "markdown",
   "id": "fcb0a2ca-64fc-47fa-ad94-914b2b23115c",
   "metadata": {},
   "source": [
    "Библиотека работает со своим типом данных, названным <b>DataFrame</b>. Большая часть операций является методами данного класса. Для начала разберёмся, как создать такую переменную<br>\n",
    "В первую очередь, импортируем всё с использованием сокращённого названия:"
   ]
  },
  {
   "cell_type": "code",
   "execution_count": null,
   "id": "900227fb-1a68-4fda-89ae-c9514411b005",
   "metadata": {},
   "outputs": [],
   "source": [
    "import pandas as pd"
   ]
  },
  {
   "cell_type": "markdown",
   "id": "520cd027-6530-4ed1-8370-f24bc5dcf943",
   "metadata": {},
   "source": [
    "По своей сути <b>DataFrame</b> - словарь, значениями которого являются массивы Numpy, о которых поговорим в следующем модуле. Основное удобство - наличие индексов, подобно спискам, которые распространяются на все столбцы. Таким образом, можем работать со словарём как с двумерной матрицей значений, сравнивая столбцы и строки по их заголовкам и индексам. Создадим пустой <b>df</b>:"
   ]
  },
  {
   "cell_type": "code",
   "execution_count": null,
   "id": "77386045-b970-4f72-8429-95a76103ddf5",
   "metadata": {},
   "outputs": [],
   "source": [
    "df = pd.DataFrame()\n",
    "print(df)"
   ]
  },
  {
   "cell_type": "markdown",
   "id": "a25e69d4-bc16-4b8f-97a8-6f20e782a9d8",
   "metadata": {},
   "source": [
    "Сразу видим пустые заголовки и явное сообщение, что хранилище пустое. Так как значения разбиваются по названиям, значит, формирование хранилища основанно на именнованных контейнерах - словарях"
   ]
  },
  {
   "cell_type": "code",
   "execution_count": null,
   "id": "58e7f3a3-21d2-4368-a0b3-f899469d9a2b",
   "metadata": {},
   "outputs": [],
   "source": [
    "df = pd.DataFrame({})\n",
    "print(df, '\\n')\n",
    "\n",
    "df = pd.DataFrame({'a': [1, 2], 'b': [3, 4]})\n",
    "print(df)"
   ]
  },
  {
   "cell_type": "markdown",
   "id": "6584418e-8e47-4e2a-aba3-e036fe4adee5",
   "metadata": {},
   "source": [
    "Передавая пустой словарь, получаем тот же результат. А вот с заполненным словарём картина совсем другая - отрисовалась матрица, столбцы которой точно повторяют переданный словарь, а строки проиндексированы с 0. Получается, мы можем попробовать обращаться к элементам матрицы по её \"координатам\""
   ]
  },
  {
   "cell_type": "code",
   "execution_count": null,
   "id": "a91f2ab8-7c2a-4e82-a880-474eadaeaa34",
   "metadata": {},
   "outputs": [],
   "source": [
    "print(df['b'][0])\n",
    "print(df['b'][1])"
   ]
  },
  {
   "cell_type": "markdown",
   "id": "ac1220ba-db32-4ff6-8388-fa3ef0e33177",
   "metadata": {},
   "source": [
    "Первым элементом указываем ключ (название столбца), вторым - индекс в контейнере. То есть, аналогично словарю! \n",
    "Как измениться ситуация, если передать словарь со значением в виде числа"
   ]
  },
  {
   "cell_type": "code",
   "execution_count": null,
   "id": "03242fdf-9b37-457d-bc00-2cbc2cd4ade6",
   "metadata": {},
   "outputs": [],
   "source": [
    "df = pd.DataFrame({1: 2})"
   ]
  },
  {
   "cell_type": "markdown",
   "id": "bf6252a2-dbed-4d51-8eac-fd5ecfff1d07",
   "metadata": {},
   "source": [
    "Не удалось создать индексы... А если так:"
   ]
  },
  {
   "cell_type": "code",
   "execution_count": null,
   "id": "02db9370-e8ad-43bc-8c56-c7a83c7a0246",
   "metadata": {},
   "outputs": [],
   "source": [
    "df = pd.DataFrame([{1: 2}])\n",
    "print(df)"
   ]
  },
  {
   "cell_type": "markdown",
   "id": "a9464c8e-b82d-4e19-a3e7-0c169722e024",
   "metadata": {},
   "source": [
    "Всё же pandas требует контейнеры в значениях, чтобы их можно было проиндексировать. Держим в голове эту особенность<br>\n",
    "Покажу ещё один способ создания DF через ключи и значения:"
   ]
  },
  {
   "cell_type": "code",
   "execution_count": null,
   "id": "852fd469-74e3-41f9-ba2f-68e6f02ab773",
   "metadata": {},
   "outputs": [],
   "source": [
    "keys = ['column_1', 'column_2']\n",
    "values = [[1, 2], [3, 4],[5, 6]]\n",
    "print(pd.DataFrame(values, columns=keys))"
   ]
  },
  {
   "cell_type": "markdown",
   "id": "6d523771-efe2-45ae-8680-a8bbd98e1392",
   "metadata": {},
   "source": [
    "Здесь мы создаём список списков, в которых хранится строка данных, а заголовки передаётся отдельным контейнером. Так удобно создавать пустые хранилища с разбиением по колонкам"
   ]
  },
  {
   "cell_type": "markdown",
   "id": "0331a2b5-4f75-4d93-91e9-beca706fc0a3",
   "metadata": {},
   "source": [
    "На данный момент, мы видим, что новый тип данных точно не хуже стандартного словаря. Теперь перейдём к дополнительным возможностям. Во первых, мы можем проихвести сортировку по элементов по столбцам:"
   ]
  },
  {
   "cell_type": "code",
   "execution_count": null,
   "id": "2faa0b6c-993f-400f-9587-b29541881971",
   "metadata": {},
   "outputs": [],
   "source": [
    "df = pd.DataFrame({'Index': [4, 8, 3, 7, 1, 5, 2, 6], 'Name': ['a', 'b', 'c', 'd', 'e', 'f', 'g', 'h']})\n",
    "\n",
    "df = df.sort_values(by='Index')\n",
    "print(df)"
   ]
  },
  {
   "cell_type": "markdown",
   "id": "ce95758c-1925-4b7c-8f35-dfe19d84fad7",
   "metadata": {},
   "source": [
    "Метод `.sort_values(by, ignore_index=False, ascending=True, inplace=False, ...)` отвечает за сортировку. <i>ignore_index</i> при значении <i>True</i> перенумирует строки после сортировки, а <i>ascending</i> включит обратную сортировку при значении <i>False"
   ]
  },
  {
   "cell_type": "code",
   "execution_count": null,
   "id": "8fe4a234-854b-451f-8679-d8dedf12f616",
   "metadata": {},
   "outputs": [],
   "source": [
    "print(df, '\\n')\n",
    "df = df.sort_values(by='Name', ascending=False, ignore_index=True)\n",
    "print(df)"
   ]
  },
  {
   "cell_type": "markdown",
   "id": "ca8a0a56-aef2-44f4-be3b-613ba0262fa8",
   "metadata": {},
   "source": [
    "Аргумент <i>inplace</i> делает замену на месте"
   ]
  },
  {
   "cell_type": "code",
   "execution_count": null,
   "id": "336ea0ec-4462-4a3d-b321-085271abd14c",
   "metadata": {},
   "outputs": [],
   "source": [
    "print(df, '\\n')\n",
    "df.sort_values(by='Index', ascending=False, ignore_index=True, inplace=True)\n",
    "print(df)"
   ]
  },
  {
   "cell_type": "markdown",
   "id": "6bbc6401-2b1e-42b1-a478-01e2ceb8985c",
   "metadata": {},
   "source": [
    "В зависимости от указанной оси, можно производить перестановки как по строкам, так и по столбцам, но для первого будет нужен метод `.sort_index(axis=0, ignore_index=False, ascending=True, inplace=False, ...)`. Первый аргумент указывает ось сортировки {0: по индексам, 1: по названиям столбцов}, остальные аргументы аналогичны предыдущему методу"
   ]
  },
  {
   "cell_type": "code",
   "execution_count": null,
   "id": "a7ba0f82-f718-4628-a6e2-5f42fd10fe9c",
   "metadata": {},
   "outputs": [],
   "source": [
    "df.sort_values(by='Index', inplace=True)\n",
    "print(df, '\\n')\n",
    "df.sort_index(inplace=True)\n",
    "print(df, '\\n')\n",
    "df.sort_index(axis=1, ascending=False, inplace=True)\n",
    "print(df)"
   ]
  },
  {
   "cell_type": "markdown",
   "id": "7aff65e8-80a4-4857-8751-6a5f1d78303d",
   "metadata": {},
   "source": [
    "Более того, есть возможность производить сортировку по нескольким столбцам сразу. Для этого указываем их в виде списка"
   ]
  },
  {
   "cell_type": "code",
   "execution_count": null,
   "id": "de1e3c5b-1931-40b6-b40a-9b7c712c3189",
   "metadata": {},
   "outputs": [],
   "source": [
    "data = {\n",
    "    'Имя': ['Иван', 'Мария', 'Пётр', 'Анна'],\n",
    "    'Возраст': [25, 30, 18, 20],\n",
    "    'Пол': ['Мужской', 'Женский', 'Мужской', 'Женский'],\n",
    "    'Хобби': [['Футбол', 'чтение'], ['Кулинария', 'путешествия'], ['Спорт', 'музыка'], ['Чтение', 'рисование']]\n",
    "}\n",
    "\n",
    "df = pd.DataFrame(data)\n",
    "print(df, '\\n')\n",
    "\n",
    "print(df.sort_values(by=['Пол', 'Имя'], ignore_index=True))"
   ]
  },
  {
   "cell_type": "markdown",
   "id": "b807f2df-fe32-4b10-a9f0-51c184f65ce1",
   "metadata": {},
   "source": [
    "## Получение элементов по условию"
   ]
  },
  {
   "cell_type": "markdown",
   "id": "af7a23c0-066c-4968-9847-b83f3831f560",
   "metadata": {},
   "source": [
    "Нам редко понадобится весь объём данных. Поэтому должны научиться извлекать только то, что удовлетворяет определённым условиям, как минимум индексам. Для этого используется метод `.loc`, возвращающий переданные названия строк. Ему в квадратных скобках передаётся условие и, опционально, требуемый столбец:"
   ]
  },
  {
   "cell_type": "code",
   "execution_count": null,
   "id": "d54d4f5d-1665-41bd-a5e9-2eaaf3243fc3",
   "metadata": {},
   "outputs": [],
   "source": [
    "data = {\n",
    "    'Имя': ['Иван', 'Мария', 'Пётр', 'Анна'],\n",
    "    'Возраст': [25, 30, 18, 20],\n",
    "    'Пол': ['Мужской', 'Женский', 'Мужской', 'Женский'],\n",
    "    'Хобби': [['Футбол', 'чтение'], ['Кулинария', 'путешествия'], ['Спорт', 'музыка'], ['Чтение', 'рисование']]\n",
    "}\n",
    "\n",
    "df = pd.DataFrame(data)\n",
    "print(df, '\\n')\n",
    "\n",
    "print(df['Возраст'] > 21, '\\n')\n",
    "print(df.loc[df['Возраст'] > 21], '\\n')\n",
    "print(df.loc[df['Возраст'] > 21, 'Имя'])"
   ]
  },
  {
   "cell_type": "markdown",
   "id": "e206e7c1-1047-4c72-ba13-3bf3e7cee30e",
   "metadata": {},
   "source": [
    "Результатом применения метода является DataFrame из булевых значений, по которому выбираются необходимые элементы из хранилища.<br>\n",
    "Можно применить более короткую форму"
   ]
  },
  {
   "cell_type": "code",
   "execution_count": null,
   "id": "1b4f2517-d0d5-4fe9-8950-01b67570b027",
   "metadata": {},
   "outputs": [],
   "source": [
    "print(df[df['Возраст'] > 21], '\\n')\n",
    "print(df[df['Возраст'] > 21]['Имя'])"
   ]
  },
  {
   "cell_type": "markdown",
   "id": "92b6b65e-1f39-463e-ad4f-5993284f6e25",
   "metadata": {},
   "source": [
    "Условие может быть более сложным:"
   ]
  },
  {
   "cell_type": "code",
   "execution_count": null,
   "id": "140da0a6-0056-4fb1-9a23-50a3e6ef3c60",
   "metadata": {},
   "outputs": [],
   "source": [
    "print(df.loc[(df['Возраст'] > 21) | (df['Пол'] == 'Мужской')], '\\n')\n",
    "print(df.loc[(df['Возраст'] > 21) & (df['Пол'] == 'Мужской')], '\\n')\n",
    "print(df.loc[(df['Возраст'] >= 20) & (df['Пол'] != 'Мужской')])"
   ]
  },
  {
   "cell_type": "markdown",
   "id": "740543f6-ea54-4b97-9ea4-0518b0ac260c",
   "metadata": {},
   "source": [
    "Операцию извлечения значений в определённом диапазоне можно выполнить методом `.between(left, right, inclusive='both')`. Он возвращает DataFrame без лишних (не входящих в диапазон) данных в виде булевых значений"
   ]
  },
  {
   "cell_type": "code",
   "execution_count": null,
   "id": "d4f50cd5-ff19-42fd-80e1-236e4ac032b8",
   "metadata": {},
   "outputs": [],
   "source": [
    "data = {\n",
    "    'Имя': ['Иван', 'Мария', 'Пётр', 'Анна'],\n",
    "    'Возраст': [25, 30, 18, 20],\n",
    "    'Пол': ['Мужской', 'Женский', 'Мужской', 'Женский'],\n",
    "    'Хобби': [['Футбол', 'чтение'], ['Кулинария', 'путешествия'], ['Спорт', 'музыка'], ['Чтение', 'рисование']]\n",
    "}\n",
    "\n",
    "df = pd.DataFrame(data)\n",
    "print(df, '\\n')\n",
    "\n",
    "filtered = df['Возраст'].between(20, 25)\n",
    "print(filtered)"
   ]
  },
  {
   "cell_type": "markdown",
   "id": "f1cb0269-c5a1-4cf4-8088-5c7421b46c78",
   "metadata": {},
   "source": [
    "Так удобно обращаться к выделенным частям хранилища, например, выбрали данные по первому столбцу, а по другому строим график"
   ]
  },
  {
   "cell_type": "code",
   "execution_count": null,
   "id": "5a3fb666-15de-401b-b181-1c8bf4da5089",
   "metadata": {},
   "outputs": [],
   "source": [
    "print(df[filtered], '\\n')\n",
    "print(df[filtered]['Имя'])"
   ]
  },
  {
   "cell_type": "markdown",
   "id": "5da4c3c1-1de1-435b-86d1-42a09a5c695b",
   "metadata": {},
   "source": [
    "Всегда получаем DataFrame"
   ]
  },
  {
   "cell_type": "markdown",
   "id": "c70d02c0-c466-4264-b060-cdd2ae97f266",
   "metadata": {},
   "source": [
    "## Операции между 2-мя DataFrame"
   ]
  },
  {
   "cell_type": "markdown",
   "id": "54ba1158-ce07-44e8-8861-71d74c4f4fb6",
   "metadata": {},
   "source": [
    "### pd.merge"
   ]
  },
  {
   "cell_type": "markdown",
   "id": "1dd82b7c-8896-48ca-8ad7-d6296b70f369",
   "metadata": {},
   "source": [
    "До сих пор мы создавали DataFrame из отдельного словаря. Очевидно, что каждый раз преобразовывать данные между типами неоптимально. Рассмотрим варианты объединения, стыковки и разбиения матриц<br>\n",
    "Начнём с операций расширения. `pd.merge(left, right, how='inner', on=None, ...)` соединяет 2 DF на основе общих столбцов, указываемых в ключе <i>on</i><br>\n",
    "<b>Для сохранения преобразования, записывайте его в переменную"
   ]
  },
  {
   "cell_type": "code",
   "execution_count": null,
   "id": "283b13cd-4316-4002-b953-97f89bf1a645",
   "metadata": {},
   "outputs": [],
   "source": [
    "import pandas as pd\n",
    "\n",
    "df1 = pd.DataFrame({\n",
    "    'Имя': ['Иван', 'Петр', 'Мария', 'Сергей'],\n",
    "    'Возраст': [25, 30, 27, 40]\n",
    "})\n",
    "df2 = pd.DataFrame({\n",
    "    'Имя': ['Петр', 'Анна', 'Сергей', 'Михаил'],\n",
    "    'Рост': [180, 165, 175, 190]\n",
    "})\n",
    "\n",
    "pd.merge(df1, df2, on=['Имя'])"
   ]
  },
  {
   "cell_type": "markdown",
   "id": "35358611-2943-4a7e-a7bb-df29a96cecc3",
   "metadata": {},
   "source": [
    "Получили данные только для совпадающих имён в обоих словарях. За это отвечает ключ <i>how</i>. Он может принимать значения [\"left\", \"right\", \"inner\", \"outer\", \"cross\"]. По умолчанию \"inner\", что и означает использование совпадающих значений объединения. Посмотрим все:"
   ]
  },
  {
   "cell_type": "code",
   "execution_count": null,
   "id": "0c22b6e7-878e-45cb-9e91-ecf640b1a631",
   "metadata": {},
   "outputs": [],
   "source": [
    "print(pd.merge(df1, df2, on=['Имя'], how='inner'), '\\n')\n",
    "print(pd.merge(df1, df2, on=['Имя'], how='left'), '\\n')\n",
    "print(pd.merge(df1, df2, on=['Имя'], how='right'), '\\n')\n",
    "print(pd.merge(df1, df2, on=['Имя'], how='outer'))"
   ]
  },
  {
   "cell_type": "markdown",
   "id": "76859301-9433-44b3-8812-13ac57a763f5",
   "metadata": {},
   "source": [
    "\"left\", \"right\" задают столбец значений, который и будет в результате. Все неизвестные данные заменяются на <i>NaN</i>. \"outer\" - противоположность \"inner\", удивительно..., отображает все встречаемые ключи<br>\n",
    "Что насчёт \"cross\"? Он отображает все возможные комбинации строк объединяемых DF:"
   ]
  },
  {
   "cell_type": "code",
   "execution_count": null,
   "id": "73710d23-3df8-44b3-b8a8-b28bdb0a9c6c",
   "metadata": {},
   "outputs": [],
   "source": [
    "df1 = pd.DataFrame({\n",
    "    'Имя': ['Иван', 'Петр', 'Мария', 'Сергей'],\n",
    "    'Возраст': [25, 30, 27, 40],\n",
    "    'Рост': [175, 180, 165, 170],\n",
    "    'Вес': [75, 80, 65, 70]\n",
    "})\n",
    "\n",
    "df2 = pd.DataFrame({\n",
    "    'Имя': ['Петр', 'Анна', 'Сергей', 'Михаил'],\n",
    "    'Возраст': [30, 25, 40, 35],\n",
    "    'Рост': [180, 165, 175, 190],\n",
    "    'Зарплата': [50000, 45000, 60000, 55000]\n",
    "})\n",
    "\n",
    "pd.merge(df1, df2, how='cross')"
   ]
  },
  {
   "cell_type": "markdown",
   "id": "2933c26f-6d6f-46a2-8d0b-83050d233b42",
   "metadata": {},
   "source": [
    "### pd.concat"
   ]
  },
  {
   "cell_type": "markdown",
   "id": "874e5161-765b-462f-843c-b7f80f04a04f",
   "metadata": {},
   "source": [
    "`pd.concat(df's, axis=0, join='outer', ignore_index=False, sort=False, keys=[])` объединяет DF вдоль выбранной оси<br>\n",
    "<b>Для сохранения преобразования, записывайте его в переменную"
   ]
  },
  {
   "cell_type": "code",
   "execution_count": null,
   "id": "f0a2f620-6764-405c-bd42-8a8584d63f92",
   "metadata": {},
   "outputs": [],
   "source": [
    "import pandas as pd\n",
    "\n",
    "df1 = pd.DataFrame({\n",
    "    'Имя': ['Иван', 'Петр', 'Мария', 'Сергей'],\n",
    "    'Возраст': [25, 30, 27, 40],\n",
    "    'Рост': [175, 180, 165, 170],\n",
    "    'Вес': [75, 80, 65, 70]\n",
    "})\n",
    "\n",
    "df2 = pd.DataFrame({\n",
    "    'Имя': ['Петр', 'Анна', 'Сергей', 'Михаил'],\n",
    "    'Возраст': [30, 25, 40, 35],\n",
    "    'Рост': [180, 165, 175, 190],\n",
    "    'Зарплата': [50000, 45000, 60000, 55000]\n",
    "})\n",
    "\n",
    "pd.concat([df1, df2])"
   ]
  },
  {
   "cell_type": "markdown",
   "id": "d4be9820-ec0a-471b-900c-656e6ddbb6bd",
   "metadata": {},
   "source": [
    "Объединяемые элементы перечисляются в списке, чтобы они были единым аргументом. Так как по умолчанию ключ <i>join</i> принимает значение \"outer\", то все неизвестные значения заменены NaN"
   ]
  },
  {
   "cell_type": "code",
   "execution_count": null,
   "id": "8d07be27-e7e5-456f-84f7-6ddbd2c2d468",
   "metadata": {},
   "outputs": [],
   "source": [
    "pd.concat([df1, df2], join='inner', ignore_index=True)"
   ]
  },
  {
   "cell_type": "markdown",
   "id": "bbed6a0a-afd8-492a-94e7-a3448de9cb5f",
   "metadata": {},
   "source": [
    "Операцию можно выполнить вдоль другой оси, но в отличие от <b>pd.merge()</b>, ключи не объединяются"
   ]
  },
  {
   "cell_type": "code",
   "execution_count": null,
   "id": "5b962b88-ed7e-4682-a62f-67442800df4d",
   "metadata": {},
   "outputs": [],
   "source": [
    "pd.concat([df1, df2], axis=1)"
   ]
  },
  {
   "cell_type": "markdown",
   "id": "2aa7a14a-de6b-403b-bf3f-df4aaf9f85c7",
   "metadata": {},
   "source": [
    "Полезным элементом может оказаться добавление меток, разделяющих словари"
   ]
  },
  {
   "cell_type": "code",
   "execution_count": null,
   "id": "c7dcd1ef-828b-46bf-a796-6b95ef8037ee",
   "metadata": {},
   "outputs": [],
   "source": [
    "result = pd.concat([df1, df2], keys=['a', 'b'], ignore_index=False)\n",
    "result"
   ]
  },
  {
   "cell_type": "code",
   "execution_count": null,
   "id": "c9571501-0db2-4440-aaa0-f714003fde5b",
   "metadata": {},
   "outputs": [],
   "source": [
    "result.loc['b']"
   ]
  },
  {
   "cell_type": "markdown",
   "id": "3c7dd8e9-19b1-4596-9d8a-099e659a8aa4",
   "metadata": {},
   "source": [
    "### df.join"
   ]
  },
  {
   "cell_type": "markdown",
   "id": "4eb6ccc4-ed67-4351-9faf-eb75c610b573",
   "metadata": {},
   "source": [
    "`.join(other, on, how='left', sort=False,...)` объединяет по индексам, аналогично `pd.merge`, но является методом, а не функцией"
   ]
  },
  {
   "cell_type": "code",
   "execution_count": null,
   "id": "c15be339-b3fa-4336-803b-4563a4d46c2d",
   "metadata": {},
   "outputs": [],
   "source": [
    "import pandas as pd\n",
    "\n",
    "df1 = pd.DataFrame({\n",
    "    'Имя': ['Иван', 'Петр', 'Мария', 'Сергей'],\n",
    "    'Возраст': [25, 30, 27, 40],\n",
    "    'Рост': [175, 180, 165, 170]\n",
    "})\n",
    "\n",
    "df2 = pd.DataFrame({\n",
    "    'Зарплата': [50000, 45000, 60000, 55000]\n",
    "})\n",
    "\n",
    "df1.join(df2)"
   ]
  },
  {
   "cell_type": "markdown",
   "id": "e126ad8c-7826-470c-84e2-2ba1f43d7f2a",
   "metadata": {},
   "source": [
    "Важно отметить: нужно избегать одинаково названных столбцов. Остальные аргументы работают аналогично `pd.merge`, так как внутри она же и вызывается!"
   ]
  },
  {
   "cell_type": "code",
   "execution_count": null,
   "id": "66740159-6414-446e-8840-61ed7869faab",
   "metadata": {},
   "outputs": [],
   "source": [
    "df1 = pd.DataFrame({\n",
    "    'Имя': ['Иван', 'Петр', 'Мария', 'Сергей'],\n",
    "    'Возраст': [25, 30, 27, 40],\n",
    "    'Рост': [175, 180, 165, 170]\n",
    "})\n",
    "\n",
    "df2 = pd.DataFrame({\n",
    "    'Зарплата': [50000, 45000, 60000]\n",
    "})\n",
    "\n",
    "df1.join(df2, how='inner')"
   ]
  },
  {
   "cell_type": "code",
   "execution_count": null,
   "id": "519cb2dc-2529-49bb-be7d-f452911b65e0",
   "metadata": {},
   "outputs": [],
   "source": [
    "df1 = pd.DataFrame({\n",
    "    'Имя': ['Иван', 'Петр', 'Мария', 'Сергей', 'Валера'],\n",
    "    'Возраст': [25, 30, 27, 40, 27],\n",
    "    'Рост': [175, 180, 165, 170, 165]\n",
    "})\n",
    "\n",
    "df2 = pd.DataFrame({\n",
    "    'Зарплата': [50000, 45000, 60000, 45000]\n",
    "}, index=df1['Возраст'][:4])\n",
    "print(df2)\n",
    "\n",
    "df1.join(df2, on='Возраст')"
   ]
  },
  {
   "cell_type": "markdown",
   "id": "d1892e60-359b-48c2-8d22-2e4686efe6ed",
   "metadata": {},
   "source": [
    "В последнем примере <i>df2</i> задаётся с другими индексами, которые соответсвуют значениям из графы \"Возраст\", поэтому присоединение по ключу \"Возраст\", позволяет начислять зарплату по возрасту без необходимости прописывать её каждому участнику"
   ]
  },
  {
   "cell_type": "markdown",
   "id": "42bf8404-d522-4937-b696-25abcf2a0a7b",
   "metadata": {},
   "source": [
    "### df.assign"
   ]
  },
  {
   "cell_type": "markdown",
   "id": "8344cbaa-81a6-4fdc-8b4d-913d621b8168",
   "metadata": {},
   "source": [
    "Позволяет добавлять столбцы к DataFrame. Ключевым аргументом передаётся его название, а самим аргументом - значения"
   ]
  },
  {
   "cell_type": "code",
   "execution_count": null,
   "id": "23b8f271-5bd5-4784-ad7d-8cf93254af81",
   "metadata": {},
   "outputs": [],
   "source": [
    "df1 = pd.DataFrame({\n",
    "    'Имя': ['Иван', 'Петр', 'Мария', 'Сергей', 'Валера'],\n",
    "    'Возраст': [25, 30, 27, 40, 27],\n",
    "    'Рост': [175, 180, 165, 170, 165]\n",
    "})\n",
    "\n",
    "df1.assign(Зарплата=[50000, 45000, 60000, 45000, 50000])"
   ]
  },
  {
   "cell_type": "markdown",
   "id": "9e57bfb2-e4cf-4b0a-8410-a011efe457e0",
   "metadata": {},
   "source": [
    "### df.combine_first"
   ]
  },
  {
   "cell_type": "markdown",
   "id": "020a931a-5d64-4aec-961f-7e8b9a5907a1",
   "metadata": {},
   "source": [
    "Последнее объединение, что мы рассмотрим. `.combine_first(other)` дополняет DF, к которому применён метод, недостоющими значениями из второго"
   ]
  },
  {
   "cell_type": "code",
   "execution_count": null,
   "id": "26eacad8-5b4d-4924-9d94-ff582c833203",
   "metadata": {},
   "outputs": [],
   "source": [
    "import pandas as pd\n",
    "from numpy import nan\n",
    "\n",
    "df1 = pd.DataFrame({\n",
    "    'Имя': ['Иван', 'Петр', 'Мария', 'Сергей'],\n",
    "    'Возраст': [nan, 30, nan, 40],\n",
    "    'Рост': [175, 180, 165, 170],\n",
    "    'Вес': [75, 80, 65, 70]\n",
    "})\n",
    "\n",
    "df2 = pd.DataFrame({\n",
    "    'Имя': ['Иван', 'Петр', 'Мария', 'Сергей'],\n",
    "    'Возраст': [25, 30, 27, 40],\n",
    "})\n",
    "\n",
    "df1.combine_first(df2)"
   ]
  },
  {
   "cell_type": "markdown",
   "id": "ecc1b6a8-c455-4f24-901f-af8085dcf883",
   "metadata": {},
   "source": [
    "Отсутствующие данные возраста загрузились из другого DF"
   ]
  },
  {
   "cell_type": "markdown",
   "id": "48ebce55-c279-4e83-b6f6-9138de2ea505",
   "metadata": {},
   "source": [
    "## df.iloc"
   ]
  },
  {
   "cell_type": "markdown",
   "id": "27bf2938-39e4-471e-8af5-3984c31b694a",
   "metadata": {},
   "source": [
    "Уже всречали схожый по названию метод `.loc()`, отличие в работе с индексами. Он позволяет получать строки по индексам и срезами разбить DF на отдельные части:"
   ]
  },
  {
   "cell_type": "code",
   "execution_count": null,
   "id": "2c3a57ed-852e-4fc3-8479-eeeb2b21e545",
   "metadata": {},
   "outputs": [],
   "source": [
    "import pandas as pd\n",
    "\n",
    "data = {\n",
    "    'Город': ['Москва', 'Санкт-Петербург', 'Казань', 'Нижний Новгород', 'Екатеринбург', 'Новосибирск', 'Красноярск', 'Самара'],\n",
    "    'Население': [13, 6, 1, 2, 5, 4, 3, 7]\n",
    "}\n",
    "\n",
    "df = pd.DataFrame(data)\n",
    "df.iloc[:5]"
   ]
  },
  {
   "cell_type": "code",
   "execution_count": null,
   "id": "db171db2-8ee0-485b-9062-a4a0ce4bc932",
   "metadata": {},
   "outputs": [],
   "source": [
    "df.iloc[:5:2]"
   ]
  },
  {
   "cell_type": "markdown",
   "id": "5464302b-7739-4892-bba3-f9c9b48a2b43",
   "metadata": {},
   "source": [
    "## Группировка"
   ]
  },
  {
   "cell_type": "markdown",
   "id": "887e7316-d12a-4eb6-908b-3354596450e1",
   "metadata": {},
   "source": [
    "Перейдём к более интересным вариантам. Представим эксперимент, в ходе которго некоторые параметры фиксируются (температура поле, ...). Значит, нас интересуют измерения при отдельных значениях данных постоянных. Метод `.groupby(by, ...)` сортирует df по группам, к которым можно применить ряд операций: суммирование элементов группы(`.sum()`), нахождение среднего(`.mean()`), их количества(`.count()`), минимума(`.min()`) и максимума(`.max()`)"
   ]
  },
  {
   "cell_type": "code",
   "execution_count": null,
   "id": "d00df2a1-0c80-4381-9c05-8c2789277e47",
   "metadata": {},
   "outputs": [],
   "source": [
    "data = {'H': [1, 1, 1, 1, 2, 2, 2, 3],\n",
    "        'T': [56, 56, 60, 60, 60, 60, 60, 76],\n",
    "        'U': [0, 0, 0.1, 0.12, 0.5, 0.52, 0.54, 1.3]}\n",
    "df = pd.DataFrame(data)\n",
    "print(df, '\\n')\n",
    "\n",
    "print(df.groupby(['H', 'T']).mean(), '\\n')\n",
    "print(df.groupby(['H', 'T']).mean()['U'])"
   ]
  },
  {
   "cell_type": "markdown",
   "id": "d7caf6c4-a447-455a-96d1-eaeb1eba3c7b",
   "metadata": {},
   "source": [
    "Применив метод к двум столбцам, получили результат операции для каждой вариации параметров. Обратите внимание - поле и температура стали индексами<br>\n",
    "При необходимости можно применять несколько методов к одной группе или отдельно к столбцам методом `.agg()`:"
   ]
  },
  {
   "cell_type": "code",
   "execution_count": null,
   "id": "63932665-e3ac-4bfe-acf3-84b0ef196b62",
   "metadata": {},
   "outputs": [],
   "source": [
    "print(df.groupby('H').agg({'T': 'mean',\n",
    "                           'U': 'max'}), '\\n')\n",
    "print(df.groupby('H').agg({'T': ['mean', 'min', 'max']}))"
   ]
  },
  {
   "cell_type": "markdown",
   "id": "10796d4d-cff1-4816-b7fc-9ea3150b7119",
   "metadata": {},
   "source": [
    "Здесь же упомянем об `.apply(func, axis=0)`, в котором можем передать функцию, применяемую к каждой группе. При <i>axis=1</i> можно выполнять построчные опреации:"
   ]
  },
  {
   "cell_type": "code",
   "execution_count": null,
   "id": "edde568c-84b0-4b6e-b786-75e23c670e13",
   "metadata": {},
   "outputs": [],
   "source": [
    "def error(group):\n",
    "    return group['U'].max() - group['U'].min()\n",
    "\n",
    "grouped = df.groupby(['H', 'T'])\n",
    "print(grouped[['U']].apply(error))\n",
    "\n",
    "df.apply(lambda row: row['H']*row['T'], axis=1)"
   ]
  },
  {
   "cell_type": "markdown",
   "id": "c69f66b1-ae81-4620-bfc4-f7c26ca390cc",
   "metadata": {},
   "source": [
    "## Маскировка"
   ]
  },
  {
   "cell_type": "markdown",
   "id": "dc2803ba-7c24-49f5-b7d0-0215806ca0fb",
   "metadata": {},
   "source": [
    "Порой нам требуется зафиксировать попадание значения в какой-то диапазон или выход из него, причём нам не важно насколько. В таких случаях пригодятся методы `.where(condition, other, inplace=False,...)`, `.mask(condition, other, inplace=False,...)`. Они проверяют каждое значение на соответсвие условию и в случаи несовпадения или совпадения соответственно заменяют его на NaN или указанное вторым аргументом число "
   ]
  },
  {
   "cell_type": "code",
   "execution_count": null,
   "id": "3c6f9f97-1fe9-4037-a69a-93175948a613",
   "metadata": {},
   "outputs": [],
   "source": [
    "data = {'H': [1, 1, 1, 1, 2, 2, 2, 3],\n",
    "        'T': [56, 56, 60, 60, 60, 60, 60, 76],\n",
    "        'U': [0, 0, 0.1, 0.12, 0.5, 0.52, 0.54, 1.3]}\n",
    "df = pd.DataFrame(data)\n",
    "print(df, '\\n')\n",
    "\n",
    "df.mask(df['U'] > 0.5, 1, inplace=True)\n",
    "print(df, '\\n')\n",
    "df.where(df['U'] <= 0.5, 1, inplace=True)\n",
    "print(df)"
   ]
  }
 ],
 "metadata": {
  "kernelspec": {
   "display_name": "Python 3 (ipykernel)",
   "language": "python",
   "name": "python3"
  },
  "language_info": {
   "codemirror_mode": {
    "name": "ipython",
    "version": 3
   },
   "file_extension": ".py",
   "mimetype": "text/x-python",
   "name": "python",
   "nbconvert_exporter": "python",
   "pygments_lexer": "ipython3",
   "version": "3.12.4"
  }
 },
 "nbformat": 4,
 "nbformat_minor": 5
}
