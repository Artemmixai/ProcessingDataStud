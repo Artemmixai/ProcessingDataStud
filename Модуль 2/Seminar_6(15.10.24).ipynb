{
 "cells": [
  {
   "cell_type": "markdown",
   "id": "ca60b3ec-bb5e-4804-ac7b-7a747d26359e",
   "metadata": {},
   "source": [
    "# Работа с .csv файлами"
   ]
  },
  {
   "cell_type": "markdown",
   "id": "996e58a6",
   "metadata": {},
   "source": [
    "Рассмотрим обработку однотипных экспериментальных результатов. \n",
    "\n",
    "Сгененрируем словарь с данными и на его основе запишем несколько схожих файлов, названия которых будут меняться в f-строке. Температура `T` и напряжение `U` будут иметь фиксированный набор значений, а значения тока `I` будут генерироваться рандомным образом в пределах от 0 до $10\\cdot \\mathrm{I^{0.5}}$.  \n",
    "\n",
    "Файлы с таким типом названий чаще всего возникают при повторяющихся экспериментах, или, когда один из парметров эксперимента последовательно изменяется."
   ]
  },
  {
   "cell_type": "code",
   "execution_count": 3,
   "id": "34998361-c046-45e7-9ed9-00d5a8a075a9",
   "metadata": {},
   "outputs": [],
   "source": [
    "from random import randint\n",
    "import pandas as pd"
   ]
  },
  {
   "cell_type": "code",
   "execution_count": 4,
   "id": "c6e6b2ce-0ebe-46df-90aa-1301cdbaa1ec",
   "metadata": {},
   "outputs": [],
   "source": [
    "for i in range(3):\n",
    "    data = {'T': [300, 300, 300, 250, 250, 220, 200, 200, 200, 150, 150, 150, 150, 100],\n",
    "            'U': list(range(14)),\n",
    "            'I': [randint(0, int(pow(j*10, 0.5))) for j in range(14)]}\n",
    "    pd.DataFrame(data).to_csv(f'Data_{i+1}.csv', index=False, mode='w')"
   ]
  },
  {
   "cell_type": "markdown",
   "id": "3617a5c7-6b60-49a2-a128-98dca543c29e",
   "metadata": {},
   "source": [
    "Куда интереснее перейти к чтению такой последовательности. Предположим,что были проведены несколько измерений при равных параметрах, но в разное время. От нас требуется вычислить среднее значение тока, определить разброс значений тока для каждой группы параметров с одинаковыми значениями температуры и напряжения.<br>\n",
    "\n",
    "Задача облегчается тем, что и температура, и напряжения в каждом файле одинаковы. Есть 2 глобальных подхода: сначала читать все файлы и объединить их в один df, и уже после обрабатывать; или читать и обрабатывать файлы поотдельности, после чего сводить к одному. Выбор зависит и от данных, и от задачи - сделайте его сами.\n",
    "\n",
    "Пример группы данных: \n",
    "\n",
    "`T = 1, U = 1 => I = [1,2,3,4]`\n",
    "\n",
    "`T = 1, U = 2 => I = [4,4,4,4]`"
   ]
  },
  {
   "cell_type": "markdown",
   "id": "563ef5a6-d42e-4261-86c2-c31f402d1dcf",
   "metadata": {},
   "source": [
    "Независимо от выбора, нам понадобится блок чтения файлов, блок разбиения по группам и вычисления требуемых величин. Отработаем их для первого файла в виде отдельных функций, принимающих DataFrame.\n",
    "\n",
    "Мы сделаем вариант чтения одного файла, понимая, как перейти от него к  последовательной работе со всеми файлами. "
   ]
  },
  {
   "cell_type": "code",
   "execution_count": 8,
   "id": "3713bf64-beda-4ad7-9ac2-34eb22fd7733",
   "metadata": {},
   "outputs": [],
   "source": [
    "def read_csv(file_name: str):\n",
    "    return pd.read_csv(file_name + '.csv', skip_blank_lines=True, encoding='utf-8')"
   ]
  },
  {
   "cell_type": "markdown",
   "id": "bf5defd8-231a-464b-b871-278a36b44c8c",
   "metadata": {},
   "source": [
    "Получив группы, можем вычислить среднее значение и разброс значений тока, но подход к этому зависит от выбранного пути реализации: <br>\n",
    "1) Если работать с общим файлом, то сразу можно получить требуемые значения\n",
    "2) В ином случаи лучше получать компоненты для вычисления средного значения (сумма элементов и их количество), а уже после этими параметрами проводить операции итогового рассчёта<br>\n",
    "\n",
    "Предлагаем, вам реализовать свои подходы самостоятельно."
   ]
  },
  {
   "cell_type": "code",
   "execution_count": 11,
   "id": "cc0c9fe9-cc33-4829-b066-48bb26c0381d",
   "metadata": {},
   "outputs": [
    {
     "data": {
      "text/html": [
       "<div>\n",
       "<style scoped>\n",
       "    .dataframe tbody tr th:only-of-type {\n",
       "        vertical-align: middle;\n",
       "    }\n",
       "\n",
       "    .dataframe tbody tr th {\n",
       "        vertical-align: top;\n",
       "    }\n",
       "\n",
       "    .dataframe thead th {\n",
       "        text-align: right;\n",
       "    }\n",
       "</style>\n",
       "<table border=\"1\" class=\"dataframe\">\n",
       "  <thead>\n",
       "    <tr style=\"text-align: right;\">\n",
       "      <th></th>\n",
       "      <th></th>\n",
       "      <th>mean</th>\n",
       "      <th>dif</th>\n",
       "    </tr>\n",
       "    <tr>\n",
       "      <th>T</th>\n",
       "      <th>U</th>\n",
       "      <th></th>\n",
       "      <th></th>\n",
       "    </tr>\n",
       "  </thead>\n",
       "  <tbody>\n",
       "    <tr>\n",
       "      <th>100</th>\n",
       "      <th>13</th>\n",
       "      <td>6.333333</td>\n",
       "      <td>8</td>\n",
       "    </tr>\n",
       "    <tr>\n",
       "      <th rowspan=\"4\" valign=\"top\">150</th>\n",
       "      <th>9</th>\n",
       "      <td>3.000000</td>\n",
       "      <td>2</td>\n",
       "    </tr>\n",
       "    <tr>\n",
       "      <th>10</th>\n",
       "      <td>5.666667</td>\n",
       "      <td>10</td>\n",
       "    </tr>\n",
       "    <tr>\n",
       "      <th>11</th>\n",
       "      <td>6.000000</td>\n",
       "      <td>8</td>\n",
       "    </tr>\n",
       "    <tr>\n",
       "      <th>12</th>\n",
       "      <td>2.666667</td>\n",
       "      <td>8</td>\n",
       "    </tr>\n",
       "    <tr>\n",
       "      <th rowspan=\"3\" valign=\"top\">200</th>\n",
       "      <th>6</th>\n",
       "      <td>3.333333</td>\n",
       "      <td>7</td>\n",
       "    </tr>\n",
       "    <tr>\n",
       "      <th>7</th>\n",
       "      <td>3.666667</td>\n",
       "      <td>4</td>\n",
       "    </tr>\n",
       "    <tr>\n",
       "      <th>8</th>\n",
       "      <td>6.666667</td>\n",
       "      <td>1</td>\n",
       "    </tr>\n",
       "    <tr>\n",
       "      <th>220</th>\n",
       "      <th>5</th>\n",
       "      <td>4.666667</td>\n",
       "      <td>4</td>\n",
       "    </tr>\n",
       "    <tr>\n",
       "      <th rowspan=\"2\" valign=\"top\">250</th>\n",
       "      <th>3</th>\n",
       "      <td>1.000000</td>\n",
       "      <td>2</td>\n",
       "    </tr>\n",
       "    <tr>\n",
       "      <th>4</th>\n",
       "      <td>4.333333</td>\n",
       "      <td>2</td>\n",
       "    </tr>\n",
       "    <tr>\n",
       "      <th rowspan=\"3\" valign=\"top\">300</th>\n",
       "      <th>0</th>\n",
       "      <td>0.000000</td>\n",
       "      <td>0</td>\n",
       "    </tr>\n",
       "    <tr>\n",
       "      <th>1</th>\n",
       "      <td>0.666667</td>\n",
       "      <td>1</td>\n",
       "    </tr>\n",
       "    <tr>\n",
       "      <th>2</th>\n",
       "      <td>2.333333</td>\n",
       "      <td>1</td>\n",
       "    </tr>\n",
       "  </tbody>\n",
       "</table>\n",
       "</div>"
      ],
      "text/plain": [
       "            mean  dif\n",
       "T   U                \n",
       "100 13  6.333333    8\n",
       "150 9   3.000000    2\n",
       "    10  5.666667   10\n",
       "    11  6.000000    8\n",
       "    12  2.666667    8\n",
       "200 6   3.333333    7\n",
       "    7   3.666667    4\n",
       "    8   6.666667    1\n",
       "220 5   4.666667    4\n",
       "250 3   1.000000    2\n",
       "    4   4.333333    2\n",
       "300 0   0.000000    0\n",
       "    1   0.666667    1\n",
       "    2   2.333333    1"
      ]
     },
     "execution_count": 11,
     "metadata": {},
     "output_type": "execute_result"
    }
   ],
   "source": [
    "for i in range(3):\n",
    "    df = read_csv(f'Data_{i+1}') if i == 0 else pd.concat([df, read_csv(f'Data_{i+1}')], ignore_index=True)\n",
    "\n",
    "group = df.groupby(['T', 'U'])\n",
    "answer_1 = group.mean().rename(columns={'I': 'mean'})\n",
    "answer_2 = group.max() - group.min()\n",
    "\n",
    "answer_1 = answer_1.assign(dif=answer_2['I'])\n",
    "answer_1"
   ]
  },
  {
   "cell_type": "markdown",
   "id": "bf554fd1-d73b-475d-9b5d-c05fb4a32397",
   "metadata": {},
   "source": [
    "Нельзя не попробовать второй способ🙃"
   ]
  },
  {
   "cell_type": "code",
   "execution_count": 12,
   "id": "f85b27a3-1773-4a1a-97c8-bd7e2a57fc1a",
   "metadata": {},
   "outputs": [
    {
     "data": {
      "text/html": [
       "<div>\n",
       "<style scoped>\n",
       "    .dataframe tbody tr th:only-of-type {\n",
       "        vertical-align: middle;\n",
       "    }\n",
       "\n",
       "    .dataframe tbody tr th {\n",
       "        vertical-align: top;\n",
       "    }\n",
       "\n",
       "    .dataframe thead th {\n",
       "        text-align: right;\n",
       "    }\n",
       "</style>\n",
       "<table border=\"1\" class=\"dataframe\">\n",
       "  <thead>\n",
       "    <tr style=\"text-align: right;\">\n",
       "      <th></th>\n",
       "      <th></th>\n",
       "      <th>count</th>\n",
       "      <th>sum</th>\n",
       "      <th>max</th>\n",
       "      <th>min</th>\n",
       "      <th>mean</th>\n",
       "      <th>dif</th>\n",
       "    </tr>\n",
       "    <tr>\n",
       "      <th>T</th>\n",
       "      <th>U</th>\n",
       "      <th></th>\n",
       "      <th></th>\n",
       "      <th></th>\n",
       "      <th></th>\n",
       "      <th></th>\n",
       "      <th></th>\n",
       "    </tr>\n",
       "  </thead>\n",
       "  <tbody>\n",
       "    <tr>\n",
       "      <th>100</th>\n",
       "      <th>13</th>\n",
       "      <td>3</td>\n",
       "      <td>19</td>\n",
       "      <td>11</td>\n",
       "      <td>3</td>\n",
       "      <td>6.333333</td>\n",
       "      <td>8.0</td>\n",
       "    </tr>\n",
       "    <tr>\n",
       "      <th rowspan=\"4\" valign=\"top\">150</th>\n",
       "      <th>9</th>\n",
       "      <td>3</td>\n",
       "      <td>9</td>\n",
       "      <td>4</td>\n",
       "      <td>2</td>\n",
       "      <td>3.000000</td>\n",
       "      <td>2.0</td>\n",
       "    </tr>\n",
       "    <tr>\n",
       "      <th>10</th>\n",
       "      <td>3</td>\n",
       "      <td>17</td>\n",
       "      <td>10</td>\n",
       "      <td>0</td>\n",
       "      <td>5.666667</td>\n",
       "      <td>10.0</td>\n",
       "    </tr>\n",
       "    <tr>\n",
       "      <th>11</th>\n",
       "      <td>3</td>\n",
       "      <td>18</td>\n",
       "      <td>10</td>\n",
       "      <td>2</td>\n",
       "      <td>6.000000</td>\n",
       "      <td>8.0</td>\n",
       "    </tr>\n",
       "    <tr>\n",
       "      <th>12</th>\n",
       "      <td>3</td>\n",
       "      <td>8</td>\n",
       "      <td>8</td>\n",
       "      <td>0</td>\n",
       "      <td>2.666667</td>\n",
       "      <td>8.0</td>\n",
       "    </tr>\n",
       "    <tr>\n",
       "      <th rowspan=\"3\" valign=\"top\">200</th>\n",
       "      <th>6</th>\n",
       "      <td>3</td>\n",
       "      <td>10</td>\n",
       "      <td>7</td>\n",
       "      <td>0</td>\n",
       "      <td>3.333333</td>\n",
       "      <td>7.0</td>\n",
       "    </tr>\n",
       "    <tr>\n",
       "      <th>7</th>\n",
       "      <td>3</td>\n",
       "      <td>11</td>\n",
       "      <td>5</td>\n",
       "      <td>1</td>\n",
       "      <td>3.666667</td>\n",
       "      <td>4.0</td>\n",
       "    </tr>\n",
       "    <tr>\n",
       "      <th>8</th>\n",
       "      <td>3</td>\n",
       "      <td>20</td>\n",
       "      <td>7</td>\n",
       "      <td>6</td>\n",
       "      <td>6.666667</td>\n",
       "      <td>1.0</td>\n",
       "    </tr>\n",
       "    <tr>\n",
       "      <th>220</th>\n",
       "      <th>5</th>\n",
       "      <td>3</td>\n",
       "      <td>14</td>\n",
       "      <td>6</td>\n",
       "      <td>2</td>\n",
       "      <td>4.666667</td>\n",
       "      <td>4.0</td>\n",
       "    </tr>\n",
       "    <tr>\n",
       "      <th rowspan=\"2\" valign=\"top\">250</th>\n",
       "      <th>3</th>\n",
       "      <td>3</td>\n",
       "      <td>3</td>\n",
       "      <td>2</td>\n",
       "      <td>0</td>\n",
       "      <td>1.000000</td>\n",
       "      <td>2.0</td>\n",
       "    </tr>\n",
       "    <tr>\n",
       "      <th>4</th>\n",
       "      <td>3</td>\n",
       "      <td>13</td>\n",
       "      <td>5</td>\n",
       "      <td>3</td>\n",
       "      <td>4.333333</td>\n",
       "      <td>2.0</td>\n",
       "    </tr>\n",
       "    <tr>\n",
       "      <th rowspan=\"3\" valign=\"top\">300</th>\n",
       "      <th>0</th>\n",
       "      <td>3</td>\n",
       "      <td>0</td>\n",
       "      <td>0</td>\n",
       "      <td>0</td>\n",
       "      <td>0.000000</td>\n",
       "      <td>0.0</td>\n",
       "    </tr>\n",
       "    <tr>\n",
       "      <th>1</th>\n",
       "      <td>3</td>\n",
       "      <td>2</td>\n",
       "      <td>1</td>\n",
       "      <td>0</td>\n",
       "      <td>0.666667</td>\n",
       "      <td>1.0</td>\n",
       "    </tr>\n",
       "    <tr>\n",
       "      <th>2</th>\n",
       "      <td>3</td>\n",
       "      <td>7</td>\n",
       "      <td>3</td>\n",
       "      <td>2</td>\n",
       "      <td>2.333333</td>\n",
       "      <td>1.0</td>\n",
       "    </tr>\n",
       "  </tbody>\n",
       "</table>\n",
       "</div>"
      ],
      "text/plain": [
       "        count  sum  max  min      mean   dif\n",
       "T   U                                       \n",
       "100 13      3   19   11    3  6.333333   8.0\n",
       "150 9       3    9    4    2  3.000000   2.0\n",
       "    10      3   17   10    0  5.666667  10.0\n",
       "    11      3   18   10    2  6.000000   8.0\n",
       "    12      3    8    8    0  2.666667   8.0\n",
       "200 6       3   10    7    0  3.333333   7.0\n",
       "    7       3   11    5    1  3.666667   4.0\n",
       "    8       3   20    7    6  6.666667   1.0\n",
       "220 5       3   14    6    2  4.666667   4.0\n",
       "250 3       3    3    2    0  1.000000   2.0\n",
       "    4       3   13    5    3  4.333333   2.0\n",
       "300 0       3    0    0    0  0.000000   0.0\n",
       "    1       3    2    1    0  0.666667   1.0\n",
       "    2       3    7    3    2  2.333333   1.0"
      ]
     },
     "execution_count": 12,
     "metadata": {},
     "output_type": "execute_result"
    }
   ],
   "source": [
    "def read_csv(file_name: str):\n",
    "    return pd.read_csv(file_name + '.csv', skip_blank_lines=True, encoding='utf-8')\n",
    "\n",
    "for i in range(3):\n",
    "    group = read_csv(f'Data_{i+1}').groupby(['T', 'U'])\n",
    "    answer = group.count().rename(columns={'I': 'count'})\n",
    "    answer = answer.assign(sum=group.sum())\n",
    "    answer = answer.assign(max=group.max())\n",
    "    answer = answer.assign(min=group.min())\n",
    "\n",
    "    if i == 0:\n",
    "        result = answer\n",
    "    else:\n",
    "        result['count'] += answer['count'] \n",
    "        result['sum'] += answer['sum']\n",
    "        result['max'] = answer['max'].combine(result['max'], lambda x, y: max(x, y))\n",
    "        result['min'] = answer['min'].combine(result['min'], lambda x, y: min(x, y))\n",
    "\n",
    "result['mean'] = result.apply(lambda row: row['sum'] / row['count'], axis=1)\n",
    "result['dif'] = result.apply(lambda row: row['max'] - row['min'], axis=1)\n",
    "result"
   ]
  },
  {
   "cell_type": "markdown",
   "id": "704b0800-98ac-49c6-a733-d9caa13bd034",
   "metadata": {},
   "source": [
    "Вариант с обработкой сразу более дружелюбен при работе с огромными файлами, а также позволяет обрабатывать данные по ходу эксперимента! Во время экзамена можно применять любой подход, но последний ценится больше."
   ]
  },
  {
   "cell_type": "markdown",
   "id": "8f7fc8b1-12ab-4377-baab-3f1be2124b88",
   "metadata": {},
   "source": [
    "##### Еще некоторые функции полезные для полусеместрового контроля:"
   ]
  },
  {
   "cell_type": "markdown",
   "id": "03541726",
   "metadata": {},
   "source": [
    "Построение простого графика. Нам понадобяться одинаковые по длинне массивы `x` и `y`"
   ]
  },
  {
   "cell_type": "code",
   "execution_count": 1,
   "id": "a44cfc31-9d3b-490e-899f-74321d3e4f9d",
   "metadata": {},
   "outputs": [
    {
     "name": "stdout",
     "output_type": "stream",
     "text": [
      "x = [1, 2, 3, 4, 5, 6, 7, 8, 9, 10]\n",
      " y = [1, 4, 9, 16, 25, 36, 49, 64, 81, 100]\n"
     ]
    }
   ],
   "source": [
    "x = list(range(1, 11))\n",
    "y = [i*i for i in x]\n",
    "\n",
    "print(f'x = {x}\\n',\n",
    "      f'y = {y}')"
   ]
  },
  {
   "cell_type": "markdown",
   "id": "728b2e37",
   "metadata": {},
   "source": [
    "Теперь передадим их в функцию `plt.plot(x, y)`"
   ]
  },
  {
   "cell_type": "code",
   "execution_count": 2,
   "id": "8733a92e",
   "metadata": {},
   "outputs": [
    {
     "data": {
      "text/plain": [
       "[<matplotlib.lines.Line2D at 0x22e780f8260>]"
      ]
     },
     "execution_count": 2,
     "metadata": {},
     "output_type": "execute_result"
    },
    {
     "data": {
      "image/png": "[encoded data removed]",
      "text/plain": [
       "<Figure size 640x480 with 1 Axes>"
      ]
     },
     "metadata": {},
     "output_type": "display_data"
    }
   ],
   "source": [
    "import matplotlib.pyplot as plt\n",
    "\n",
    "plt.plot(x, y)"
   ]
  },
  {
   "cell_type": "markdown",
   "id": "5d7911e7",
   "metadata": {},
   "source": [
    "В задаче понадобится вычислить логарифм от чисел по некоторому основанию, для этого есть несколько вариантов:\n",
    "\n",
    "1) Импортировать стандартную функцию `math.log(Number, Base)`"
   ]
  },
  {
   "cell_type": "code",
   "execution_count": 8,
   "id": "17f4b31c",
   "metadata": {},
   "outputs": [
    {
     "data": {
      "text/plain": [
       "3.0"
      ]
     },
     "execution_count": 8,
     "metadata": {},
     "output_type": "execute_result"
    }
   ],
   "source": [
    "import math\n",
    "\n",
    "math.log(8, 2)"
   ]
  },
  {
   "cell_type": "markdown",
   "id": "9f18a242",
   "metadata": {},
   "source": [
    "2) Использовать стороннюю функцию, работающую с целыми массивами `np.emath.logn(Base, Numbers)`"
   ]
  },
  {
   "cell_type": "code",
   "execution_count": 11,
   "id": "fdcac170",
   "metadata": {},
   "outputs": [
    {
     "name": "stdout",
     "output_type": "stream",
     "text": [
      "3.0\n",
      "[4. 2. 2.]\n"
     ]
    }
   ],
   "source": [
    "import numpy as np\n",
    "\n",
    "print(np.emath.logn(2, 8))\n",
    "print(np.emath.logn([2, 4, 6], [16, 16, 36]))"
   ]
  }
 ],
 "metadata": {
  "kernelspec": {
   "display_name": "Python 3",
   "language": "python",
   "name": "python3"
  },
  "language_info": {
   "codemirror_mode": {
    "name": "ipython",
    "version": 3
   },
   "file_extension": ".py",
   "mimetype": "text/x-python",
   "name": "python",
   "nbconvert_exporter": "python",
   "pygments_lexer": "ipython3",
   "version": "3.12.5"
  }
 },
 "nbformat": 4,
 "nbformat_minor": 5
}
