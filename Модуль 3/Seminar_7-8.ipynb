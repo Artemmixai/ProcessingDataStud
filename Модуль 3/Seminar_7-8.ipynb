{
 "cells": [
  {
   "cell_type": "markdown",
   "metadata": {},
   "source": [
    "# Выполнение операций над массивами и таблицами с помощью модуля `Numpy`"
   ]
  },
  {
   "cell_type": "markdown",
   "metadata": {},
   "source": [
    "Приведу таблицу некоторых методов массивов `Numpy`, которые выполняют действия с содержимым\n",
    "\n",
    "|Метод |Описание: поэлементное... |\n",
    "|---|:-|\n",
    "|`.sort(axis=1)`|Сортировка массива\n",
    "|`.sum(axis)`|Суммирование по осям\n",
    "|`.max(axis)`|Поиск максимального элемента\n",
    "|`.average(axis)`|Поиск среднего значения\n",
    "|`.prod(axis)`|Произведение\n",
    "|`.argmin(axis)`|Получение индекса минимального элемента\n",
    "\n",
    "И методы преобразования массивов в целом\n",
    "\n",
    "|Метод |Описание: |Пример |\n",
    "|---|:-|:-|\n",
    "|`.reshape(form)`|Изменение формы таблицы|`form=(3, 4) -> таблица в 3 строки, 4 столбца`|\n",
    "|`.transpose()`|Транспонирование матрицы||\n",
    "|`.tolist()`|Преобразование в список\n",
    "|`.linspace(start, stop, num=50)`|Массив в переделах от старт до стоп с числом элементов num |`.linspace(1,4,5) => array([1.,1.75,2.5, 3.25, 4.])`|\n",
    "\n"
   ]
  },
  {
   "cell_type": "markdown",
   "metadata": {},
   "source": [
    "*Упражнение 7.1* Создайте массив current из 10 элементам в пределах от 10 до 25. Массив voltage в пределах от -5 дло 5 такой же длины. А также массив resistance длинной 10 и заполенный нулями. \n",
    "\n"
   ]
  },
  {
   "cell_type": "code",
   "execution_count": null,
   "metadata": {},
   "outputs": [],
   "source": [
    "import numpy as np\n",
    "\n",
    "..."
   ]
  },
  {
   "cell_type": "markdown",
   "metadata": {},
   "source": [
    "Округлите значения в массивах current и voltage до двух значищих цифр. Для каждой пары элементов из массивов current и voltage расчитайте значение сопротивления и запишите его в массив resistance"
   ]
  },
  {
   "cell_type": "code",
   "execution_count": null,
   "metadata": {},
   "outputs": [],
   "source": []
  },
  {
   "cell_type": "markdown",
   "metadata": {},
   "source": [
    "Отсортируйте массив resistance по возрастанию и определите среднее значение сопротивления. \n"
   ]
  },
  {
   "cell_type": "code",
   "execution_count": null,
   "metadata": {},
   "outputs": [],
   "source": []
  },
  {
   "cell_type": "markdown",
   "metadata": {},
   "source": [
    "К каждому элементу получившегося массива resitance прибавьте noise (рандомно сгенированное число в предлах от 0 до 2) и определите максимальное значение элемента массива."
   ]
  },
  {
   "cell_type": "code",
   "execution_count": null,
   "metadata": {},
   "outputs": [],
   "source": []
  },
  {
   "cell_type": "markdown",
   "metadata": {},
   "source": [
    "Из трех полученных массивов (voltage, current, resistance) создайте двумерный массив measure"
   ]
  },
  {
   "cell_type": "code",
   "execution_count": null,
   "metadata": {},
   "outputs": [],
   "source": []
  },
  {
   "cell_type": "markdown",
   "metadata": {},
   "source": [
    "Выведите первые 5 значений тока и последние 10 значений сопротивления."
   ]
  },
  {
   "cell_type": "code",
   "execution_count": null,
   "metadata": {},
   "outputs": [],
   "source": []
  },
  {
   "cell_type": "markdown",
   "metadata": {},
   "source": [
    "# Выполнение операций над массивами и таблицами с помощью модуля `Scipy`"
   ]
  },
  {
   "cell_type": "markdown",
   "metadata": {},
   "source": [
    "В лекции упоминали функцию `scipy.optimize.minimize()`, находящую минимальное значение функции. <br><br>\n",
    "\n",
    "_Упражнение 7.2_ Найдите такие x и y, при которых функция $z = x^2 +3\\cdot y$ принимает значение наиболее близкое к 29102024.\n",
    "\n"
   ]
  },
  {
   "cell_type": "code",
   "execution_count": 6,
   "metadata": {},
   "outputs": [],
   "source": [
    "from scipy.optimize import minimize\n",
    "\n",
    "func = lambda x, y: x**2 + 3 * y\n",
    "z = 291024\n",
    "\n",
    "...\n",
    "\n"
   ]
  },
  {
   "cell_type": "markdown",
   "metadata": {},
   "source": [
    "*Упражнение 7.3* Теперь воспользуемся часто используемым иснтрументом восстановление функций - `curve_fit`. Имеется набор точек  `y`, найдите функцию описывающую эти данные. Вид функции и количество параметров выберите самостоятельно."
   ]
  },
  {
   "cell_type": "code",
   "execution_count": 5,
   "metadata": {},
   "outputs": [
    {
     "data": {
      "image/png": "[encoded data removed]",
      "text/plain": [
       "<Figure size 640x480 with 1 Axes>"
      ]
     },
     "metadata": {},
     "output_type": "display_data"
    }
   ],
   "source": [
    "from scipy.optimize import curve_fit\n",
    "import matplotlib.pyplot as plt\n",
    "import numpy as np\n",
    "\n",
    "x = np.linspace(0, 15, 50)\n",
    "y = [20.0, 19.810587347203167, 19.609215643393156, 19.39512982337752, 19.16752714899677, 18.92555419916998, 18.668303669899267, 18.39481097223437, 18.10405061544105, 17.794932361811604, 17.466297138699534, 17.116912692450082, 16.745468967930613, 16.350573196335816, 15.930744672849016, 15.484409204577744, 15.009893207945613, 14.50541743340794, 13.969090293961294, 13.398900772431475, 12.792710880945009, 12.148247644310189, 11.463094577248356, 10.7346826235185, 9.96028052296035, 9.13698457033614, 8.261707727570782, 7.3311680485654875, 6.341876373182487, 5.290123244258115, 4.171964998588095, 2.9832089797317423, 1.7193978171887885, 0.37579271300199935, -1.0526443268832466, -2.571269383127813, -4.185776706208038, -5.902220067629777, -7.727035459205652, -9.66706522550917, -11.72958371999281, -13.92232458097066, -16.253509729739783, -18.73188019957189, -21.366728911172096, -24.167935517499785, -27.146003448606336, -30.312099295392898, -33.67809467996242, -37.256610769563004]\n",
    "\n",
    "# func = ...\n",
    "# fitted = ...\n",
    "# print(fitted[0])\n",
    "# y_fitted = func(x, *fitted[0])\n",
    "\n",
    "plt.scatter(x, y)\n",
    "# plt.plot(x, y_fitted,'r) #визуализация результата\n",
    "plt.show()\n"
   ]
  },
  {
   "cell_type": "markdown",
   "metadata": {},
   "source": [
    "Дополнительно расчитайте максимальное отклонение от начальных точек"
   ]
  },
  {
   "cell_type": "code",
   "execution_count": null,
   "metadata": {},
   "outputs": [],
   "source": [
    "...\n",
    "print('Максимальное отклонение:', ...)"
   ]
  },
  {
   "cell_type": "markdown",
   "metadata": {},
   "source": [
    "**Задание 3.1** На основе данных из *.txt* файла:<br>\n",
    "- Получить функцию, описывающую экспериментальную зависимость\n",
    "- Вычислить среднее отклонение(среднюю относительную погрешность) точек от получившейся \n",
    "- Найти точку пересечения этой функции осью абсцисс\n",
    "\n",
    "Вид этой функции должен явно выводиться с неизвестным *x*. На отдельной строке сообщение о величине отклонения в процентах и на следующей - ноль функции"
   ]
  }
 ],
 "metadata": {
  "kernelspec": {
   "display_name": "Python 3",
   "language": "python",
   "name": "python3"
  },
  "language_info": {
   "codemirror_mode": {
    "name": "ipython",
    "version": 3
   },
   "file_extension": ".py",
   "mimetype": "text/x-python",
   "name": "python",
   "nbconvert_exporter": "python",
   "pygments_lexer": "ipython3",
   "version": "3.11.9"
  }
 },
 "nbformat": 4,
 "nbformat_minor": 2
}
