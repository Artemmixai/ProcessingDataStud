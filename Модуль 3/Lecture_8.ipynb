{
 "cells": [
  {
   "cell_type": "markdown",
   "metadata": {},
   "source": [
    "# Выполнение операций над массивами и таблицами с помощью модуля `Scipy`"
   ]
  },
  {
   "cell_type": "markdown",
   "metadata": {},
   "source": [
    "Как и `Pandas`, `Scipy` основан на библиотеке `NumPy`, что оставляет возможность работать с элементами последовательностей, как с массивами. При этом, появляются новые функции, расширяющие возможности взаимодействия с этим типом данных. Нас будут интересовать операции фильтрации, интерполяции и другие, позволяющие извлечь больше информации из имеющихся данных."
   ]
  },
  {
   "cell_type": "markdown",
   "metadata": {},
   "source": [
    "Начнём, разумеется, с импорта\n",
    "~~~puthon\n",
    "import scipy\n",
    "~~~\n",
    "Одновременно с нужной нам библиотекой получаем и `NumPy`, поэтому ограничимся одной строкой"
   ]
  },
  {
   "cell_type": "markdown",
   "metadata": {},
   "source": [
    "## Специальные функции scipy.special"
   ]
  },
  {
   "cell_type": "markdown",
   "metadata": {},
   "source": [
    "Модуль включает большое количество математических функций, работа которых оптимизирована под массивы `NumPy`, приведём несколько из них (полный список https://docs.scipy.org/doc/scipy/reference/special.html#module-scipy.special):\n",
    "\n",
    "* `special.radian(degree, minutes, seconds)` - переводит меры углов из градусов в радианы. Все 3 аргумента обязательны\n",
    "* `exp2(power)`, `exp10(power)` - возводят 2 и 10 в указанную степень\n",
    "* `round(float)` - округляет число к ближайшему целому\n",
    "* `sindg(degree)`, `cosdg(degree)` - вычисление тригонометрии от углов"
   ]
  },
  {
   "cell_type": "code",
   "execution_count": 14,
   "metadata": {},
   "outputs": [
    {
     "name": "stdout",
     "output_type": "stream",
     "text": [
      "1.5707963267948966 == 1.5707963267948966\n",
      "16.0 == 16.0\n",
      "2.0 == 2\n",
      "0.7071067811865476 == 0.7071067811865476\n",
      "-0.7071067811865476 == -0.7071067811865475\n"
     ]
    }
   ],
   "source": [
    "from scipy import special\n",
    "import math\n",
    "\n",
    "print(special.radian(90, 0, 0), '==',math.pi/2)\n",
    "print(special.exp2(4), '==', 2.**4)\n",
    "print(special.round(2.5), '==', round(2.5))\n",
    "print(special.sindg(45), '==', math.sin(math.pi/4))\n",
    "print(special.cosdg(135), '==', math.cos(3*math.pi/4))"
   ]
  },
  {
   "cell_type": "markdown",
   "metadata": {},
   "source": [
    "Основные преимущества в использовании данных функций в быстродействии и возможности применения к массивам"
   ]
  },
  {
   "cell_type": "code",
   "execution_count": 23,
   "metadata": {},
   "outputs": [
    {
     "name": "stdout",
     "output_type": "stream",
     "text": [
      "Массив:\n",
      "[[1 2 3]\n",
      " [4 5 6]]\n",
      "\n",
      "Применение функции 1:\n",
      "[[ 2.  4.  8.]\n",
      " [16. 32. 64.]]\n",
      "\n",
      "Применение функции 2:\n",
      "[[0.01745241 0.0348995  0.05233596]\n",
      " [0.06975647 0.08715574 0.10452846]]\n",
      "\n"
     ]
    }
   ],
   "source": [
    "import numpy as np\n",
    "\n",
    "mas = np.array(((1, 2, 3), (4, 5, 6)))\n",
    "print('Массив:', mas, sep='\\n', end='\\n\\n')\n",
    "print('Применение функции 1:', special.exp2(mas), sep='\\n', end='\\n\\n')\n",
    "print('Применение функции 2:', special.sindg(mas), sep='\\n', end='\\n\\n')"
   ]
  },
  {
   "cell_type": "markdown",
   "metadata": {},
   "source": [
    "## Интегрирование scipy.integrate"
   ]
  },
  {
   "cell_type": "markdown",
   "metadata": {},
   "source": [
    "Здесь же упомянем об интегрировании: \n",
    "* `scipy.integrate.quad(func, a, b, complex_func=False)` - взятие определённого интеграла от `a` до `b`\n",
    "* `scipy.integrate.dblquad(func, a, b, c, d, complex_func=False)` - взятие двойного определённого интеграла от `a` до `b` по первой переменной, от `c` до `d` по второй"
   ]
  },
  {
   "cell_type": "code",
   "execution_count": 33,
   "metadata": {},
   "outputs": [
    {
     "name": "stdout",
     "output_type": "stream",
     "text": [
      "Результат, Погрешность расчёта\n",
      "(333.0, 3.697042672001771e-12)\n",
      "\n",
      "Результат,\t    Погрешность расчёта\n",
      "(3496.500000000001, 3.881894805601861e-11)\n"
     ]
    }
   ],
   "source": [
    "from scipy import integrate\n",
    "\n",
    "func_1 = lambda x: x**2\n",
    "print('Результат,', 'Погрешность расчёта')\n",
    "print(integrate.quad(func_1, 1, 10), end='\\n\\n')\n",
    "\n",
    "func_2 = lambda x, y: x * y ** 2\n",
    "c = lambda y: 2\n",
    "d = lambda y: 5\n",
    "print('Результат,\\t   ', 'Погрешность расчёта')\n",
    "print(integrate.dblquad(func_2, 1, 10, c, d))"
   ]
  },
  {
   "cell_type": "markdown",
   "metadata": {},
   "source": [
    "Доступны и другие методы, такие как: `tplquad` и `nquad` "
   ]
  },
  {
   "cell_type": "markdown",
   "metadata": {},
   "source": [
    "## Оптимизация scipy.optimize"
   ]
  },
  {
   "cell_type": "markdown",
   "metadata": {},
   "source": [
    "Библиотека предоставляет ряд функций, облегчающему поиск минимального значения, лучшего совпадения, линии тренда и подобным операциям оптимизации значений. Мы уделим внимание только нескольким из них"
   ]
  },
  {
   "cell_type": "markdown",
   "metadata": {},
   "source": [
    "### curve_fit"
   ]
  },
  {
   "cell_type": "markdown",
   "metadata": {},
   "source": [
    "Позволяет подбирать коэффициенты в переданном уравенении, для подгонки к массивам данных. Полезна для получения функции по дискретным точкам на основе ожидаемой зависимости. Из ожидаемых аргументов, выделим следующие:<br>\n",
    "- func - функция, которую подгоняем под данные\n",
    "- x_data - массив значение первой оси\n",
    "- y_data - массив значений второй оси\n",
    "- p0 - массив начальных значений параметров\n",
    "- bounds - массив кортежей с диапазоном допустимых значений для каждого параметра\n",
    "- method - используемый метод из `‘lm’, ‘trf’, ‘dogbox’`\n",
    "\n",
    "Обязательными являются только первые 3"
   ]
  },
  {
   "cell_type": "markdown",
   "metadata": {},
   "source": [
    "Пусть ожидаемая функция имеет вид параболы, причём первую ось передаём первым аргументом:"
   ]
  },
  {
   "cell_type": "code",
   "execution_count": 27,
   "metadata": {},
   "outputs": [],
   "source": [
    "parabola = lambda x, a: a*x**2"
   ]
  },
  {
   "cell_type": "markdown",
   "metadata": {},
   "source": [
    "Создадим массив значений, который примерно соответствует такой функции - для оси `y` сгенерируем с погрешностью 12.5%"
   ]
  },
  {
   "cell_type": "code",
   "execution_count": 69,
   "metadata": {},
   "outputs": [
    {
     "name": "stdout",
     "output_type": "stream",
     "text": [
      "x = [-10.  -9.  -8.  -7.  -6.  -5.  -4.  -3.  -2.  -1.   0.   1.   2.   3.\n",
      "   4.   5.   6.   7.   8.   9.  10.]\n",
      "y = [380.36722876 373.56216518 281.34340936 194.83991142 155.87792386\n",
      " 103.32893545  73.7353873   34.11506265  18.27166629   3.90879097\n",
      "   0.           4.62177793  17.72174169  40.39274193  61.18054864\n",
      " 104.08808835 169.47607041 221.47325127 266.03622003 355.04092477\n",
      " 388.12502419]\n"
     ]
    }
   ],
   "source": [
    "from random import random\n",
    "import numpy as np\n",
    "\n",
    "parameter  = 4.2\n",
    "\n",
    "x = np.linspace(-10, 10, 21)\n",
    "y = np.array([parabola(x[i], parameter)*(1 - ((random()-0.5)/4)) for i in range(len(x))])\n",
    "print('x =', x)\n",
    "print('y =', y)"
   ]
  },
  {
   "cell_type": "markdown",
   "metadata": {},
   "source": [
    "Для наглядности воспользуемся графичиским представлением(подробнее обсудим на следующей лекции)"
   ]
  },
  {
   "cell_type": "code",
   "execution_count": 70,
   "metadata": {},
   "outputs": [
    {
     "data": {
      "image/png": "[encoded data removed]",
      "text/plain": [
       "<Figure size 640x480 with 1 Axes>"
      ]
     },
     "metadata": {},
     "output_type": "display_data"
    }
   ],
   "source": [
    "import matplotlib.pyplot as plt\n",
    "\n",
    "plt.scatter(x, y)\n",
    "plt.show()"
   ]
  },
  {
   "cell_type": "markdown",
   "metadata": {},
   "source": [
    "Теперь применим функцию `curve_fit` для поиска введённого в генерацию параметра"
   ]
  },
  {
   "cell_type": "code",
   "execution_count": 75,
   "metadata": {},
   "outputs": [
    {
     "name": "stdout",
     "output_type": "stream",
     "text": [
      "4.216849661168494 \n",
      "Parameter = 4.2\n"
     ]
    }
   ],
   "source": [
    "from scipy.optimize import curve_fit\n",
    "\n",
    "fitted = curve_fit(parabola, x, y)\n",
    "print(float(fitted[0][0]), '\\nParameter =', parameter)"
   ]
  },
  {
   "cell_type": "markdown",
   "metadata": {},
   "source": [
    "Первый элемент результата работы функции - массив ожидаемых значений параметров. Осталось отстроить и сравнить:"
   ]
  },
  {
   "cell_type": "code",
   "execution_count": 72,
   "metadata": {},
   "outputs": [
    {
     "data": {
      "image/png": "[encoded data removed]",
      "text/plain": [
       "<Figure size 640x480 with 1 Axes>"
      ]
     },
     "metadata": {},
     "output_type": "display_data"
    }
   ],
   "source": [
    "plt.scatter(x, y)\n",
    "plt.plot(x, [parabola(i, fitted[0][0]) for i in x])\n",
    "plt.show()"
   ]
  },
  {
   "cell_type": "markdown",
   "metadata": {},
   "source": [
    "Визуальное совпадение есть с некоторой ошибкой, что является ожидаемой проблемой, ведь сами данные получены с разбросом в более чем 10%. Попробуем повысить точность расчёта с помощью большего числа точек"
   ]
  },
  {
   "cell_type": "code",
   "execution_count": 73,
   "metadata": {},
   "outputs": [
    {
     "name": "stdout",
     "output_type": "stream",
     "text": [
      "4.216849661465757 \n",
      "Parameter = 4.2\n"
     ]
    }
   ],
   "source": [
    "x = np.linspace(-10, 10, 201)\n",
    "y = np.array([parabola(x[i], 4.2)*(1 - ((random()-0.5)/4)) for i in range(len(x))])\n",
    "\n",
    "fitted = curve_fit(parabola, x, y, (4,), bounds=(1, 5))\n",
    "print(float(fitted[0][0]), '\\nParameter =', parameter)"
   ]
  },
  {
   "cell_type": "markdown",
   "metadata": {},
   "source": [
    "Очевидно, что такой ход резко повысил точность. Если ограничить возможные значения, то увидим это:"
   ]
  },
  {
   "cell_type": "code",
   "execution_count": 74,
   "metadata": {},
   "outputs": [
    {
     "name": "stdout",
     "output_type": "stream",
     "text": [
      "3.9999999999999996 \n",
      "Parameter = 4.2\n"
     ]
    }
   ],
   "source": [
    "fitted = curve_fit(parabola, x, y, (4,), bounds=(1, 4))\n",
    "print(float(fitted[0][0]), '\\nParameter =', parameter)"
   ]
  },
  {
   "cell_type": "markdown",
   "metadata": {},
   "source": [
    "Функция попыталась подобрать коэффициент, но упёрлась в выставленное ограничение. Это может помочь при подборе серии параметров со схожими ролями в функции"
   ]
  },
  {
   "cell_type": "markdown",
   "metadata": {},
   "source": [
    "### minimize"
   ]
  },
  {
   "cell_type": "markdown",
   "metadata": {},
   "source": [
    "Функция упрощает алгоритм поиска минимального значения для некоторой функции. Рассмотрим пример: Пусть есть некоторый закон, по которому изменяется некоторая величина, но не известны параметры в уравнении. Запишем в виде отдельной функции"
   ]
  },
  {
   "cell_type": "code",
   "execution_count": 3,
   "metadata": {},
   "outputs": [
    {
     "name": "stdout",
     "output_type": "stream",
     "text": [
      "10014.0\n"
     ]
    }
   ],
   "source": [
    "from scipy.special import exp10\n",
    "\n",
    "def func(params):\n",
    "    a, b, c = params\n",
    "    return a * 16 - b + exp10(c)\n",
    "\n",
    "print(func([1, 2, 4]))"
   ]
  },
  {
   "cell_type": "markdown",
   "metadata": {},
   "source": [
    "Посмотрим результат применения к ней минимизации\n",
    "~~~python\n",
    "scipy.optimize.minimize(func, params0, args=(), method='nelder-mead', bounds=[], disp=False)\n",
    "~~~\n",
    "* <i>func</i> - оптимизируемая функция\n",
    "* <i>params0</i> - контейнер начальных значений оптимизуруемых параметров\n",
    "* <i>args</i> - кортеж дополнительных аргументов для функции \n",
    "* <i>method</i>- метод минимизации, подробнее https://habr.com/ru/articles/439288/ \n",
    "* <i>bounds</i> - список кортежей минимальных и макимальных значений параметров\n",
    "* <i>disp</i> - отображение информации о циклах оптимизации "
   ]
  },
  {
   "cell_type": "code",
   "execution_count": 5,
   "metadata": {},
   "outputs": [
    {
     "data": {
      "text/plain": [
       "  message: Desired error not necessarily achieved due to precision loss.\n",
       "  success: False\n",
       "   status: 2\n",
       "      fun: -544875336.8689586\n",
       "        x: [-3.392e+07  2.120e+06 -2.318e+05]\n",
       "      nit: 3\n",
       "      jac: [ 1.600e+01 -8.000e+00  0.000e+00]\n",
       " hess_inv: [[-7.750e+07  4.844e+06 -5.295e+05]\n",
       "            [ 4.844e+06 -3.027e+05  3.310e+04]\n",
       "            [-5.295e+05  3.310e+04 -3.618e+03]]\n",
       "     nfev: 908\n",
       "     njev: 224"
      ]
     },
     "execution_count": 5,
     "metadata": {},
     "output_type": "execute_result"
    }
   ],
   "source": [
    "from scipy.optimize import minimize\n",
    "\n",
    "result = minimize(func, [1, 2, 3])\n",
    "result"
   ]
  },
  {
   "cell_type": "markdown",
   "metadata": {},
   "source": [
    "Строка `success: False` намекает на неудачную попытку, что не удевительно - наша функция не имеет глобального минимума. Попробуем написать функцию с его наличием"
   ]
  },
  {
   "cell_type": "code",
   "execution_count": 15,
   "metadata": {},
   "outputs": [
    {
     "name": "stdout",
     "output_type": "stream",
     "text": [
      "  message: Optimization terminated successfully.\n",
      "  success: True\n",
      "   status: 0\n",
      "      fun: 1.1868712327499162e-12\n",
      "        x: [ 5.579e-01  5.731e-07]\n",
      "      nit: 6\n",
      "      jac: [ 2.733e-12  4.196e-06]\n",
      " hess_inv: [[ 3.167e-02 -5.120e-02]\n",
      "            [-5.120e-02  1.377e-01]]\n",
      "     nfev: 33\n",
      "     njev: 11 \n",
      "\n",
      "Минимальное значение: 1.1868712327499162e-12\n"
     ]
    }
   ],
   "source": [
    "from scipy.special import exp10\n",
    "\n",
    "def func_2(params):\n",
    "    a, b = params\n",
    "    return exp10(a) * b ** 2\n",
    "\n",
    "result = minimize(func_2, [1, 2])\n",
    "print(result, '\\n')\n",
    "print('Минимальное значение:', func_2(result.x))"
   ]
  },
  {
   "cell_type": "markdown",
   "metadata": {},
   "source": [
    "Теперь получилось найти значения параметров, при которых функция практически равняется 0, что и является истинным глобальным минимумом. Выводом функции является словарь, по которому удобно получать информацию. Под ключом `x` как раз записаны требуемые параметры<br>\n",
    "Можем сравнить результат с другим методом минимизации"
   ]
  },
  {
   "cell_type": "code",
   "execution_count": 29,
   "metadata": {},
   "outputs": [
    {
     "name": "stdout",
     "output_type": "stream",
     "text": [
      " message: Optimization terminated successfully.\n",
      " success: True\n",
      "  status: 0\n",
      "     fun: 0.0\n",
      "       x: [-5.114e+02  2.000e+00]\n",
      "     nit: 2\n",
      "   direc: [[ 1.000e+00  0.000e+00]\n",
      "           [ 0.000e+00  1.000e+00]]\n",
      "    nfev: 40 \n",
      "\n",
      "Минимальное значение: 0.0\n"
     ]
    }
   ],
   "source": [
    "result = minimize(func_2, [1, 2], method='powell')\n",
    "print(result, '\\n')\n",
    "print('Минимальное значение:', func_2(result.x))"
   ]
  },
  {
   "cell_type": "markdown",
   "metadata": {},
   "source": [
    "Давайте вернёмся к первой функции и ограничить диапазон параметров ключём `bouns`"
   ]
  },
  {
   "cell_type": "code",
   "execution_count": 31,
   "metadata": {},
   "outputs": [
    {
     "name": "stdout",
     "output_type": "stream",
     "text": [
      "  message: CONVERGENCE: NORM_OF_PROJECTED_GRADIENT_<=_PGTOL\n",
      "  success: True\n",
      "   status: 0\n",
      "      fun: -9.9\n",
      "        x: [ 0.000e+00  1.000e+01 -1.000e+00]\n",
      "      nit: 2\n",
      "      jac: [ 1.600e+01 -1.000e+00  2.303e-01]\n",
      "     nfev: 20\n",
      "     njev: 5\n",
      " hess_inv: <3x3 LbfgsInvHessProduct with dtype=float64> \n",
      "\n",
      "Минимальное значение: -9.9\n"
     ]
    }
   ],
   "source": [
    "result = minimize(func, [1, 2, 3], bounds=[(0, 10), (0, 10), (-1, 0)])\n",
    "print(result, '\\n')\n",
    "print('Минимальное значение:', func(result.x))"
   ]
  },
  {
   "cell_type": "markdown",
   "metadata": {},
   "source": [
    "Теперь смогли получить искомый минимум, причём все 3 параметра приняли крайние значения"
   ]
  },
  {
   "cell_type": "markdown",
   "metadata": {},
   "source": [
    "Передача аргументов может быть полезна для больших функций и осуществляется заполнением кортежа под ключевым аргументом `args`, к примеру:"
   ]
  },
  {
   "cell_type": "code",
   "execution_count": 28,
   "metadata": {},
   "outputs": [
    {
     "name": "stdout",
     "output_type": "stream",
     "text": [
      "  message: Optimization terminated successfully.\n",
      "  success: True\n",
      "   status: 0\n",
      "      fun: 2.0000000000011813\n",
      "        x: [ 5.579e-01  5.718e-07]\n",
      "      nit: 6\n",
      "      jac: [ 0.000e+00  4.202e-06]\n",
      " hess_inv: [[ 3.167e-02 -5.120e-02]\n",
      "            [-5.120e-02  1.377e-01]]\n",
      "     nfev: 33\n",
      "     njev: 11 \n",
      "\n",
      "Минимальное значение: 2.0000000000011813\n"
     ]
    }
   ],
   "source": [
    "def func_3(params, append1):\n",
    "    a, b = params\n",
    "    return exp10(a) * b ** 2 + append1\n",
    "\n",
    "result = minimize(func_3, [1, 2], args=(2,))\n",
    "print(result, '\\n')\n",
    "print('Минимальное значение:', func_3(result.x, 2))"
   ]
  },
  {
   "cell_type": "markdown",
   "metadata": {},
   "source": [
    "### minimize_scalar"
   ]
  },
  {
   "cell_type": "markdown",
   "metadata": {},
   "source": [
    "При необходимости найти локальный минимум для функции с одним параметром, можно воспользоваться схожей функцией `minimize_scalar(func, params0, method, bounds, bracket)`<br>\n",
    "* <i>func</i> - оптимизируемая функция\n",
    "* <i>params0</i> - контейнер начальных значений оптимизуруемых параметров\n",
    "* <i>method</i> - выбор метода - ограниченный(`bounded`) или без границ(`brent`)\n",
    "* <i>bounds</i> - интервал для поиска значения параметра\n",
    "* <i>bracket</i> - Начальные условия поиска минимума (a, b, c) такие что func(a) > func(b) < func(c)"
   ]
  },
  {
   "cell_type": "code",
   "execution_count": 55,
   "metadata": {},
   "outputs": [
    {
     "name": "stdout",
     "output_type": "stream",
     "text": [
      " message: \n",
      "          Optimization terminated successfully;\n",
      "          The returned value satisfies the termination criteria\n",
      "          (using xtol = 1.48e-08 )\n",
      " success: True\n",
      "     fun: 7.0\n",
      "       x: 9.675017563959337e-09\n",
      "     nit: 39\n",
      "    nfev: 42 \n",
      "\n",
      "Минимальное значение: 7.0 \n",
      "\n",
      "\n",
      " message: Solution found.\n",
      " success: True\n",
      "  status: 0\n",
      "     fun: 43.000101241290736\n",
      "       x: 3.000004218384148\n",
      "     nit: 33\n",
      "    nfev: 33 \n",
      "\n",
      "Минимальное значение: 43.000101241290736\n"
     ]
    }
   ],
   "source": [
    "from scipy.optimize import minimize_scalar\n",
    "\n",
    "def func_4(a):\n",
    "    return 4 * a ** 2 + 7\n",
    "\n",
    "result = minimize_scalar(func_4, bracket=(-10, -2, 10), method='brent')\n",
    "print(result, '\\n')\n",
    "print('Минимальное значение:', func_4(result.x), '\\n\\n')\n",
    "\n",
    "result = minimize_scalar(func_4,  bracket=(-5, -2, 3), method='bounded', bounds=(3, 40))\n",
    "print(result, '\\n')\n",
    "print('Минимальное значение:', func_4(result.x))"
   ]
  },
  {
   "cell_type": "markdown",
   "metadata": {},
   "source": [
    "## Интерполяция scipy.interpolate"
   ]
  },
  {
   "cell_type": "markdown",
   "metadata": {},
   "source": [
    "Генерирует промежуточные значения, что повышает чёткость и гладкость массивов. Сеществуют несколько методов интерполяции для каждой из размерностей пространства, сосредоточимася на одномерной и двумерной.<br>\n",
    "Её применение является упрощённым вариантом `curve_fit`"
   ]
  },
  {
   "cell_type": "markdown",
   "metadata": {},
   "source": [
    "### interp1d"
   ]
  },
  {
   "cell_type": "markdown",
   "metadata": {},
   "source": [
    "- x - массив первой оси\n",
    "- y - массив второй оси, по которой производится интерполяция\n",
    "- kind - способ замещения отсутствующих значений(“zero”, “slinear”, “quadratic”, “cubic”, “previous”, “next”, “nearest”, “nearest-up”)\n",
    "- assume_sorted - является ли массив x отсортированным. При значении `False` они будут выстроены в монотонно возрастающем порядке\n",
    "\n",
    "\n",
    "Начнём с получения данных в одном пространстве. Зададим точки некоторой функцией"
   ]
  },
  {
   "cell_type": "code",
   "execution_count": 96,
   "metadata": {},
   "outputs": [
    {
     "name": "stdout",
     "output_type": "stream",
     "text": [
      "x = [-4.  -3.2 -2.4 -1.6 -0.8  0.   0.8  1.6  2.4  3.2  4. ]\n",
      "y = [ 3.02720998  0.23349657 -2.70185272 -3.99829441 -2.86942436  0.\n",
      "  2.86942436  3.99829441  2.70185272 -0.23349657 -3.02720998]\n"
     ]
    },
    {
     "data": {
      "image/png": "[encoded data removed]",
      "text/plain": [
       "<Figure size 640x480 with 1 Axes>"
      ]
     },
     "metadata": {},
     "output_type": "display_data"
    }
   ],
   "source": [
    "import numpy as np\n",
    "import matplotlib.pyplot as plt\n",
    "\n",
    "x = np.linspace(-4, 4, 11)\n",
    "y = 4*np.sin(x)\n",
    "print('x =', x)\n",
    "print('y =', y)\n",
    "\n",
    "plt.scatter(x, y)\n",
    "plt.show()"
   ]
  },
  {
   "cell_type": "markdown",
   "metadata": {},
   "source": [
    "Теперь передадим массивы в функцию интерполяции"
   ]
  },
  {
   "cell_type": "code",
   "execution_count": 101,
   "metadata": {},
   "outputs": [
    {
     "data": {
      "image/png": "[encoded data removed]",
      "text/plain": [
       "<Figure size 640x480 with 1 Axes>"
      ]
     },
     "metadata": {},
     "output_type": "display_data"
    }
   ],
   "source": [
    "from scipy.interpolate import interp1d\n",
    "\n",
    "interpol = interp1d(x, y, assume_sorted=False)\n",
    "\n",
    "x_new = np.linspace(-4, 4, 101)\n",
    "y_new = interpol(x_new)\n",
    "plt.scatter(x_new, y_new, color='green')\n",
    "\n",
    "plt.scatter(x, y, color='blue')\n",
    "\n",
    "plt.show()"
   ]
  },
  {
   "cell_type": "markdown",
   "metadata": {},
   "source": [
    "Имеем промежуточные значения, заполненные линейными участками. Изменим вид зависимотси"
   ]
  },
  {
   "cell_type": "code",
   "execution_count": 105,
   "metadata": {},
   "outputs": [
    {
     "data": {
      "image/png": "[encoded data removed]",
      "text/plain": [
       "<Figure size 640x480 with 1 Axes>"
      ]
     },
     "metadata": {},
     "output_type": "display_data"
    }
   ],
   "source": [
    "interpol = interp1d(x, y, kind='nearest', assume_sorted=True)\n",
    "\n",
    "y_new = interpol(x_new)\n",
    "plt.scatter(x_new, y_new, color='green')\n",
    "\n",
    "plt.scatter(x, y, color='blue')\n",
    "\n",
    "plt.show()"
   ]
  },
  {
   "cell_type": "markdown",
   "metadata": {},
   "source": [
    "В случае взятия значения ближайшей точки, вид такой, попробуем кубическую подгонку"
   ]
  },
  {
   "cell_type": "code",
   "execution_count": 106,
   "metadata": {},
   "outputs": [
    {
     "data": {
      "image/png": "[encoded data removed]",
      "text/plain": [
       "<Figure size 640x480 with 1 Axes>"
      ]
     },
     "metadata": {},
     "output_type": "display_data"
    }
   ],
   "source": [
    "interpol = interp1d(x, y, kind='cubic', assume_sorted=True)\n",
    "\n",
    "y_new = interpol(x_new)\n",
    "plt.scatter(x_new, y_new, color='green')\n",
    "\n",
    "plt.scatter(x, y, color='blue')\n",
    "\n",
    "plt.show()"
   ]
  },
  {
   "cell_type": "markdown",
   "metadata": {},
   "source": [
    "### interpn"
   ]
  },
  {
   "cell_type": "markdown",
   "metadata": {},
   "source": [
    "В многомерном пространстве приеняется функция `interpn(points, values, point, method...)`, в которую передаются массивы известных координат, их значений и координаты искомой точки. При необходимости задаётся метод поиска (“linear”, “nearest” или “splinef2d”).<br>\n",
    "Рассмотрим пример с 4-х мерной функцией:"
   ]
  },
  {
   "cell_type": "code",
   "execution_count": 17,
   "metadata": {},
   "outputs": [
    {
     "name": "stdout",
     "output_type": "stream",
     "text": [
      "7.1\n",
      "Истинное значние: 6.812\n"
     ]
    }
   ],
   "source": [
    "import numpy as np\n",
    "from scipy.interpolate import interpn\n",
    "\n",
    "def func(x, y, z):\n",
    "    return pow(x, 2) * y - z\n",
    "\n",
    "x = np.linspace(0, 5, 11)\n",
    "y = np.linspace(0, 5, 11)\n",
    "z = np.linspace(0, 5, 11)\n",
    "\n",
    "points = (x, y, z)\n",
    "grid = np.meshgrid(x, y, z, indexing='ij')\n",
    "values = func(grid[0], grid[1], grid[2])\n",
    "\n",
    "print(interpn(points, values, (1.2, 4.8, 0.1))[0])\n",
    "print('Истинное значние:', func(1.2, 4.8, 0.1))"
   ]
  },
  {
   "cell_type": "markdown",
   "metadata": {},
   "source": [
    "Из-за линейности алгоритма, значение заметно отличается от расчитанного, поэтому для лучшей точности вместо интерполяции нужно использовать линии тренда"
   ]
  }
 ],
 "metadata": {
  "kernelspec": {
   "display_name": "Python 3",
   "language": "python",
   "name": "python3"
  },
  "language_info": {
   "codemirror_mode": {
    "name": "ipython",
    "version": 3
   },
   "file_extension": ".py",
   "mimetype": "text/x-python",
   "name": "python",
   "nbconvert_exporter": "python",
   "pygments_lexer": "ipython3",
   "version": "3.12.5"
  }
 },
 "nbformat": 4,
 "nbformat_minor": 2
}
