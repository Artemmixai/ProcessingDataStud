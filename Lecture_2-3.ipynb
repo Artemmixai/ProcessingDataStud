{
 "cells": [
  {
   "cell_type": "markdown",
   "id": "369c0552-4168-4395-8cff-0ebe45064cf6",
   "metadata": {},
   "source": [
    "# Стандартные типы данных"
   ]
  },
  {
   "cell_type": "markdown",
   "id": "703d74e9-b86e-4cdb-9216-572e0f157193",
   "metadata": {},
   "source": [
    "### int, float"
   ]
  },
  {
   "cell_type": "markdown",
   "id": "713e1173-8da9-475f-93bb-467710e56544",
   "metadata": {},
   "source": [
    "Краткий курс начнём со стандартных типов данных языка. Первыми из них затронем числовые типы: целочисленные и с плавающей запятой.<br>\n",
    "Целые числа задаются классом <i>int</i> с встроенными математическими операциями сложения, вычитания, умножения, деления, возведения в степень, сравнения"
   ]
  },
  {
   "cell_type": "code",
   "execution_count": 1,
   "id": "2f9e8a10-edb9-442f-bb72-e73750918e4d",
   "metadata": {},
   "outputs": [],
   "source": [
    "a = 2"
   ]
  },
  {
   "cell_type": "code",
   "execution_count": 2,
   "id": "e928c32d-c05a-4f0e-98c8-0f46c70415b9",
   "metadata": {},
   "outputs": [
    {
     "data": {
      "text/plain": [
       "int"
      ]
     },
     "execution_count": 2,
     "metadata": {},
     "output_type": "execute_result"
    }
   ],
   "source": [
    "type(a)"
   ]
  },
  {
   "cell_type": "code",
   "execution_count": 3,
   "id": "aa29c991-a93d-4097-a075-8de0a51a17df",
   "metadata": {},
   "outputs": [
    {
     "data": {
      "text/plain": [
       "4"
      ]
     },
     "execution_count": 3,
     "metadata": {},
     "output_type": "execute_result"
    }
   ],
   "source": [
    "a + 2"
   ]
  },
  {
   "cell_type": "code",
   "execution_count": 4,
   "id": "69ce969c-da13-4d94-966a-2a1d5ac5e597",
   "metadata": {},
   "outputs": [
    {
     "data": {
      "text/plain": [
       "6"
      ]
     },
     "execution_count": 4,
     "metadata": {},
     "output_type": "execute_result"
    }
   ],
   "source": [
    "a * 3"
   ]
  },
  {
   "cell_type": "code",
   "execution_count": 5,
   "id": "b71f857e-7682-4270-9472-4d606794e8e5",
   "metadata": {},
   "outputs": [
    {
     "data": {
      "text/plain": [
       "0.6666666666666666"
      ]
     },
     "execution_count": 5,
     "metadata": {},
     "output_type": "execute_result"
    }
   ],
   "source": [
    "a / 3"
   ]
  },
  {
   "cell_type": "code",
   "execution_count": 6,
   "id": "e3ae67c5-e9b5-4982-9cfe-50a47bc5018b",
   "metadata": {},
   "outputs": [
    {
     "data": {
      "text/plain": [
       "8"
      ]
     },
     "execution_count": 6,
     "metadata": {},
     "output_type": "execute_result"
    }
   ],
   "source": [
    "a ** 3"
   ]
  },
  {
   "cell_type": "code",
   "execution_count": 7,
   "id": "3411be10-01b6-484f-8c30-e3eb124ab6bb",
   "metadata": {},
   "outputs": [
    {
     "data": {
      "text/plain": [
       "False"
      ]
     },
     "execution_count": 7,
     "metadata": {},
     "output_type": "execute_result"
    }
   ],
   "source": [
    "a > 2"
   ]
  },
  {
   "cell_type": "code",
   "execution_count": 8,
   "id": "1ed9708d-3e3d-497e-81e4-e41ba2c5459a",
   "metadata": {},
   "outputs": [
    {
     "data": {
      "text/plain": [
       "True"
      ]
     },
     "execution_count": 8,
     "metadata": {},
     "output_type": "execute_result"
    }
   ],
   "source": [
    "a <= 2"
   ]
  },
  {
   "cell_type": "markdown",
   "id": "a802d6ec-74b5-4d41-bcf7-af5090a964bc",
   "metadata": {},
   "source": [
    "Целая часть от деления"
   ]
  },
  {
   "cell_type": "code",
   "execution_count": 9,
   "id": "358a5af1-c912-4d5d-8b9b-3c5fe658eba1",
   "metadata": {},
   "outputs": [
    {
     "data": {
      "text/plain": [
       "0"
      ]
     },
     "execution_count": 9,
     "metadata": {},
     "output_type": "execute_result"
    }
   ],
   "source": [
    "a // 3"
   ]
  },
  {
   "cell_type": "markdown",
   "id": "4c04d5ea-4002-4f3c-9dc0-67da0af310ec",
   "metadata": {},
   "source": [
    "Остаток от деления:"
   ]
  },
  {
   "cell_type": "code",
   "execution_count": 10,
   "id": "a0ff7c49-4bfa-4606-8393-881968846ea1",
   "metadata": {},
   "outputs": [
    {
     "data": {
      "text/plain": [
       "0"
      ]
     },
     "execution_count": 10,
     "metadata": {},
     "output_type": "execute_result"
    }
   ],
   "source": [
    "a % 2"
   ]
  },
  {
   "cell_type": "markdown",
   "id": "90b846b4-8816-4d62-9b80-1613dc6a9d99",
   "metadata": {},
   "source": [
    "Дробные числа обладают теми же свойствами, инициализируются классом <i>float</i>. Разделителем целой и дробной части является точка"
   ]
  },
  {
   "cell_type": "code",
   "execution_count": 11,
   "id": "c2a47b08-0943-48c1-bd72-f75ebde04003",
   "metadata": {},
   "outputs": [],
   "source": [
    "b = 1.3"
   ]
  },
  {
   "cell_type": "code",
   "execution_count": 12,
   "id": "fb4b063c-31c0-447a-865a-f809b47b2786",
   "metadata": {},
   "outputs": [
    {
     "data": {
      "text/plain": [
       "float"
      ]
     },
     "execution_count": 12,
     "metadata": {},
     "output_type": "execute_result"
    }
   ],
   "source": [
    "type(b)"
   ]
  },
  {
   "cell_type": "markdown",
   "id": "d6a2e46c-6a4c-4e9f-8027-6981cbb05ff3",
   "metadata": {},
   "source": [
    "Поддерживается короткая запись с пустой целой частью"
   ]
  },
  {
   "cell_type": "code",
   "execution_count": 13,
   "id": "05ae3b01-560f-43a9-b898-ec2d34b269fd",
   "metadata": {},
   "outputs": [
    {
     "data": {
      "text/plain": [
       "0.8999999999999999"
      ]
     },
     "execution_count": 13,
     "metadata": {},
     "output_type": "execute_result"
    }
   ],
   "source": [
    ".3 * 3"
   ]
  },
  {
   "cell_type": "markdown",
   "id": "70d3ce0b-cf47-4bd1-ab34-109e98efe0d6",
   "metadata": {},
   "source": [
    "Демонстрируемая ошибка связана с алгоритмом расчёта и хранения таких чисел. Её можно исправить, применив функцию <i>round</i> округления до нужного количества знаков после запятой<br>\n",
    "\n",
    "<b>round(number, sign's amount)</b>"
   ]
  },
  {
   "cell_type": "code",
   "execution_count": 14,
   "id": "ae4a4a08-a555-4f16-90c4-534057e7af0f",
   "metadata": {},
   "outputs": [
    {
     "data": {
      "text/plain": [
       "0.9"
      ]
     },
     "execution_count": 14,
     "metadata": {},
     "output_type": "execute_result"
    }
   ],
   "source": [
    "round(.3*3, 2)"
   ]
  },
  {
   "cell_type": "markdown",
   "id": "5e202cd2-8a64-4335-89b9-36f93ea6b144",
   "metadata": {},
   "source": [
    "При округлении незначащие нули уходят, поэтому получили число только с одной цифрой после запятой, вместо ожидаемых двух"
   ]
  },
  {
   "cell_type": "markdown",
   "id": "2089c774-f89a-4c04-af98-3f650c0a4c31",
   "metadata": {},
   "source": [
    "Применим упомянутые операции для вычисления по формуле\n",
    "\n",
    "$$ \\frac{13401*23-2135}{34^{3}} $$"
   ]
  },
  {
   "cell_type": "code",
   "execution_count": 15,
   "id": "72319188-b3a0-4c2a-b32a-c9922fde79a1",
   "metadata": {},
   "outputs": [
    {
     "data": {
      "text/plain": [
       "7.787706085894565"
      ]
     },
     "execution_count": 15,
     "metadata": {},
     "output_type": "execute_result"
    }
   ],
   "source": [
    "(13401*23-2135)/(34**3)"
   ]
  },
  {
   "cell_type": "markdown",
   "id": "61a0832a-f64c-4b51-be3c-690e6bf2cbb4",
   "metadata": {},
   "source": [
    "Скобки позволяют правильно расставить порядок действий, согласно правилам алгебры"
   ]
  },
  {
   "cell_type": "markdown",
   "id": "43b8df22-d52b-45f9-9820-9e7e7665597e",
   "metadata": {},
   "source": [
    "### str"
   ]
  },
  {
   "cell_type": "markdown",
   "id": "f78d4f37-c46b-4f5b-8e90-4abc09ba0457",
   "metadata": {},
   "source": [
    "Тип данных строки - <i>str</i>, позволяет задавать названия, работать с текстом, извлекать элементы из некоторых других типов данных. По своей сути являются набором символов, объединённых в один элемент. Заключены в ковычки - отличительная синтаксическая особенность, причём они могут быть как одинарные, так и двойные. Главное, чтобы открывались и закрывались попарно"
   ]
  },
  {
   "cell_type": "code",
   "execution_count": 16,
   "id": "b33ea338-7759-4aca-9f8d-452464ec4933",
   "metadata": {},
   "outputs": [
    {
     "data": {
      "text/plain": [
       "'один'"
      ]
     },
     "execution_count": 16,
     "metadata": {},
     "output_type": "execute_result"
    }
   ],
   "source": [
    "'один'"
   ]
  },
  {
   "cell_type": "code",
   "execution_count": 17,
   "id": "86bff064-fdbf-4538-97fe-ad7cd9341248",
   "metadata": {},
   "outputs": [
    {
     "data": {
      "text/plain": [
       "'два'"
      ]
     },
     "execution_count": 17,
     "metadata": {},
     "output_type": "execute_result"
    }
   ],
   "source": [
    "\"два\""
   ]
  },
  {
   "cell_type": "markdown",
   "id": "f3fb1df0-6ca9-4b55-83a8-ed71fb6fc786",
   "metadata": {},
   "source": [
    "Из строки можно получить отдельные символы и целые строки по индексам - порядковым номерам элементов (индексация в Python начинается с 0)"
   ]
  },
  {
   "cell_type": "code",
   "execution_count": 18,
   "id": "67b49365-f058-4f9d-84ab-7d2c6643ef5e",
   "metadata": {},
   "outputs": [
    {
     "data": {
      "text/plain": [
       "'д'"
      ]
     },
     "execution_count": 18,
     "metadata": {},
     "output_type": "execute_result"
    }
   ],
   "source": [
    "'один'[1]"
   ]
  },
  {
   "cell_type": "markdown",
   "id": "6a475866-640a-488a-b483-778a29017b8e",
   "metadata": {},
   "source": [
    "Индексы могут быть заданны в обратном порядке"
   ]
  },
  {
   "cell_type": "code",
   "execution_count": 19,
   "id": "719807d5-85c0-47d0-8d61-5d3e70970413",
   "metadata": {},
   "outputs": [
    {
     "data": {
      "text/plain": [
       "'н'"
      ]
     },
     "execution_count": 19,
     "metadata": {},
     "output_type": "execute_result"
    }
   ],
   "source": [
    "'один'[-1]"
   ]
  },
  {
   "cell_type": "markdown",
   "id": "82024736-34ec-45e2-b3f1-e82dc1858c0b",
   "metadata": {},
   "source": [
    "Если требуется вытащить фрагмент из строки, применяются срезы: <b>'str'[start : stop : deley=1]</b>. Первое число задаёт индекс начала среза, второй - конец, третий - задаёт скачки между сохраняемыми элементами"
   ]
  },
  {
   "cell_type": "code",
   "execution_count": 20,
   "id": "53223372-5852-43f4-96ca-3fa5acbebbec",
   "metadata": {},
   "outputs": [
    {
     "data": {
      "text/plain": [
       "'bc abc ab'"
      ]
     },
     "execution_count": 20,
     "metadata": {},
     "output_type": "execute_result"
    }
   ],
   "source": [
    "'abc abc abc'[1:-1:1]"
   ]
  },
  {
   "cell_type": "markdown",
   "id": "378b23e3-c7fc-43bd-9242-38326fa6fac0",
   "metadata": {},
   "source": [
    "С помощью него можем, например, получить элементы с чётными индексами, задав третий аргумент равный 2, то есть будет пропускаться один элемент на каждом шаге прохода по строке"
   ]
  },
  {
   "cell_type": "code",
   "execution_count": 21,
   "id": "2d6500cd-70f4-4231-a20f-95c01b7b953b",
   "metadata": {},
   "outputs": [
    {
     "data": {
      "text/plain": [
       "'acaca'"
      ]
     },
     "execution_count": 21,
     "metadata": {},
     "output_type": "execute_result"
    }
   ],
   "source": [
    "'abc abc abc'[0:-1:2]"
   ]
  },
  {
   "cell_type": "markdown",
   "id": "a9d5c29d-56f2-45e8-976e-bbf68d47926b",
   "metadata": {},
   "source": [
    "Для строк определены следующие операции:<br>\n",
    "Сложение"
   ]
  },
  {
   "cell_type": "code",
   "execution_count": 22,
   "id": "38cf21ad-1757-4f5c-9d2b-f4c1668447dd",
   "metadata": {},
   "outputs": [
    {
     "data": {
      "text/plain": [
       "'одиндва'"
      ]
     },
     "execution_count": 22,
     "metadata": {},
     "output_type": "execute_result"
    }
   ],
   "source": [
    "'один' + 'два'"
   ]
  },
  {
   "cell_type": "markdown",
   "id": "5343448a-c6df-42a1-92e2-d3449a3e2001",
   "metadata": {},
   "source": [
    "Умножение на число"
   ]
  },
  {
   "cell_type": "code",
   "execution_count": 23,
   "id": "6a5c5f16-92f5-459d-85a1-61b7faac0abd",
   "metadata": {},
   "outputs": [
    {
     "data": {
      "text/plain": [
       "'одинодин'"
      ]
     },
     "execution_count": 23,
     "metadata": {},
     "output_type": "execute_result"
    }
   ],
   "source": [
    "'один'*2"
   ]
  },
  {
   "cell_type": "markdown",
   "id": "bb37fc1e-1918-459d-92af-a6ab549840b9",
   "metadata": {},
   "source": [
    "Куда больше возможностей открывают встроенные методы, вызываемые через точку после строки или переменной:<br>\n",
    "\n",
    "Замена эелемента на другой - <i>.replace()</i><br>\n",
    "<b>'str'.replace('old', 'new', __count=all)</b>, последний аргумент задаёт количество замен. Он не обязательный и по умолчанию меня все совпадения с начала"
   ]
  },
  {
   "cell_type": "code",
   "execution_count": 24,
   "id": "7f708366-273c-4a18-9ce7-9a31259c04b0",
   "metadata": {},
   "outputs": [
    {
     "data": {
      "text/plain": [
       "'defc abc'"
      ]
     },
     "execution_count": 24,
     "metadata": {},
     "output_type": "execute_result"
    }
   ],
   "source": [
    "'abc abc'.replace('ab', 'def', 1)"
   ]
  },
  {
   "cell_type": "markdown",
   "id": "250f8c3f-5a92-4a65-b86c-a36555617179",
   "metadata": {},
   "source": [
    "<b>'str'.index('el', __start, __end)</b> - возвращает индекс элемента в указанном диапазоне в строке (индексация в Python начинается с 0)"
   ]
  },
  {
   "cell_type": "code",
   "execution_count": 25,
   "id": "779adcfa-5826-4b0d-8204-9c278a6b5c85",
   "metadata": {},
   "outputs": [
    {
     "data": {
      "text/plain": [
       "0"
      ]
     },
     "execution_count": 25,
     "metadata": {},
     "output_type": "execute_result"
    }
   ],
   "source": [
    "'abc abc'.index('a')"
   ]
  },
  {
   "cell_type": "code",
   "execution_count": 26,
   "id": "2690d99b-9201-43df-bb7b-a796982d34b8",
   "metadata": {},
   "outputs": [
    {
     "data": {
      "text/plain": [
       "4"
      ]
     },
     "execution_count": 26,
     "metadata": {},
     "output_type": "execute_result"
    }
   ],
   "source": [
    "'abc abc'.index('a', 1)"
   ]
  },
  {
   "cell_type": "markdown",
   "id": "d599603b-2b32-4e6f-a37a-110e6a56205a",
   "metadata": {},
   "source": [
    "<b>'str'.lower(), 'str'.upper()</b> изменяют все буквы на маленькие или большие соответственно"
   ]
  },
  {
   "cell_type": "code",
   "execution_count": 27,
   "id": "4a9c768e-4d8d-4df9-ab89-a89a749dedf9",
   "metadata": {},
   "outputs": [
    {
     "data": {
      "text/plain": [
       "'ABC'"
      ]
     },
     "execution_count": 27,
     "metadata": {},
     "output_type": "execute_result"
    }
   ],
   "source": [
    "'abc'.upper()"
   ]
  },
  {
   "cell_type": "markdown",
   "id": "51d2e114-a54c-4170-8fb1-58ec4a508805",
   "metadata": {},
   "source": [
    "<b>'str'.count('el', __start, __end)</b> - возвращает количество элементов в строке в заданном диапазоне"
   ]
  },
  {
   "cell_type": "code",
   "execution_count": 28,
   "id": "3dc1615b-b96d-4933-a02f-0a5a4ccda4bf",
   "metadata": {},
   "outputs": [
    {
     "data": {
      "text/plain": [
       "2"
      ]
     },
     "execution_count": 28,
     "metadata": {},
     "output_type": "execute_result"
    }
   ],
   "source": [
    "'ab ab ab'.count('ab', 2)"
   ]
  },
  {
   "cell_type": "markdown",
   "id": "8a686522-c1f8-4987-b921-09e7a60e79c4",
   "metadata": {},
   "source": [
    "<b>'str'.split('el', maxsplit=-1)</b> - разбивает строку по указанной комбинации. Второй аргумент ограничивает число разбиений с начала строки"
   ]
  },
  {
   "cell_type": "code",
   "execution_count": 29,
   "id": "b2f78cf5-8d26-462d-addd-c52f533ea8fe",
   "metadata": {},
   "outputs": [
    {
     "data": {
      "text/plain": [
       "['a', 'c a', 'c']"
      ]
     },
     "execution_count": 29,
     "metadata": {},
     "output_type": "execute_result"
    }
   ],
   "source": [
    "'abc abc'.split('b')"
   ]
  },
  {
   "cell_type": "markdown",
   "id": "abd92887-9aee-4e9f-adb1-d19b59606331",
   "metadata": {},
   "source": [
    "### bool"
   ]
  },
  {
   "cell_type": "markdown",
   "id": "5c5e6c2f-b14b-4c43-ba4b-bea73578a91d",
   "metadata": {},
   "source": [
    "Булевый тип данных включает в себя 2 элемента - <i>True</i> и <i>False</i>. Они чаще всего являются результатом булевых операций, например, сравнений, примеры которых были в блоке про числа. К математическим опреаторам >, <, >=, >= добавим ещё 5:<br>\n",
    "<i>==</i>(совпадает) - возвращает <i>True</i>, если соединяет два равных по значению и типу данных выражения, в ином случаи <i>False</i>"
   ]
  },
  {
   "cell_type": "code",
   "execution_count": 30,
   "id": "824a11f3-c802-4285-88b6-52122fda32d6",
   "metadata": {},
   "outputs": [
    {
     "data": {
      "text/plain": [
       "True"
      ]
     },
     "execution_count": 30,
     "metadata": {},
     "output_type": "execute_result"
    }
   ],
   "source": [
    "True == True"
   ]
  },
  {
   "cell_type": "code",
   "execution_count": 31,
   "id": "44c690ee-165f-454a-9e66-d31e78a713c0",
   "metadata": {},
   "outputs": [
    {
     "data": {
      "text/plain": [
       "False"
      ]
     },
     "execution_count": 31,
     "metadata": {},
     "output_type": "execute_result"
    }
   ],
   "source": [
    "'True' == True"
   ]
  },
  {
   "cell_type": "code",
   "execution_count": 32,
   "id": "64270c96-c9f1-4935-8d69-46d94669dfd5",
   "metadata": {},
   "outputs": [
    {
     "data": {
      "text/plain": [
       "False"
      ]
     },
     "execution_count": 32,
     "metadata": {},
     "output_type": "execute_result"
    }
   ],
   "source": [
    "2 != 2.0"
   ]
  },
  {
   "cell_type": "markdown",
   "id": "138e690d-ccc8-4194-bbe5-b31adcaa2ad0",
   "metadata": {},
   "source": [
    "<i>!=</i>(не равно) - возвращает <i>False</i>, если соединяет два равных по значению и типу данных выражения, в ином случаи <i>True</i>"
   ]
  },
  {
   "cell_type": "code",
   "execution_count": 33,
   "id": "fc5c744d-245c-4dda-9bbf-162e3979e684",
   "metadata": {},
   "outputs": [
    {
     "data": {
      "text/plain": [
       "True"
      ]
     },
     "execution_count": 33,
     "metadata": {},
     "output_type": "execute_result"
    }
   ],
   "source": [
    "False != True"
   ]
  },
  {
   "cell_type": "code",
   "execution_count": 34,
   "id": "6c01c5a3-cca4-4b23-bd31-c2b75a4edbcd",
   "metadata": {},
   "outputs": [
    {
     "data": {
      "text/plain": [
       "False"
      ]
     },
     "execution_count": 34,
     "metadata": {},
     "output_type": "execute_result"
    }
   ],
   "source": [
    "2 != 2"
   ]
  },
  {
   "cell_type": "markdown",
   "id": "7a4d376f-fb75-4d41-baa8-26b76bc4ea65",
   "metadata": {},
   "source": [
    "<i>and</i>(и) - возвращает <i>True</i>, если соединяет два выражения с тем же значением <i>True</i>, в ином случаи <i>False</i>"
   ]
  },
  {
   "cell_type": "code",
   "execution_count": 35,
   "id": "5aa5fda8-74f2-42fb-a183-d33a12f5079e",
   "metadata": {},
   "outputs": [
    {
     "data": {
      "text/plain": [
       "True"
      ]
     },
     "execution_count": 35,
     "metadata": {},
     "output_type": "execute_result"
    }
   ],
   "source": [
    "True and True"
   ]
  },
  {
   "cell_type": "code",
   "execution_count": 36,
   "id": "f5e7bad4-911d-4a40-98cb-1e3c6f87e687",
   "metadata": {},
   "outputs": [
    {
     "data": {
      "text/plain": [
       "True"
      ]
     },
     "execution_count": 36,
     "metadata": {},
     "output_type": "execute_result"
    }
   ],
   "source": [
    "(1 < 3) and (2 > 1)"
   ]
  },
  {
   "cell_type": "code",
   "execution_count": 37,
   "id": "9c4c5708-9492-4ab4-a195-6534d0342f5a",
   "metadata": {},
   "outputs": [
    {
     "data": {
      "text/plain": [
       "False"
      ]
     },
     "execution_count": 37,
     "metadata": {},
     "output_type": "execute_result"
    }
   ],
   "source": [
    "False and False"
   ]
  },
  {
   "cell_type": "code",
   "execution_count": 38,
   "id": "8f4e0b05-3a33-494e-8e18-30dc0d55178e",
   "metadata": {},
   "outputs": [
    {
     "data": {
      "text/plain": [
       "False"
      ]
     },
     "execution_count": 38,
     "metadata": {},
     "output_type": "execute_result"
    }
   ],
   "source": [
    "True and False"
   ]
  },
  {
   "cell_type": "markdown",
   "id": "c320fdfb-eb7e-41d8-9f1c-c9e74f25254a",
   "metadata": {},
   "source": [
    "<i>or</i>(или) - возвращает <i>True</i>, если хотя бы одно из выражений <i>True</i>, в ином случаи <i>False</i>"
   ]
  },
  {
   "cell_type": "code",
   "execution_count": 39,
   "id": "131d886a-36db-44df-9236-04ba99c4aec5",
   "metadata": {},
   "outputs": [
    {
     "data": {
      "text/plain": [
       "True"
      ]
     },
     "execution_count": 39,
     "metadata": {},
     "output_type": "execute_result"
    }
   ],
   "source": [
    "True or True"
   ]
  },
  {
   "cell_type": "code",
   "execution_count": 40,
   "id": "6dddd51d-f514-4b88-b158-e33119d0069a",
   "metadata": {},
   "outputs": [
    {
     "data": {
      "text/plain": [
       "False"
      ]
     },
     "execution_count": 40,
     "metadata": {},
     "output_type": "execute_result"
    }
   ],
   "source": [
    "False or False"
   ]
  },
  {
   "cell_type": "code",
   "execution_count": 41,
   "id": "68cf6bbc-5866-446e-a1cc-2e041397b02d",
   "metadata": {},
   "outputs": [
    {
     "data": {
      "text/plain": [
       "True"
      ]
     },
     "execution_count": 41,
     "metadata": {},
     "output_type": "execute_result"
    }
   ],
   "source": [
    "True or False"
   ]
  },
  {
   "cell_type": "markdown",
   "id": "ec555454-4c4f-49da-a947-7d07648aee3f",
   "metadata": {},
   "source": [
    "<i>not</i>(не) - возвращает <i>True</i>, если стоит перед выражением <i>False</i>, в ином случаи <i>True</i>"
   ]
  },
  {
   "cell_type": "code",
   "execution_count": 42,
   "id": "8eedb104-e6af-4d6b-b634-3d62e85594d0",
   "metadata": {},
   "outputs": [
    {
     "data": {
      "text/plain": [
       "False"
      ]
     },
     "execution_count": 42,
     "metadata": {},
     "output_type": "execute_result"
    }
   ],
   "source": [
    "not True"
   ]
  },
  {
   "cell_type": "code",
   "execution_count": 43,
   "id": "a36f7ec6-7f2e-44c5-a26e-c127c6817d96",
   "metadata": {},
   "outputs": [
    {
     "data": {
      "text/plain": [
       "True"
      ]
     },
     "execution_count": 43,
     "metadata": {},
     "output_type": "execute_result"
    }
   ],
   "source": [
    "not 1 >= 5 "
   ]
  },
  {
   "cell_type": "markdown",
   "id": "1b69a9c9-75d7-4a1d-9cb1-1a37d81db81b",
   "metadata": {},
   "source": [
    "## Контейнеры"
   ]
  },
  {
   "cell_type": "markdown",
   "id": "93c63438-7792-4aef-8d57-ddde32f491d8",
   "metadata": {},
   "source": [
    "### list"
   ]
  },
  {
   "cell_type": "markdown",
   "id": "0ebed9f0-e618-4bc2-b124-a600464fb636",
   "metadata": {},
   "source": [
    "В предыдущем примере вывели первый контейнер, окаймлённый квадратными скобками - это и есть список - изменяемый тип данных, хранящий в себе любые другие типы"
   ]
  },
  {
   "cell_type": "code",
   "execution_count": 44,
   "id": "b89f6563-2cd7-49b8-a998-a913f88849f3",
   "metadata": {},
   "outputs": [
    {
     "data": {
      "text/plain": [
       "['a', 1, 2.0]"
      ]
     },
     "execution_count": 44,
     "metadata": {},
     "output_type": "execute_result"
    }
   ],
   "source": [
    "a = ['a', 1, 2.]\n",
    "a"
   ]
  },
  {
   "cell_type": "markdown",
   "id": "b7b4291a-ceb3-449e-9962-01d9e31cacd8",
   "metadata": {},
   "source": [
    "Каждый элемент списка имеет свой индекс, что позволяет использовать их содержимое"
   ]
  },
  {
   "cell_type": "code",
   "execution_count": 45,
   "id": "288bdfbf-0d63-4952-9779-cd47fbe172ad",
   "metadata": {},
   "outputs": [
    {
     "data": {
      "text/plain": [
       "1"
      ]
     },
     "execution_count": 45,
     "metadata": {},
     "output_type": "execute_result"
    }
   ],
   "source": [
    "a[1]"
   ]
  },
  {
   "cell_type": "markdown",
   "id": "1c8212bb-ea0b-4c96-a025-22352b779c5a",
   "metadata": {},
   "source": [
    "Аналогично строкам, можно применять срезы"
   ]
  },
  {
   "cell_type": "code",
   "execution_count": 46,
   "id": "7a8ae6a1-008b-45e8-933e-2b45fc57d3f2",
   "metadata": {},
   "outputs": [
    {
     "data": {
      "text/plain": [
       "[1, 2.0]"
      ]
     },
     "execution_count": 46,
     "metadata": {},
     "output_type": "execute_result"
    }
   ],
   "source": [
    "a[1:]"
   ]
  },
  {
   "cell_type": "markdown",
   "id": "7d1af018-7f83-46b2-87d0-5cb0a214a75e",
   "metadata": {},
   "source": [
    "Пропустили второй индекс, значит, вырезаем до конца. Так же можно задавать только последний индекс или только период"
   ]
  },
  {
   "cell_type": "code",
   "execution_count": 47,
   "id": "f36eeb9a-e351-4831-91c9-26f94c33e486",
   "metadata": {},
   "outputs": [
    {
     "data": {
      "text/plain": [
       "['a', 2.0]"
      ]
     },
     "execution_count": 47,
     "metadata": {},
     "output_type": "execute_result"
    }
   ],
   "source": [
    "a[::2]"
   ]
  },
  {
   "cell_type": "markdown",
   "id": "fee92dce-8e30-4dda-b759-aab596ae3526",
   "metadata": {},
   "source": [
    "Подобно строкам, определены следующие операции:<br>\n",
    "\n",
    "Сложение списков"
   ]
  },
  {
   "cell_type": "code",
   "execution_count": 48,
   "id": "e6957706-32fd-4c67-9226-e55b4824b5d9",
   "metadata": {},
   "outputs": [
    {
     "data": {
      "text/plain": [
       "[1, 2, 3, 4, 5]"
      ]
     },
     "execution_count": 48,
     "metadata": {},
     "output_type": "execute_result"
    }
   ],
   "source": [
    "[1, 2, 3] + [4, 5]"
   ]
  },
  {
   "cell_type": "markdown",
   "id": "05e97d4d-08df-477b-aa26-7f35161dad96",
   "metadata": {},
   "source": [
    "Умножение списка на число"
   ]
  },
  {
   "cell_type": "code",
   "execution_count": 49,
   "id": "8201c5b6-63c3-4ae4-b058-6a91376d427a",
   "metadata": {},
   "outputs": [
    {
     "data": {
      "text/plain": [
       "[1, 2, 1, 2]"
      ]
     },
     "execution_count": 49,
     "metadata": {},
     "output_type": "execute_result"
    }
   ],
   "source": [
    "[1, 2] * 2"
   ]
  },
  {
   "cell_type": "markdown",
   "id": "2b00e57c-a1c0-4149-bc80-c20de74b01a6",
   "metadata": {},
   "source": [
    "<b>[].index('el')</b> - нахождение индекса элемента"
   ]
  },
  {
   "cell_type": "code",
   "execution_count": 50,
   "id": "99731673-7df9-4348-b482-fb40e8d95344",
   "metadata": {},
   "outputs": [
    {
     "data": {
      "text/plain": [
       "1"
      ]
     },
     "execution_count": 50,
     "metadata": {},
     "output_type": "execute_result"
    }
   ],
   "source": [
    "['a', 'b', 'c'].index('b')"
   ]
  },
  {
   "cell_type": "markdown",
   "id": "0e4c270d-66bc-4c28-819a-6afdd9432986",
   "metadata": {},
   "source": [
    "<b>[].count('el')</b> - получение числа заданных элементов"
   ]
  },
  {
   "cell_type": "code",
   "execution_count": 51,
   "id": "7841a6ce-f360-4650-b668-a0f4a36b2724",
   "metadata": {},
   "outputs": [
    {
     "data": {
      "text/plain": [
       "2"
      ]
     },
     "execution_count": 51,
     "metadata": {},
     "output_type": "execute_result"
    }
   ],
   "source": [
    "[1, 2, 3, 1].count(1)"
   ]
  },
  {
   "cell_type": "markdown",
   "id": "5fbd883f-4093-4857-8f2d-9f012a3fffea",
   "metadata": {},
   "source": [
    "Отличительной особенностю изменяемого типа данных является замена элементов \"На месте\", то есть можем заменить по индексу или срезу"
   ]
  },
  {
   "cell_type": "code",
   "execution_count": 52,
   "id": "faa4385b-7486-4ad1-b4ee-db9cb105a8b5",
   "metadata": {},
   "outputs": [
    {
     "data": {
      "text/plain": [
       "[1, 2, 1, 2]"
      ]
     },
     "execution_count": 52,
     "metadata": {},
     "output_type": "execute_result"
    }
   ],
   "source": [
    "a = [1, 2, 3]\n",
    "a[2:4] = [1, 2]\n",
    "a"
   ]
  },
  {
   "cell_type": "code",
   "execution_count": 53,
   "id": "993b50ac-4919-4acf-8f4e-5135457c10b0",
   "metadata": {},
   "outputs": [
    {
     "data": {
      "text/plain": [
       "['a', 2, 1, 2]"
      ]
     },
     "execution_count": 53,
     "metadata": {},
     "output_type": "execute_result"
    }
   ],
   "source": [
    "a[0] = 'a'\n",
    "a"
   ]
  },
  {
   "cell_type": "markdown",
   "id": "e333e85b-70fe-4e3a-ac3b-de072d03fe92",
   "metadata": {},
   "source": [
    "Причём, изменения сохранились в той же переменной!<br>\n",
    "Добавление новых элементов возможно ещё и встроенными методами: <br>\n",
    "<b>[].append('el')</b> - добавляет элемент в конец списка"
   ]
  },
  {
   "cell_type": "code",
   "execution_count": 54,
   "id": "69ef1b34-95e8-43fc-88d4-eb996f4eebc3",
   "metadata": {},
   "outputs": [
    {
     "data": {
      "text/plain": [
       "['a', 2, 1, 2, '5']"
      ]
     },
     "execution_count": 54,
     "metadata": {},
     "output_type": "execute_result"
    }
   ],
   "source": [
    "a.append('5')\n",
    "a"
   ]
  },
  {
   "cell_type": "markdown",
   "id": "4e1671bc-80fd-47dc-8b58-b8096437233e",
   "metadata": {},
   "source": [
    "<b>[].extend(['el1', 'el2'])</b> - добавляет набор элементов в конец списка"
   ]
  },
  {
   "cell_type": "code",
   "execution_count": 55,
   "id": "ade27254-ef95-4937-b2c9-a736f723ff6f",
   "metadata": {},
   "outputs": [
    {
     "data": {
      "text/plain": [
       "['a', 2, 1, 2, '5', 'el1', 'el2']"
      ]
     },
     "execution_count": 55,
     "metadata": {},
     "output_type": "execute_result"
    }
   ],
   "source": [
    "a.extend(['el1', 'el2'])\n",
    "a"
   ]
  },
  {
   "cell_type": "markdown",
   "id": "de9737ec-a6da-4653-8a39-3f7601de2189",
   "metadata": {},
   "source": [
    "Введём операции удаление элементов:<br>\n",
    "<b>[].pop(index)</b> - удаление элемента по индексу"
   ]
  },
  {
   "cell_type": "code",
   "execution_count": 56,
   "id": "77a9728e-c1de-4e07-aac7-f1ee06ed1efa",
   "metadata": {},
   "outputs": [
    {
     "data": {
      "text/plain": [
       "2"
      ]
     },
     "execution_count": 56,
     "metadata": {},
     "output_type": "execute_result"
    }
   ],
   "source": [
    "[1, 2, 3].pop(1)"
   ]
  },
  {
   "cell_type": "markdown",
   "id": "03aaaf84-cd66-4b63-be1d-ed0cbe3233ff",
   "metadata": {},
   "source": [
    "Функция вернула удалённое значение, посмотрим результат для списка"
   ]
  },
  {
   "cell_type": "code",
   "execution_count": 57,
   "id": "0e12fb73-4ead-4d4d-9d44-3393b41b2599",
   "metadata": {},
   "outputs": [
    {
     "data": {
      "text/plain": [
       "[1, 3]"
      ]
     },
     "execution_count": 57,
     "metadata": {},
     "output_type": "execute_result"
    }
   ],
   "source": [
    "a = [1, 2, 3]\n",
    "a.pop(1)\n",
    "a"
   ]
  },
  {
   "cell_type": "markdown",
   "id": "ec04ec11-6214-4d13-b455-826974bb07dc",
   "metadata": {},
   "source": [
    "<b>[].remove('el')</b> - удаление элемента по значению"
   ]
  },
  {
   "cell_type": "code",
   "execution_count": 58,
   "id": "4f05a91f-255d-4232-8dcc-9bad8f1843b8",
   "metadata": {},
   "outputs": [
    {
     "data": {
      "text/plain": [
       "[1, 3]"
      ]
     },
     "execution_count": 58,
     "metadata": {},
     "output_type": "execute_result"
    }
   ],
   "source": [
    "a = [1, 2, 3]\n",
    "a.remove(2)\n",
    "a"
   ]
  },
  {
   "cell_type": "markdown",
   "id": "eca134b0-5526-456e-a5c2-176b4b89d4ab",
   "metadata": {},
   "source": [
    "Из списка строк можно собрать одну, причём с любыми разделителями. Для этого применяем метод <b>'separate'.join(['el1', 'el2'])</b>"
   ]
  },
  {
   "cell_type": "code",
   "execution_count": 59,
   "id": "7954322f-3b73-4d69-8eae-3745862f2692",
   "metadata": {},
   "outputs": [
    {
     "data": {
      "text/plain": [
       "'a1b1c'"
      ]
     },
     "execution_count": 59,
     "metadata": {},
     "output_type": "execute_result"
    }
   ],
   "source": [
    "'1'.join(['a', 'b', 'c'])"
   ]
  },
  {
   "cell_type": "markdown",
   "id": "173ac0d9-17fe-4041-b9fa-c5b7f1e5b61a",
   "metadata": {},
   "source": [
    "Теперь у нас есть инструмент удаления повторяющихся разделителей и восстановления последовательности в нужном формате<br>\n",
    "Пусть у нас есть строка со временем, которую нужно изменить под нужный формат с разделителем ':'"
   ]
  },
  {
   "cell_type": "code",
   "execution_count": 60,
   "id": "c0d1fa71-d4d4-40a6-9165-ed4f925f7c7b",
   "metadata": {},
   "outputs": [],
   "source": [
    "time = '12.19.53'"
   ]
  },
  {
   "cell_type": "markdown",
   "id": "c08af545-5ec0-41e9-afb6-2856dae287e1",
   "metadata": {},
   "source": [
    "Для начала разобъём её на часы, минуты, секунды методом <b>split</b>"
   ]
  },
  {
   "cell_type": "code",
   "execution_count": 61,
   "id": "8147c875-c0c1-4c93-b97e-370b392ea55a",
   "metadata": {},
   "outputs": [
    {
     "data": {
      "text/plain": [
       "['12', '19', '53']"
      ]
     },
     "execution_count": 61,
     "metadata": {},
     "output_type": "execute_result"
    }
   ],
   "source": [
    "time.split('.')"
   ]
  },
  {
   "cell_type": "markdown",
   "id": "dbf1cbcc-383d-4640-a6f5-8cdcf06eecc5",
   "metadata": {},
   "source": [
    "К результату применим <b>join</b>, чтобы собрать итоговую строку"
   ]
  },
  {
   "cell_type": "code",
   "execution_count": 62,
   "id": "5174029e-1f7d-474d-805a-d570c49dff43",
   "metadata": {},
   "outputs": [
    {
     "data": {
      "text/plain": [
       "'12:19:53'"
      ]
     },
     "execution_count": 62,
     "metadata": {},
     "output_type": "execute_result"
    }
   ],
   "source": [
    "':'.join(time.split('.'))"
   ]
  },
  {
   "cell_type": "markdown",
   "id": "0f8d434e-a5b3-4716-b958-f70079b77dff",
   "metadata": {},
   "source": [
    "### tuple"
   ]
  },
  {
   "cell_type": "markdown",
   "id": "92cc60be-6517-4060-942e-4b29393095ed",
   "metadata": {},
   "source": [
    "\"Брат\" списков, задающийся с помощью круглых скобок. Единственное отличие кортежей от списков - неизменяемость. К ним нельзя применять опреации изменения \"на месте\". "
   ]
  },
  {
   "cell_type": "code",
   "execution_count": 63,
   "id": "4f3568ce-0b08-4141-8fa8-7783cdd21e36",
   "metadata": {},
   "outputs": [
    {
     "data": {
      "text/plain": [
       "2"
      ]
     },
     "execution_count": 63,
     "metadata": {},
     "output_type": "execute_result"
    }
   ],
   "source": [
    "t = (1, 2, 3)\n",
    "t[1]"
   ]
  },
  {
   "cell_type": "code",
   "execution_count": 64,
   "id": "8e2ea332-e17a-4946-9cca-7879e70da55e",
   "metadata": {},
   "outputs": [
    {
     "ename": "TypeError",
     "evalue": "'tuple' object does not support item assignment",
     "output_type": "error",
     "traceback": [
      "\u001b[1;31m---------------------------------------------------------------------------\u001b[0m",
      "\u001b[1;31mTypeError\u001b[0m                                 Traceback (most recent call last)",
      "Cell \u001b[1;32mIn[64], line 1\u001b[0m\n\u001b[1;32m----> 1\u001b[0m \u001b[43mt\u001b[49m\u001b[43m[\u001b[49m\u001b[38;5;241;43m1\u001b[39;49m\u001b[43m]\u001b[49m \u001b[38;5;241m=\u001b[39m \u001b[38;5;241m4\u001b[39m\n",
      "\u001b[1;31mTypeError\u001b[0m: 'tuple' object does not support item assignment"
     ]
    }
   ],
   "source": [
    "t[1] = 4"
   ]
  },
  {
   "cell_type": "markdown",
   "id": "8c10ff40-7117-4e9b-b4e1-9f961316512a",
   "metadata": {},
   "source": [
    "При попытку изменить элемент, получаем ошибку"
   ]
  },
  {
   "cell_type": "markdown",
   "id": "a5ba20d1-0d43-4452-b9db-937c0fb05143",
   "metadata": {},
   "source": [
    "Из доступных опреаций есть: <b>().index('el'), 'sep'.join(), ().count('el', __start, __end)</b>, сложение с кортежами и умножение на число"
   ]
  },
  {
   "cell_type": "code",
   "execution_count": 65,
   "id": "05471ee5-742a-490b-94be-aa779112b59d",
   "metadata": {},
   "outputs": [
    {
     "data": {
      "text/plain": [
       "(1, 2, 1, 2)"
      ]
     },
     "execution_count": 65,
     "metadata": {},
     "output_type": "execute_result"
    }
   ],
   "source": [
    "(1, 2) + (1, 2)"
   ]
  },
  {
   "cell_type": "markdown",
   "id": "b448f6aa-00fd-4731-b2ed-64450c98d6e1",
   "metadata": {},
   "source": [
    "### dict"
   ]
  },
  {
   "cell_type": "markdown",
   "id": "7b8f2147-c270-4eee-8479-9158b6768ec8",
   "metadata": {},
   "source": [
    "Словари являются именными контейнерами - каждый элемент в них обладает своим уникальным именем, являющимся заменой индексов в списках и кортежах. Это имя назвается ключом словаря, а соответсвующая ему информация - значением<br>\n",
    "Для создания словаря используются фигурные скобки, в которых пары значений соеденены двоеточием:"
   ]
  },
  {
   "cell_type": "code",
   "execution_count": 66,
   "id": "bc497a2e-6834-4f1d-86c8-b291be9968d8",
   "metadata": {},
   "outputs": [
    {
     "data": {
      "text/plain": [
       "{'a': 1, 'b': 2, 3: 'c', 2: [1, 2]}"
      ]
     },
     "execution_count": 66,
     "metadata": {},
     "output_type": "execute_result"
    }
   ],
   "source": [
    "d = {'a': 1, 'b': 2, 3: 'c', 2: [1, 2]}\n",
    "d"
   ]
  },
  {
   "cell_type": "markdown",
   "id": "1a8e746b-0480-4f2d-a243-2c05219bf7e7",
   "metadata": {},
   "source": [
    "Ключами могут являтся как строки, так и числа, а значениями любой ти данных, в том числе и другие словари<br>\n",
    "Добавление элементов в существующие переменные осуществляется методом <b>{}.update({})</b>"
   ]
  },
  {
   "cell_type": "code",
   "execution_count": 67,
   "id": "43a165bd-2e30-425a-917c-dde0341985cf",
   "metadata": {},
   "outputs": [
    {
     "data": {
      "text/plain": [
       "{'a': 1, 'b': 2, 3: 'c', 2: [1, 2], 'd': 4, 'f': 5}"
      ]
     },
     "execution_count": 67,
     "metadata": {},
     "output_type": "execute_result"
    }
   ],
   "source": [
    "d.update({'d': 4, 'f': 5})\n",
    "d"
   ]
  },
  {
   "cell_type": "markdown",
   "id": "b0a9df7c-c80c-44e9-9496-afbc68f45a93",
   "metadata": {},
   "source": [
    "Чтобы получить значение словаря, требуется указать в квадратных скобках соответствующий ему ключ или использовать метод <b>{}.get(key)</b>, который вернёт <i>None</i> при отсутсвии используемого ключа"
   ]
  },
  {
   "cell_type": "code",
   "execution_count": 68,
   "id": "6c486035-3493-4d38-8cdd-b16f1a51aece",
   "metadata": {},
   "outputs": [
    {
     "data": {
      "text/plain": [
       "4"
      ]
     },
     "execution_count": 68,
     "metadata": {},
     "output_type": "execute_result"
    }
   ],
   "source": [
    "d['d']"
   ]
  },
  {
   "cell_type": "code",
   "execution_count": 69,
   "id": "8654e89a-8c9e-4631-93c2-afdcd6af36d8",
   "metadata": {},
   "outputs": [
    {
     "data": {
      "text/plain": [
       "4"
      ]
     },
     "execution_count": 69,
     "metadata": {},
     "output_type": "execute_result"
    }
   ],
   "source": [
    "d.get('d')"
   ]
  },
  {
   "cell_type": "markdown",
   "id": "fb95660c-bf5a-436f-8089-ddb6f97c5bbd",
   "metadata": {},
   "source": [
    "Удаление выполняется ключевым словом <i>del</i> с указанием элемента по ключу или с помощью <b>{}.pop(key)"
   ]
  },
  {
   "cell_type": "code",
   "execution_count": 70,
   "id": "a732b33a-3a28-4cf2-bee5-a96545999eee",
   "metadata": {},
   "outputs": [
    {
     "data": {
      "text/plain": [
       "{'a': 1, 'b': 2, 3: 'c', 2: [1, 2], 'd': 4}"
      ]
     },
     "execution_count": 70,
     "metadata": {},
     "output_type": "execute_result"
    }
   ],
   "source": [
    "del d['f']\n",
    "d"
   ]
  },
  {
   "cell_type": "code",
   "execution_count": 71,
   "id": "c205a15d-6aff-457b-a800-b7962af28341",
   "metadata": {},
   "outputs": [
    {
     "data": {
      "text/plain": [
       "{'b': 2, 3: 'c', 2: [1, 2], 'd': 4}"
      ]
     },
     "execution_count": 71,
     "metadata": {},
     "output_type": "execute_result"
    }
   ],
   "source": [
    "d.pop('a')\n",
    "d"
   ]
  },
  {
   "cell_type": "markdown",
   "id": "3104a6a0-6d89-4adf-9760-b8faa83e4209",
   "metadata": {},
   "source": [
    "<b>{}.keys(), {}.values(), {}.items()</b> возвращают множества ключей, значений и пар (ключ, значение) соответсвенно"
   ]
  },
  {
   "cell_type": "code",
   "execution_count": 72,
   "id": "60ea7c85-982d-41ff-8d4a-91a1ec6a8644",
   "metadata": {},
   "outputs": [
    {
     "data": {
      "text/plain": [
       "dict_keys(['b', 3, 2, 'd'])"
      ]
     },
     "execution_count": 72,
     "metadata": {},
     "output_type": "execute_result"
    }
   ],
   "source": [
    "d.keys()"
   ]
  },
  {
   "cell_type": "code",
   "execution_count": 73,
   "id": "4d9c45f8-0776-406b-9f1e-f2cbb9dff08e",
   "metadata": {},
   "outputs": [
    {
     "data": {
      "text/plain": [
       "dict_values([2, 'c', [1, 2], 4])"
      ]
     },
     "execution_count": 73,
     "metadata": {},
     "output_type": "execute_result"
    }
   ],
   "source": [
    "d.values()"
   ]
  },
  {
   "cell_type": "code",
   "execution_count": 74,
   "id": "8e998921-3736-4bdb-b49e-d8a96fb7059e",
   "metadata": {},
   "outputs": [
    {
     "data": {
      "text/plain": [
       "dict_items([('b', 2), (3, 'c'), (2, [1, 2]), ('d', 4)])"
      ]
     },
     "execution_count": 74,
     "metadata": {},
     "output_type": "execute_result"
    }
   ],
   "source": [
    "d.items()"
   ]
  },
  {
   "cell_type": "markdown",
   "id": "27ad2533-3704-4198-9974-0dcb404e3011",
   "metadata": {},
   "source": [
    "Между типами данных можно переходить, используя соответствующие функции"
   ]
  },
  {
   "cell_type": "code",
   "execution_count": 75,
   "id": "cc3e0a41-776f-4196-8727-79efedbf379a",
   "metadata": {},
   "outputs": [
    {
     "data": {
      "text/plain": [
       "int"
      ]
     },
     "execution_count": 75,
     "metadata": {},
     "output_type": "execute_result"
    }
   ],
   "source": [
    "a = 1\n",
    "type(a)"
   ]
  },
  {
   "cell_type": "code",
   "execution_count": 76,
   "id": "9d5c0c62-fb10-419a-b6f9-0a28a78f6717",
   "metadata": {},
   "outputs": [
    {
     "data": {
      "text/plain": [
       "str"
      ]
     },
     "execution_count": 76,
     "metadata": {},
     "output_type": "execute_result"
    }
   ],
   "source": [
    "b = str(a)\n",
    "type(b)"
   ]
  },
  {
   "cell_type": "markdown",
   "id": "ed0bcaa8-8b24-4361-b4e0-c6c250abb19c",
   "metadata": {},
   "source": [
    "Не всегда такой переход возможен, например, букву нельзя перевести в число"
   ]
  },
  {
   "cell_type": "code",
   "execution_count": 77,
   "id": "51ae65e2-dc0d-4b67-b414-3427b89f1e23",
   "metadata": {},
   "outputs": [
    {
     "ename": "ValueError",
     "evalue": "could not convert string to float: 'a'",
     "output_type": "error",
     "traceback": [
      "\u001b[1;31m---------------------------------------------------------------------------\u001b[0m",
      "\u001b[1;31mValueError\u001b[0m                                Traceback (most recent call last)",
      "Cell \u001b[1;32mIn[77], line 1\u001b[0m\n\u001b[1;32m----> 1\u001b[0m \u001b[38;5;28;43mfloat\u001b[39;49m\u001b[43m(\u001b[49m\u001b[38;5;124;43m'\u001b[39;49m\u001b[38;5;124;43ma\u001b[39;49m\u001b[38;5;124;43m'\u001b[39;49m\u001b[43m)\u001b[49m\n",
      "\u001b[1;31mValueError\u001b[0m: could not convert string to float: 'a'"
     ]
    }
   ],
   "source": [
    "float('a')"
   ]
  },
  {
   "cell_type": "markdown",
   "id": "67bb5fa1-0731-4cab-b392-910f260bd8d0",
   "metadata": {},
   "source": [
    "Не был упомянут тип <i>set</i>, его опустим из рассмотрения"
   ]
  },
  {
   "cell_type": "markdown",
   "id": "d3d71c0f-b59e-411d-a768-4fa41e271f95",
   "metadata": {},
   "source": [
    "Рассмотренная в данной главе информация станет справочными данными в последующих частях курса, так как включает достаточный объём функций и методов для работы с перечисленными типами данных."
   ]
  },
  {
   "cell_type": "markdown",
   "id": "7e5b1379-d2e0-4628-9181-ff1bc1c10c31",
   "metadata": {},
   "source": [
    "# Ветвления"
   ]
  },
  {
   "cell_type": "markdown",
   "id": "28fa1984-4234-4427-b57d-c5a703fd3e35",
   "metadata": {},
   "source": [
    "В этой главе будут рассмотрены способы проверки соответствия данных каким-либо условиям. Для понимания по какому пути выполнился код, введём функцию <b>print('text1', 'text2')</b>, которая будет выводить переданные ей данные под блоком, как наблюдали ранее.<br>\n",
    "Рассмотрим два способа ветвления: <i>if-elif-else, match-case</i>. Начём с первого."
   ]
  },
  {
   "cell_type": "markdown",
   "id": "3aaa9e3b-0713-4bb0-b47b-e2d7aa17b9d4",
   "metadata": {},
   "source": [
    "## if-elif-else"
   ]
  },
  {
   "cell_type": "markdown",
   "id": "7e5eb295-e9fd-467e-90e6-1fb36d70ab12",
   "metadata": {},
   "source": [
    "Прямой перевод будет выглядеть так: если... - иначе если... - иначе... Можем выстроить последовательную проверку условий, <br>\n",
    "при выполнении одного из них, будет исполнен код внутри конкретного блока, и ветвление завершится"
   ]
  },
  {
   "cell_type": "code",
   "execution_count": 78,
   "id": "fc64aff1-62e8-4dbd-8b33-a19fd9a615f6",
   "metadata": {},
   "outputs": [
    {
     "name": "stdout",
     "output_type": "stream",
     "text": [
      "2\n"
     ]
    }
   ],
   "source": [
    "a = 2\n",
    "if a == 1:\n",
    "    print(1)\n",
    "elif a == 2:\n",
    "    print(2)\n",
    "elif a < 5:\n",
    "    print(5)\n",
    "else:\n",
    "    print(3)"
   ]
  },
  {
   "cell_type": "markdown",
   "id": "7619d816-8558-48bd-bae4-e9415944a2fd",
   "metadata": {},
   "source": [
    "Первым истинным является второе условие, поэтому только оно и выполнилось. Несмотря на то, что <br>\n",
    "после него находится ещё одно верное сравнение, до него не дошла очередь, поэтому мы не увидели <i>5</i> в ответе. <br>\n",
    "Важно отметить две стилистические особенности:\n",
    "1) После каждого оператора ставиться <i>:</i> для отметки завершения условия и перехода к его \"телу\";<br>\n",
    "2) Python - чувствительный к табуляции язык, из-за чего каждое тело условия выделяется <br>\n",
    "3) одним знаком табуляции или четырмя пробелами, иначе увидем ошибку<br>\n",
    "\n",
    "То же самое справедливо для условия в условии:"
   ]
  },
  {
   "cell_type": "code",
   "execution_count": 79,
   "id": "f12b8898-0239-46c9-9fef-98172e0d8ee5",
   "metadata": {},
   "outputs": [
    {
     "name": "stdout",
     "output_type": "stream",
     "text": [
      "Однозначное\n"
     ]
    }
   ],
   "source": [
    "a = 5\n",
    "if a > 0:\n",
    "    if a > 9:\n",
    "        print('Двузначное')\n",
    "    else:\n",
    "        print('Однозначное')\n",
    "elif a == 0:\n",
    "    print(0)\n",
    "else:\n",
    "    print('Отрицательное')"
   ]
  },
  {
   "cell_type": "markdown",
   "id": "19627bef-4261-46d1-8fe8-a464c67696f0",
   "metadata": {},
   "source": [
    "Получаем, что тело ветвления в теле другого ветвления будет выделено двумя <i>\\t</i> и так далее<br>\n",
    "Условие может быть сложным, для удобства оно разделяется круглыми скобками:"
   ]
  },
  {
   "cell_type": "code",
   "execution_count": 80,
   "id": "c4961187-d155-4228-8672-ea2c89646a0f",
   "metadata": {},
   "outputs": [
    {
     "name": "stdout",
     "output_type": "stream",
     "text": [
      "Однозначное\n"
     ]
    }
   ],
   "source": [
    "a = 5\n",
    "if (a>0) and (a>9):\n",
    "    print('Двузначное')\n",
    "elif (a>0) and (a<=9):\n",
    "    print('Однозначное')\n",
    "elif a == 0:\n",
    "    print(0)\n",
    "else:\n",
    "    print('Отрицательное')"
   ]
  },
  {
   "cell_type": "markdown",
   "id": "800b3efc-2b0a-4324-927d-73b2d92cbf5f",
   "metadata": {},
   "source": [
    "## match-case"
   ]
  },
  {
   "cell_type": "raw",
   "id": "3f9eb224-eeba-4854-8846-6b073cd0b942",
   "metadata": {},
   "source": [
    "Удобная для проверки содержимого переменных конструкция:"
   ]
  },
  {
   "cell_type": "code",
   "execution_count": 81,
   "id": "d0804f5a-d6bd-4f91-991f-4f981032e589",
   "metadata": {},
   "outputs": [
    {
     "name": "stdout",
     "output_type": "stream",
     "text": [
      "5\n"
     ]
    }
   ],
   "source": [
    "a = 5\n",
    "match a:\n",
    "    case 3: print(3)\n",
    "    case 4: print(4)\n",
    "    case 5: print(5)\n",
    "    case _: print(0)"
   ]
  },
  {
   "cell_type": "markdown",
   "id": "4c24660a-9a3f-48d4-8c44-39eaadfc6e24",
   "metadata": {},
   "source": [
    "Последнея строка аналогична <i>else</i>. В отличие от предыдущей конструкции, данная может проверять так:"
   ]
  },
  {
   "cell_type": "code",
   "execution_count": 82,
   "id": "9d43a5e5-63b9-4d0d-9b7b-287a548172a2",
   "metadata": {},
   "outputs": [
    {
     "name": "stdout",
     "output_type": "stream",
     "text": [
      "Однозначное\n"
     ]
    }
   ],
   "source": [
    "a = 5\n",
    "match ((a > 0), (a > 9)):\n",
    "    case (True, True): print('Двузначное')\n",
    "    case (True, False): print('Однозначное')\n",
    "    case (False, False): print('Отрицательное')\n",
    "    case _: print('Что ты такое??')"
   ]
  },
  {
   "cell_type": "markdown",
   "id": "3364e9d1-6254-4412-a6fc-1fe1caac0f91",
   "metadata": {},
   "source": [
    "Одновременно сверяются несколько условий или значений, что оказывается удобнее <i>if-elif-else</i>. <br>\n",
    "Обратите внимание на <i>:</i> и табуляцию"
   ]
  },
  {
   "cell_type": "markdown",
   "id": "e00d8e1e-f6be-4994-be30-cf615d87fe9c",
   "metadata": {},
   "source": [
    "Внутри одного <i>case</i> переменная может сравниваться с несколькими значениями, в этом помогает разделитель |, равносильный <i>или</i>:"
   ]
  },
  {
   "cell_type": "code",
   "execution_count": 83,
   "id": "14ad664d-14ff-4e63-8c02-84ecfb7b35b8",
   "metadata": {},
   "outputs": [
    {
     "name": "stdout",
     "output_type": "stream",
     "text": [
      "2\n"
     ]
    }
   ],
   "source": [
    "a = 5\n",
    "match a:\n",
    "    case 1 | 2 | 3: print(1)\n",
    "    case 4 | 5 | 6: print(2)"
   ]
  },
  {
   "cell_type": "markdown",
   "id": "15a9e4c2-d8fe-40ff-8464-aa3aedf838d7",
   "metadata": {},
   "source": [
    "Отметим особенность булевого типа данных - любой тип данных можно перевести в булевый, причём значение <i>False</i> будет выведено если:\n",
    "1) Переводим число, равное 0\n",
    "2) Переводим пустую строку, список, кортеж...\n",
    "3) Переводим неистенное условие "
   ]
  },
  {
   "cell_type": "code",
   "execution_count": 84,
   "id": "aa7aba3e-2029-4c9d-80ce-8a2330e331bc",
   "metadata": {},
   "outputs": [
    {
     "name": "stdout",
     "output_type": "stream",
     "text": [
      "False True\n",
      "False True\n",
      "False\n"
     ]
    }
   ],
   "source": [
    "print(bool(0), bool(1))\n",
    "print(bool(''), bool('a'))\n",
    "print(bool(1 == 2))"
   ]
  },
  {
   "cell_type": "markdown",
   "id": "09fcb124-688d-447d-8726-d8d45270b079",
   "metadata": {},
   "source": [
    "Этим можно пользоваться, например, нам важно проверить - является ли число 0. Для этого есть 2 варианта:"
   ]
  },
  {
   "cell_type": "code",
   "execution_count": 85,
   "id": "3547c0f4-d71f-4a99-bdc1-88fd6fb83e98",
   "metadata": {},
   "outputs": [
    {
     "name": "stdout",
     "output_type": "stream",
     "text": [
      "!= 0\n",
      "!= 0\n"
     ]
    }
   ],
   "source": [
    "a = 1\n",
    "if a == 0:\n",
    "    print(0)\n",
    "else:\n",
    "    print('!= 0')\n",
    "    \n",
    "if not a:\n",
    "    print(0)\n",
    "else:\n",
    "    print('!= 0')"
   ]
  },
  {
   "cell_type": "markdown",
   "id": "d180ec29-f5c8-4e2a-9b01-cbbd4a8c75c9",
   "metadata": {},
   "source": [
    "Переменная неявно переведена в булево значение"
   ]
  },
  {
   "cell_type": "markdown",
   "id": "91d75191-0ebd-4f51-856d-fd22a82d2312",
   "metadata": {},
   "source": [
    "# Циклы"
   ]
  },
  {
   "cell_type": "markdown",
   "id": "4b06ffd9-8730-4378-91a1-2e05dd3c57d4",
   "metadata": {},
   "source": [
    "Выполнение одной операции несколько раз или поочерёдное измененин каждого элемента контейнера порой невозмоно сделать без применения циклических конструкций или просто циклов. В Python 2 вида: <i>for, while</i><br>"
   ]
  },
  {
   "cell_type": "markdown",
   "id": "2fd69def-7332-4482-92cb-9ec35afacb6b",
   "metadata": {},
   "source": [
    "## for-in"
   ]
  },
  {
   "cell_type": "markdown",
   "id": "05627da5-339f-4e2b-8725-d80ef364df51",
   "metadata": {},
   "source": [
    "Цикл перебора элементов конструктора и применение к ним или с ними каких-либо преобразований. Например, каждому элементу списка добавить единицу"
   ]
  },
  {
   "cell_type": "code",
   "execution_count": 86,
   "id": "bb189621-554d-44e2-9a48-5ecaf642bf35",
   "metadata": {},
   "outputs": [
    {
     "name": "stdout",
     "output_type": "stream",
     "text": [
      "2\n",
      "3\n",
      "4\n",
      "5\n"
     ]
    }
   ],
   "source": [
    "l = [1, 2, 3, 4]\n",
    "for element in l:\n",
    "    element += 1\n",
    "    print(element)"
   ]
  },
  {
   "cell_type": "markdown",
   "id": "8e065725-4a7a-4526-a012-a95958879877",
   "metadata": {},
   "source": [
    "<i>element</i> принимает все значения из <i>l</i> поочереди, и к ним применяется операция <i>+=</i>, прибавляющая число. Аналогично ему используется <i>-=, *=, /=</i><br>\n",
    "Как и с ветвлениями, тело цикла имеет табуляцию<br>\n",
    "Часто применяется <b>range(start=0, end, step=1)</b>, генерирующая последовательность чисел от начального до конечного-1 с заданным шагом. Функция возвращает объект генератор, который не будем рассматривать в курсе, поэтому сразу переводим его в список"
   ]
  },
  {
   "cell_type": "code",
   "execution_count": 87,
   "id": "56987418-1846-4766-b448-b20b45a75899",
   "metadata": {},
   "outputs": [
    {
     "data": {
      "text/plain": [
       "[2, 4, 6, 8]"
      ]
     },
     "execution_count": 87,
     "metadata": {},
     "output_type": "execute_result"
    }
   ],
   "source": [
    "list(range(2, 10, 2))"
   ]
  },
  {
   "cell_type": "code",
   "execution_count": 88,
   "id": "9f475834-6c79-4ad3-9649-103ed0be1e6b",
   "metadata": {},
   "outputs": [
    {
     "data": {
      "text/plain": [
       "[2, 3, 4, 5]"
      ]
     },
     "execution_count": 88,
     "metadata": {},
     "output_type": "execute_result"
    }
   ],
   "source": [
    "l = [1, 2, 3, 4]\n",
    "for index in range(4):\n",
    "    l[index] += 1\n",
    "l"
   ]
  },
  {
   "cell_type": "markdown",
   "id": "b39c8db9-592c-48a3-8487-0c8ceefd6bde",
   "metadata": {},
   "source": [
    "Ту же операцию выполнили с заменой элементов с помощью обращения по индексам<br>\n",
    "Если требуется использовать и индексы, и значения контейнера, удобно применить функцию <b>enumerate(iter)</b>, возвращающую обе переменные"
   ]
  },
  {
   "cell_type": "code",
   "execution_count": 89,
   "id": "188bede6-7858-407b-b374-5eb2e7b005df",
   "metadata": {},
   "outputs": [
    {
     "name": "stdout",
     "output_type": "stream",
     "text": [
      "0 a\n",
      "1 b\n",
      "2 c\n",
      "3 d\n"
     ]
    }
   ],
   "source": [
    "for index, value in enumerate(['a', 'b', 'c', 'd']):\n",
    "    print(index, value)"
   ]
  },
  {
   "cell_type": "markdown",
   "id": "4cb19d74-37bf-48c4-80a3-b5dbd5657a13",
   "metadata": {},
   "source": [
    "Названия переменных слева могут быть любыми неповторяющимися в одном цикле, также они называются итерационными переменными, так как итерация - один шаг цикла, а контейнер, по которому проходим - итериционным объектом или итератором<br>\n",
    "Вот так можно выводить индексы только чётных чисел из некоторой последовательности:"
   ]
  },
  {
   "cell_type": "code",
   "execution_count": 90,
   "id": "da7b58dc-c1e6-4e46-9730-135dc2b8896b",
   "metadata": {},
   "outputs": [
    {
     "name": "stdout",
     "output_type": "stream",
     "text": [
      "0\n",
      "2\n"
     ]
    }
   ],
   "source": [
    "sequence = [42, 263, 763222, 73, 5211]\n",
    "for index, number in enumerate(sequence):\n",
    "    if number % 2 == 0:\n",
    "        print(index)"
   ]
  },
  {
   "cell_type": "markdown",
   "id": "4a28572f-a410-4ac4-89a9-bfcfb6ebd181",
   "metadata": {},
   "source": [
    "Для остановки выполнения цикла можно применить ключевое слово <i>break</i>"
   ]
  },
  {
   "cell_type": "code",
   "execution_count": 91,
   "id": "7f770a79-94d4-4540-a1b4-78aebba9dae3",
   "metadata": {},
   "outputs": [
    {
     "name": "stdout",
     "output_type": "stream",
     "text": [
      "0\n",
      "1\n",
      "2\n",
      "3\n",
      "4\n"
     ]
    }
   ],
   "source": [
    "for i in range(10):\n",
    "    if i == 5:\n",
    "        break\n",
    "    print(i)"
   ]
  },
  {
   "cell_type": "markdown",
   "id": "281c9aef-c313-41ee-902e-38799ecd16ee",
   "metadata": {},
   "source": [
    "Как только условие стало истинным, перешли к <i>break</i> и вышли из цикла"
   ]
  },
  {
   "cell_type": "markdown",
   "id": "1a4ad197-ec82-4c77-bd93-64f45834ae30",
   "metadata": {},
   "source": [
    "## while"
   ]
  },
  {
   "cell_type": "markdown",
   "id": "801160ab-a545-4817-9013-9ca042cced55",
   "metadata": {},
   "source": [
    "Такой цикл продолжает работать, пока выполняется условие после него:"
   ]
  },
  {
   "cell_type": "code",
   "execution_count": 92,
   "id": "9455f4f5-30fc-4667-b654-79926eb0852a",
   "metadata": {},
   "outputs": [
    {
     "name": "stdout",
     "output_type": "stream",
     "text": [
      "1\n",
      "2\n",
      "3\n",
      "4\n"
     ]
    }
   ],
   "source": [
    "i = 0\n",
    "while i < 4:\n",
    "    i += 1\n",
    "    print(i)"
   ]
  },
  {
   "cell_type": "markdown",
   "id": "81ab162a-eb52-4eae-ae56-9de189b1f9e9",
   "metadata": {},
   "source": [
    "Как только <i>i</i> перестал удовлетворять условию, цикл завершился. Очевидно, что вместо условие может быть любое выражение, приводимое к <i>True</i> или <i>False</i>, например:"
   ]
  },
  {
   "cell_type": "code",
   "execution_count": 93,
   "id": "547d490d-bf18-4d54-b189-140022d20861",
   "metadata": {},
   "outputs": [
    {
     "ename": "IndentationError",
     "evalue": "unexpected indent (2602289763.py, line 2)",
     "output_type": "error",
     "traceback": [
      "\u001b[1;36m  Cell \u001b[1;32mIn[93], line 2\u001b[1;36m\u001b[0m\n\u001b[1;33m    ...\u001b[0m\n\u001b[1;37m    ^\u001b[0m\n\u001b[1;31mIndentationError\u001b[0m\u001b[1;31m:\u001b[0m unexpected indent\n"
     ]
    }
   ],
   "source": [
    "# while True:\n",
    "    ..."
   ]
  },
  {
   "cell_type": "markdown",
   "id": "77832bbd-f24f-40f2-926a-2ab47d254fbe",
   "metadata": {},
   "source": [
    "Делать бесконечные циклы опасно для свободных ресурсов вашего ПК"
   ]
  },
  {
   "cell_type": "markdown",
   "id": "bb014d92-d303-48d0-a7f9-7c589edeaf16",
   "metadata": {},
   "source": [
    "# Функции"
   ]
  },
  {
   "cell_type": "markdown",
   "id": "0525bed5-ef99-400d-9582-f2576a359230",
   "metadata": {},
   "source": [
    "До этого момента испоьзовали только стандартные функции, позволяющие вызывать фрагменты кода одной строкой. Теперь научимся писать свои функции. Её создание начинается с ключевого слова <i>def</i>, названия функции и ожидаемых аргументов"
   ]
  },
  {
   "cell_type": "code",
   "execution_count": 94,
   "id": "aa32d1a3-00d4-4530-a87d-efafbcc4166e",
   "metadata": {},
   "outputs": [],
   "source": [
    "def func_name(arg1, arg2, key_arg=0):\n",
    "    ..."
   ]
  },
  {
   "cell_type": "markdown",
   "id": "e7e8c97a-5f04-49fa-84cc-61eb9e1d70b9",
   "metadata": {},
   "source": [
    "Тело функции(её содержимое) выделяется табуляцией. Простая функция без аргументов может выполнить некоторую логику без возврата значения"
   ]
  },
  {
   "cell_type": "code",
   "execution_count": 95,
   "id": "3af5bba3-1e4b-4802-a4f4-6388e60fc290",
   "metadata": {},
   "outputs": [
    {
     "name": "stdout",
     "output_type": "stream",
     "text": [
      "1\n",
      "1\n"
     ]
    }
   ],
   "source": [
    "def print_1():\n",
    "    print(1)\n",
    "\n",
    "print_1()\n",
    "print_1()"
   ]
  },
  {
   "cell_type": "markdown",
   "id": "5fd3a6af-e0f8-44ce-a6ea-31b398ec5f30",
   "metadata": {},
   "source": [
    "Функции позволяют избежать повторяемости кода, путём упаковки часто встречающихся одинаковых фрагментов и их вызова в нужных частях программы. Для вызова указываем название и в круглых скобках перечисляем передаваемые аргументы<br>\n",
    "Некоторые функции возвращают некоторый результат, например, значение внутренней(локальной переменной), которая указывается после ключевого слова <i>return</i>"
   ]
  },
  {
   "cell_type": "code",
   "execution_count": 96,
   "id": "295b49a2-2a4a-4d97-a847-d431b8047d0d",
   "metadata": {},
   "outputs": [
    {
     "name": "stdout",
     "output_type": "stream",
     "text": [
      "5\n"
     ]
    }
   ],
   "source": [
    "def get_5():\n",
    "    n = 5\n",
    "    return n\n",
    "\n",
    "print(get_5())"
   ]
  },
  {
   "cell_type": "markdown",
   "id": "10f4e021-536b-4174-87cd-7c9c66bf3230",
   "metadata": {},
   "source": [
    "Интереснее работать с функциями, требующими аргументы, которые бывают двух видов: ключевые и неключевые. Начнём с последних - неключевым называется аргумент, значение которого не определено по умолчанию и без которых функция не сможет выполниться"
   ]
  },
  {
   "cell_type": "code",
   "execution_count": 97,
   "id": "a7d63f54-47f5-437e-b3ea-9d62742a951e",
   "metadata": {},
   "outputs": [
    {
     "name": "stdout",
     "output_type": "stream",
     "text": [
      "1\n",
      "5\n",
      "5\n"
     ]
    }
   ],
   "source": [
    "def print_number(number):\n",
    "    print(number)\n",
    "\n",
    "print_number(1)\n",
    "print_number(5)\n",
    "print_number(number=5)"
   ]
  },
  {
   "cell_type": "markdown",
   "id": "f989c6ac-2575-49c7-8d6f-15f9407ec592",
   "metadata": {},
   "source": [
    "Чтобы передать неключевые аргументы, указываем их значения в том же порядке, в каком они прописаны в функции"
   ]
  },
  {
   "cell_type": "code",
   "execution_count": 98,
   "id": "82ae6471-b083-4163-a306-5cf2e7583922",
   "metadata": {},
   "outputs": [
    {
     "name": "stdout",
     "output_type": "stream",
     "text": [
      "3\n"
     ]
    }
   ],
   "source": [
    "def sum(a, b):\n",
    "    return a + b\n",
    "\n",
    "print(sum(1, 2))"
   ]
  },
  {
   "cell_type": "markdown",
   "id": "fd7e7599-9133-40d6-950d-9760489cf1b1",
   "metadata": {},
   "source": [
    "Как правило, данный вид аргументов используется в случаях, когда они обладают одинаковой ролью или обязательны.<br>\n",
    "Ключевые аргументы имеют значение по умолчанию (указано после знака равно) и могут не указываться в вызове функции:"
   ]
  },
  {
   "cell_type": "code",
   "execution_count": 99,
   "id": "dea0a62b-2521-42eb-a038-e4108cc2089c",
   "metadata": {},
   "outputs": [
    {
     "data": {
      "text/plain": [
       "'1-2-3'"
      ]
     },
     "execution_count": 99,
     "metadata": {},
     "output_type": "execute_result"
    }
   ],
   "source": [
    "def concatinate(a, b, c, sep=''):\n",
    "    return str(a) + sep + str(b) + sep + str(c)\n",
    "\n",
    "concatinate(1, 2, 3)\n",
    "concatinate(1, 2, 3, '-')"
   ]
  },
  {
   "cell_type": "markdown",
   "id": "c7d34e1d-32a0-4675-b397-d23c83c369f0",
   "metadata": {},
   "source": [
    "<b>concatinate</b> ожидает три элемента, которые соединит с разделителем <i>sep</i> в строку, причём разделитель по умолчанию отсутсвует. У нас есть выбор: задавать его или опустить, а функция всё равно отработает без ошибок <br>\n",
    "Создаваемые внутри функций переменные не видны за её пределами, поэтому и называются локальными"
   ]
  },
  {
   "cell_type": "markdown",
   "id": "44e99763-426c-4d4b-8ec7-4135fb1413fe",
   "metadata": {},
   "source": [
    "Посмотрим ещё несколько примеров:"
   ]
  },
  {
   "cell_type": "markdown",
   "id": "b4892ed4-d74c-4247-80ac-6c3b6d566cd5",
   "metadata": {},
   "source": [
    "Пусть нам нужно рассчитать сумму всех чисел в массиве. Запросим сам массив, создадим переменную <i>s</i> для хранения ответа и в цикле по элементам массива прибавим их к значению этой переменной"
   ]
  },
  {
   "cell_type": "code",
   "execution_count": 100,
   "id": "e9a0ed0f-9147-4dc4-8e9d-d5e6a9472d2d",
   "metadata": {},
   "outputs": [
    {
     "name": "stdout",
     "output_type": "stream",
     "text": [
      "1054\n"
     ]
    }
   ],
   "source": [
    "def sum_massive(massive):\n",
    "    s = 0\n",
    "    for n in massive:\n",
    "        s += n\n",
    "    return s\n",
    "\n",
    "l = (1, 54, 134, 865)\n",
    "print(sum_massive(l))"
   ]
  },
  {
   "cell_type": "markdown",
   "id": "9b99e51a-2ae5-4245-8245-ac53c665ba48",
   "metadata": {},
   "source": [
    "Классический пример с вычислением факториала: на каждом шаге умножаем результат на число, а затем уменьшаем его на 1, и так пока число не уменьшиться до 1"
   ]
  },
  {
   "cell_type": "code",
   "execution_count": 101,
   "id": "a0793ff5-7e5f-442d-b69e-a37033892ef5",
   "metadata": {},
   "outputs": [
    {
     "name": "stdout",
     "output_type": "stream",
     "text": [
      "24\n",
      "3628800\n"
     ]
    }
   ],
   "source": [
    "def factorial(n):\n",
    "    result = 1\n",
    "    while n > 1:\n",
    "        result *= n\n",
    "        n -= 1\n",
    "    return result\n",
    "\n",
    "print(factorial(4))\n",
    "print(factorial(10))"
   ]
  },
  {
   "cell_type": "markdown",
   "id": "85dc33c4-6dcf-42f1-bee4-54dd5180146c",
   "metadata": {},
   "source": [
    "Ради удобства повторного использования написанных функций хорошо добавлять описание их работы, аргументов и вывода. Это можно сделать так:"
   ]
  },
  {
   "cell_type": "code",
   "execution_count": 102,
   "id": "bdf78b6e-ec48-4029-bb07-9943d3ffff0b",
   "metadata": {},
   "outputs": [],
   "source": [
    "def sum_massive(massive: list | tuple) -> int | float:\n",
    "    \"\"\"\n",
    "    Суммирование чисел в списке или кортеже\n",
    "    :param massive: Список или кортеж с числами\n",
    "    :return: Сумма чисел массива, тип данных зависит от типа суммируемых элементов\n",
    "    \"\"\"\n",
    "    s = 0\n",
    "    for n in massive:\n",
    "        s += n\n",
    "    return s"
   ]
  },
  {
   "cell_type": "markdown",
   "id": "1567bc5d-6ab0-41d2-afae-c4165f685e61",
   "metadata": {},
   "source": [
    "Кода стало больше, но теперь не нужно вникать в логику функции, так как она полностью описана. <i>|</i> равносильно <i>или</i>"
   ]
  },
  {
   "cell_type": "markdown",
   "id": "f5a97588-ad88-4cec-bdd4-2aca61b6fa7b",
   "metadata": {},
   "source": [
    "Описанных стандартных элементов языка достаточно для использования в дальнейшем, но добавим несколько в качестве дополнительной информации"
   ]
  },
  {
   "cell_type": "markdown",
   "id": "46779a3f-4cb3-4bbf-b61a-f5916a17195f",
   "metadata": {},
   "source": [
    "# Дополнительно"
   ]
  },
  {
   "cell_type": "markdown",
   "id": "440ff549-7a1c-405e-a98c-759b24de2be3",
   "metadata": {},
   "source": [
    "## f-строки"
   ]
  },
  {
   "cell_type": "markdown",
   "id": "6c12a30b-af44-4a07-abcd-e070bb0953b6",
   "metadata": {},
   "source": [
    "Упрощают создание строк из нескольких компонентов"
   ]
  },
  {
   "cell_type": "code",
   "execution_count": 103,
   "id": "e9b19be7-404b-43c6-a17a-7b425551a461",
   "metadata": {},
   "outputs": [
    {
     "name": "stdout",
     "output_type": "stream",
     "text": [
      "Число равно 5\n"
     ]
    }
   ],
   "source": [
    "n = 5\n",
    "string = f'Число равно {n}'\n",
    "print(string)"
   ]
  },
  {
   "cell_type": "markdown",
   "id": "9474fd3c-66c1-4e60-956b-ef99b702614a",
   "metadata": {},
   "source": [
    "Перед строкой указываем её тип - в нашем случаи <i>f</i> и в месте, где необходимо вставить значение переменной или результат выражения помещаем их в фигурных скобках<br>\n",
    "<b>Внимание:</b> В версиях языка до 3.12 не могут встречаться строки одна в другой с одинаковыми ковычками, то есть такая запись будет недопустима:"
   ]
  },
  {
   "cell_type": "code",
   "execution_count": 104,
   "id": "09447f3f-fae3-4706-91ab-e62cfbb35c36",
   "metadata": {},
   "outputs": [
    {
     "data": {
      "text/plain": [
       "'.......'"
      ]
     },
     "execution_count": 104,
     "metadata": {},
     "output_type": "execute_result"
    }
   ],
   "source": [
    "f'....{'...'}'"
   ]
  },
  {
   "cell_type": "markdown",
   "id": "0f0dee55-0b78-4c7e-a0bf-b37041b3f19f",
   "metadata": {},
   "source": [
    "## list/dict comprehension"
   ]
  },
  {
   "cell_type": "markdown",
   "id": "544c7dd0-40af-43ed-b315-4a0e95c553f7",
   "metadata": {},
   "source": [
    "В Python есть уникальный синтаксис, позволяющий записать циклы и условия в одну строку, начнём с ветвления<br>\n",
    "Придумаем условие без <i>elif</i>:"
   ]
  },
  {
   "cell_type": "code",
   "execution_count": 105,
   "id": "f2b277cb-6b1e-49c6-9502-1f2f1b987d39",
   "metadata": {},
   "outputs": [
    {
     "name": "stdout",
     "output_type": "stream",
     "text": [
      "2\n"
     ]
    }
   ],
   "source": [
    "a = 2\n",
    "if a > 0:\n",
    "    print(a)\n",
    "else:\n",
    "    print(-a)"
   ]
  },
  {
   "cell_type": "markdown",
   "id": "ade0d3ac-dea0-4330-b04b-67762e8a978c",
   "metadata": {},
   "source": [
    "Теперь вывернем его, начав с действия после <i>if</i>:"
   ]
  },
  {
   "cell_type": "code",
   "execution_count": 106,
   "id": "4d28888b-fedf-400f-92a3-f022d91cfd38",
   "metadata": {},
   "outputs": [
    {
     "name": "stdout",
     "output_type": "stream",
     "text": [
      "2\n"
     ]
    }
   ],
   "source": [
    "a = 2\n",
    "print(a) if a > 0 else print(-a)"
   ]
  },
  {
   "cell_type": "markdown",
   "id": "27c8cdb2-2ebd-4cbe-854f-1e68b7dae4f9",
   "metadata": {},
   "source": [
    "Результат остался тем же. Отметим, что внутри могут быть другие условия, а действием всё, что можно записать в одну строку. Аккуратнее с балансом числа строк и читаемость кода - строки на 200+ символов невозможно воспринимать<br>\n",
    "Теперь перейдём к циклам. Часто возникают задачи сформировать список по какому-нибудь условию или правилу, например:"
   ]
  },
  {
   "cell_type": "code",
   "execution_count": 107,
   "id": "80b2d4a9-5bf6-4b30-be0c-83fe6844fa38",
   "metadata": {},
   "outputs": [
    {
     "data": {
      "text/plain": [
       "[0, 2, 4, 6, 8]"
      ]
     },
     "execution_count": 107,
     "metadata": {},
     "output_type": "execute_result"
    }
   ],
   "source": [
    "l = []\n",
    "for i in range(5):\n",
    "    l.append(i*2)\n",
    "\n",
    "l"
   ]
  },
  {
   "cell_type": "markdown",
   "id": "bcb435cb-2595-412d-9de0-76301bbc8bf3",
   "metadata": {},
   "source": [
    "Снова вывернем конструкцию и заключим в квадратные скобки, так как хотим получить список"
   ]
  },
  {
   "cell_type": "code",
   "execution_count": 108,
   "id": "6c2d15f2-16ec-419c-bf2d-8ac65b3bf2e1",
   "metadata": {},
   "outputs": [
    {
     "data": {
      "text/plain": [
       "[0, 2, 4, 6, 8]"
      ]
     },
     "execution_count": 108,
     "metadata": {},
     "output_type": "execute_result"
    }
   ],
   "source": [
    "l = []\n",
    "[l.append(i*2) for i in range(5)]\n",
    "l"
   ]
  },
  {
   "cell_type": "markdown",
   "id": "105b6ffc-5706-4780-9816-e8f096906e3a",
   "metadata": {},
   "source": [
    "Результат тот же, но можем пойти дальше:"
   ]
  },
  {
   "cell_type": "code",
   "execution_count": 109,
   "id": "78426aad-cd2b-4490-828b-4e2d719ca408",
   "metadata": {},
   "outputs": [
    {
     "data": {
      "text/plain": [
       "[0, 2, 4, 6, 8]"
      ]
     },
     "execution_count": 109,
     "metadata": {},
     "output_type": "execute_result"
    }
   ],
   "source": [
    "[i*2 for i in range(5)]"
   ]
  },
  {
   "cell_type": "markdown",
   "id": "e14cb00d-01ab-4ce1-a1ec-18a8730a86bc",
   "metadata": {},
   "source": [
    "Интерпритатор \"понимает\", что мы создаём массив, и позволяет сразу сформировать его по указанному слева правилу. Добавим условие?"
   ]
  },
  {
   "cell_type": "code",
   "execution_count": 110,
   "id": "578f0096-beb3-47cc-a9f0-dc459beef6dd",
   "metadata": {},
   "outputs": [
    {
     "data": {
      "text/plain": [
       "[6, 8]"
      ]
     },
     "execution_count": 110,
     "metadata": {},
     "output_type": "execute_result"
    }
   ],
   "source": [
    "l = []\n",
    "for i in range(5):\n",
    "    if i > 2:\n",
    "        l.append(i*2)\n",
    "\n",
    "l"
   ]
  },
  {
   "cell_type": "markdown",
   "id": "fc0855e1-bc0b-4b35-9556-2920a798e1bd",
   "metadata": {},
   "source": [
    "После цикла допишем его"
   ]
  },
  {
   "cell_type": "code",
   "execution_count": 111,
   "id": "229b41b2-427e-4b5f-a5f1-47c719aa6b9d",
   "metadata": {},
   "outputs": [
    {
     "data": {
      "text/plain": [
       "[6, 8]"
      ]
     },
     "execution_count": 111,
     "metadata": {},
     "output_type": "execute_result"
    }
   ],
   "source": [
    "[i*2 for i in range(5) if i > 2]"
   ]
  },
  {
   "cell_type": "markdown",
   "id": "6461ac8e-aab8-4e42-8a54-879848385a38",
   "metadata": {},
   "source": [
    "К нему можем добавить ещё один цикл с простым условием, и к нему добавить цикл с ....<br>\n",
    "Что насчёт словарей?"
   ]
  },
  {
   "cell_type": "code",
   "execution_count": 112,
   "id": "dd0487c3-5c67-452e-8a79-9b4cc5c10758",
   "metadata": {},
   "outputs": [
    {
     "data": {
      "text/plain": [
       "{3: 5, 4: 6, 5: 7}"
      ]
     },
     "execution_count": 112,
     "metadata": {},
     "output_type": "execute_result"
    }
   ],
   "source": [
    "{i: i+2 for i in range(6) if i > 2}"
   ]
  },
  {
   "cell_type": "markdown",
   "id": "3dcb09b2-63c2-4008-b547-1b25ad6faa8a",
   "metadata": {},
   "source": [
    "Всё аналогично, кроме внешних скобок (они меняются на фигурные) и формирования пары ключ-значение"
   ]
  },
  {
   "cell_type": "markdown",
   "id": "b4a4c5d9-03a9-49b9-8b53-f81d8fff86fb",
   "metadata": {},
   "source": [
    "Теперь можно переходить к использованию дополнительных библиотек"
   ]
  }
 ],
 "metadata": {
  "kernelspec": {
   "display_name": "Python 3 (ipykernel)",
   "language": "python",
   "name": "python3"
  },
  "language_info": {
   "codemirror_mode": {
    "name": "ipython",
    "version": 3
   },
   "file_extension": ".py",
   "mimetype": "text/x-python",
   "name": "python",
   "nbconvert_exporter": "python",
   "pygments_lexer": "ipython3",
   "version": "3.12.4"
  }
 },
 "nbformat": 4,
 "nbformat_minor": 5
}
