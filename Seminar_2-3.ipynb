{
 "cells": [
  {
   "cell_type": "markdown",
   "id": "48ef8ed1-91fb-4dda-a487-8f99c696c97b",
   "metadata": {},
   "source": [
    "# Стандартные типы данных"
   ]
  },
  {
   "cell_type": "markdown",
   "id": "9dc2d467-aa95-42e7-9153-eb65d57f9a4e",
   "metadata": {},
   "source": [
    "## int, float"
   ]
  },
  {
   "cell_type": "markdown",
   "id": "76a27f6f-d344-4fa2-ab27-67af6e67c218",
   "metadata": {},
   "source": [
    "Для начала поработаем с числами - составим формула для вычисления примера:"
   ]
  },
  {
   "cell_type": "markdown",
   "id": "868fbd14-7be8-4a8f-bcaa-d5ab762f8404",
   "metadata": {},
   "source": [
    "$$\\frac{(25.3*124+12^3)*0.256+1}{5.25-32^{1/2}*2.6}-342*12+\\frac{23}{754}$$"
   ]
  },
  {
   "cell_type": "markdown",
   "id": "ccf0a71a-5f78-466f-b052-1c02cd61dd52",
   "metadata": {},
   "source": [
    "Ожидаемый ответ с четырёхзначной целой частью"
   ]
  },
  {
   "cell_type": "code",
   "execution_count": null,
   "id": "4ff1b6d0-c3e2-4c80-b496-8642c4161915",
   "metadata": {},
   "outputs": [],
   "source": []
  },
  {
   "cell_type": "markdown",
   "id": "85ad6e43-cd5c-4fd7-bb8f-3189fcdc5f3d",
   "metadata": {},
   "source": [
    "## str, list"
   ]
  },
  {
   "cell_type": "markdown",
   "id": "39b6eed1-a7e9-4a3a-9a74-9775f36e7642",
   "metadata": {},
   "source": [
    "Теперь перейдём к строкам и спискам. В первую очередь сосредоточимся на применении методов `.replace('old', 'new')`, `.split('sep')`, `'sep'.join(list)` "
   ]
  },
  {
   "cell_type": "markdown",
   "id": "0ad24190-823c-4fe9-813a-59ee5de0307d",
   "metadata": {},
   "source": [
    "### .replace"
   ]
  },
  {
   "cell_type": "markdown",
   "id": "b11d0e87-473c-4b19-9334-3e693c4e4dd2",
   "metadata": {},
   "source": [
    "В ходе работы могут встречаться различные разделители разрядов чисел, и нужно быть готовыми заменить их на понятные для python. Самое простое - запятая между целой и дробной частью вместо точки"
   ]
  },
  {
   "cell_type": "code",
   "execution_count": 9,
   "id": "4c6064ce-8135-4767-b4da-f5a62501c37d",
   "metadata": {},
   "outputs": [],
   "source": [
    "number = '1,5'"
   ]
  },
  {
   "cell_type": "markdown",
   "id": "f91e4a84-1d02-4e1f-adb1-98e837b7db3e",
   "metadata": {},
   "source": [
    "Напрямую действием методом замены запятой на точку и переводим в число"
   ]
  },
  {
   "cell_type": "code",
   "execution_count": 11,
   "id": "cda0b25b-c77c-49a1-b60a-df43ad8366ca",
   "metadata": {},
   "outputs": [
    {
     "name": "stdout",
     "output_type": "stream",
     "text": [
      "1.5\n"
     ]
    }
   ],
   "source": [
    "number = '1,5'\n",
    "number = number.replace(',', '.')\n",
    "number = float(number)\n",
    "print(number)"
   ]
  },
  {
   "cell_type": "markdown",
   "id": "721bd72b-d198-4418-a2fb-30a914de554c",
   "metadata": {},
   "source": [
    "А что насчёт разделителей между разрядами, попробуйте сами"
   ]
  },
  {
   "cell_type": "code",
   "execution_count": 12,
   "id": "ab5fd587-b026-4ad2-8113-b4e60d9a97c3",
   "metadata": {},
   "outputs": [
    {
     "name": "stdout",
     "output_type": "stream",
     "text": [
      "1.000.000\n"
     ]
    }
   ],
   "source": [
    "number = '1.000.000'\n",
    "...\n",
    "print(float(number))"
   ]
  },
  {
   "cell_type": "markdown",
   "id": "10e1b369-70f3-4678-b300-1e9d0e45e15e",
   "metadata": {},
   "source": [
    "Объединим:"
   ]
  },
  {
   "cell_type": "code",
   "execution_count": 13,
   "id": "40430046-99d8-47df-99a4-79ec07e938b6",
   "metadata": {},
   "outputs": [
    {
     "name": "stdout",
     "output_type": "stream",
     "text": [
      "12.674.144,26842\n"
     ]
    }
   ],
   "source": [
    "number = '12.674.144,26842'\n",
    "...\n",
    "print(float(number))"
   ]
  },
  {
   "cell_type": "markdown",
   "id": "2076b502-1225-416f-a40a-3e019c873c25",
   "metadata": {},
   "source": [
    "Если у нас обратная ситуация - нужно число перевести в особый вид строки с записью в виде мантиса со степенью десяти: 1200 -> 1.2e3. Для этого применим форматирование следующего вида:"
   ]
  },
  {
   "cell_type": "code",
   "execution_count": 17,
   "id": "331b7994-6c0f-4e4d-8c20-e3b53bfd3fa0",
   "metadata": {},
   "outputs": [
    {
     "name": "stdout",
     "output_type": "stream",
     "text": [
      "1.2e+03\n"
     ]
    }
   ],
   "source": [
    "number = 1200\n",
    "print(\"{:.1e}\".format(number))"
   ]
  },
  {
   "cell_type": "markdown",
   "id": "aec054ff-df2c-4a79-841d-89945bce26b7",
   "metadata": {},
   "source": [
    "Задали формат записи, при котором только одна цифра в разряде десятых, а остальное записывается в степень. Меняя число в \"{:.1e}\" можем регулировать точность записи числа"
   ]
  },
  {
   "cell_type": "markdown",
   "id": "08fc8d3c-0ff7-4633-8655-b61504d1324e",
   "metadata": {},
   "source": [
    "### .split, .join"
   ]
  },
  {
   "cell_type": "markdown",
   "id": "1bf42c9e-5fcd-495e-8fdf-fc2acb386690",
   "metadata": {},
   "source": [
    "Только что использованный метод замены можно обойти сочетанием данных методов (неэффективно, но возможно). Для этого применим `.split()` к строке со старым символом, а после объединим результат с новым разделителем:"
   ]
  },
  {
   "cell_type": "code",
   "execution_count": 21,
   "id": "f1b80702-cae5-489c-a5c2-0805a549b8ce",
   "metadata": {},
   "outputs": [
    {
     "name": "stdout",
     "output_type": "stream",
     "text": [
      "1000000.0\n"
     ]
    }
   ],
   "source": [
    "number = '1.000.000'\n",
    "number = number.split('.')\n",
    "number = ''.join(number)\n",
    "print(float(number))"
   ]
  },
  {
   "cell_type": "markdown",
   "id": "386a4359-36e1-4343-bb57-faf06fb1e67f",
   "metadata": {},
   "source": [
    "Проделайте эту же операцию для числа с дробной частью"
   ]
  },
  {
   "cell_type": "code",
   "execution_count": null,
   "id": "0f34d825-ea67-481a-9693-b790d38bd515",
   "metadata": {},
   "outputs": [],
   "source": [
    "number = '12.674.144,26842'\n",
    "...\n",
    "print(float(number))"
   ]
  },
  {
   "cell_type": "markdown",
   "id": "f4ef6b65-30da-4caf-874f-4c194f5b637d",
   "metadata": {},
   "source": [
    "Предположим, у нас имеется строка с индексом в начале и некоторыми числами в конце, при этом нам нужна только центральная словесная часть"
   ]
  },
  {
   "cell_type": "code",
   "execution_count": 20,
   "id": "1bc0ba00-893f-4dfa-86da-fd314442f783",
   "metadata": {},
   "outputs": [],
   "source": [
    "string = '1. Некоторый текст: 1.234, 212, 4352.78'"
   ]
  },
  {
   "cell_type": "markdown",
   "id": "7bf002da-c27d-4bdb-9267-eef26b8a67d5",
   "metadata": {},
   "source": [
    "Как можем выделить необходимую часть, если индекс, число слов и значения чисел могут меняться?"
   ]
  },
  {
   "cell_type": "code",
   "execution_count": null,
   "id": "84d8ef38-696b-4ff4-9529-447b4937c8c1",
   "metadata": {},
   "outputs": [],
   "source": [
    "cutted_string = ..."
   ]
  },
  {
   "cell_type": "markdown",
   "id": "37fda827-3b79-4776-8f28-14053e3ea025",
   "metadata": {},
   "source": [
    "В подобных случаях иногда нельзя обойтись без поиска нужных для среза индексов с помощью метода `.index()`. Давайте вытащим единицу измерения величины:"
   ]
  },
  {
   "cell_type": "code",
   "execution_count": 22,
   "id": "2dd5d7b2-5ff3-4d1b-b114-7b7ab1a8af8b",
   "metadata": {},
   "outputs": [],
   "source": [
    "value = 'H [Oe]'"
   ]
  },
  {
   "cell_type": "markdown",
   "id": "454eee73-c18e-4578-9c36-5fcce6cfa99b",
   "metadata": {},
   "source": [
    "Единица измерения, как и сама физическая величина, могут иметь разную длину, поэтому не можем фиксировать индексы в срезе. Найдём индекс открывающейся скобки и уже по ней сделаем срез:"
   ]
  },
  {
   "cell_type": "code",
   "execution_count": 24,
   "id": "0227a310-d6a0-48b6-888c-4f680e67cdee",
   "metadata": {},
   "outputs": [
    {
     "name": "stdout",
     "output_type": "stream",
     "text": [
      "Oe\n"
     ]
    }
   ],
   "source": [
    "value = 'H [Oe]'\n",
    "index = value.index('[')\n",
    "unit = value[index+1:-1]\n",
    "print(unit)"
   ]
  },
  {
   "cell_type": "markdown",
   "id": "3134c231-2d11-4160-9407-d8702193f476",
   "metadata": {},
   "source": [
    "А теперь сделайте более универсальный вариант с учётом закрывающейся скобки"
   ]
  },
  {
   "cell_type": "code",
   "execution_count": null,
   "id": "99bed423-3900-422e-9ed8-7440ac833469",
   "metadata": {},
   "outputs": [],
   "source": [
    "value = 'H [Oe] smth'\n",
    "...\n",
    "print(unit)"
   ]
  },
  {
   "cell_type": "markdown",
   "id": "b399a197-46dd-4634-8627-053716205560",
   "metadata": {},
   "source": [
    "Если в ходе эксперимента требуется зарегистрировать количество срабатываений некотороего датчика, то в файле будет, например, набор нулей и единиц. Тогда получить число срабатываний можно с помощью:"
   ]
  },
  {
   "cell_type": "code",
   "execution_count": null,
   "id": "fbca60c0-2f0a-48be-86ab-54f813149116",
   "metadata": {},
   "outputs": [],
   "source": [
    "data = '0, 1, 0, 0, 0, 1, 1, 1, 0, 0, 1, 0, 1, 0, 0, 0, 0, 0, 0, 0, 0, 0, 1'\n",
    "count = ..."
   ]
  },
  {
   "cell_type": "markdown",
   "id": "e50f4cbd-2d09-4e90-8f5b-7f7931e3de45",
   "metadata": {},
   "source": [
    "## bool"
   ]
  },
  {
   "cell_type": "markdown",
   "id": "6af8debf-806d-479c-9ca6-a6b694255a4b",
   "metadata": {},
   "source": [
    "Тип данных будем использовать при формировании условий в ветвлении. Потренируемся фильтровать числа, удовлетворяющие сложным(многосоставным) условиям<br>\n",
    "Допустим нам требуются только отрицательные нечётные числа в диапозоне [-100, -10], условие для них будет выглядеть: "
   ]
  },
  {
   "cell_type": "code",
   "execution_count": null,
   "id": "6ad515a1-42f5-4e3b-a972-22271268c06e",
   "metadata": {},
   "outputs": [],
   "source": [
    "number = 12\n",
    "..."
   ]
  },
  {
   "cell_type": "markdown",
   "id": "aeebdd61-4dc1-4507-b714-283488a17bab",
   "metadata": {},
   "source": [
    "Теперь попробуем со строками: получаем слово, которое подходит, если <br>\n",
    "его длина не превышет 10 символов и не менее 4, есть буква 'a'(русская или английская)"
   ]
  },
  {
   "cell_type": "code",
   "execution_count": null,
   "id": "6b592c5c-29a1-485a-9d12-24ad9321e6c1",
   "metadata": {},
   "outputs": [],
   "source": [
    "word = 'af3fve'\n",
    "..."
   ]
  },
  {
   "cell_type": "markdown",
   "id": "35db26b4-6740-4003-91f6-c4c10b01b02c",
   "metadata": {},
   "source": [
    "## list, tuple, dict"
   ]
  },
  {
   "cell_type": "markdown",
   "id": "9b2b55c4-96f5-4f45-a077-667fdfe221a2",
   "metadata": {},
   "source": [
    "Здесь начнм со сборки списка из числа по следующему алгоритму: <br>\n",
    "1 и 2 - цифры числа <br>\n",
    "3 - их произведение<br>\n",
    "4 и 5 - целая часть деления первых элементов и остаток<br>\n",
    "6 - строка из трёх копий начального чила, соединённых вместе"
   ]
  },
  {
   "cell_type": "code",
   "execution_count": 1,
   "id": "15fde3f0-f6b7-489f-a04c-9909387003b5",
   "metadata": {},
   "outputs": [],
   "source": [
    "number = 85\n",
    "massive = []\n",
    "..."
   ]
  },
  {
   "cell_type": "markdown",
   "id": "ab2aa75f-6b15-4182-a08b-87deb7db11d2",
   "metadata": {},
   "source": [
    "Как изменить этот код, чтобы получить кортеж?"
   ]
  },
  {
   "cell_type": "code",
   "execution_count": null,
   "id": "39a19f22-4a34-42f4-9829-86227304d6dc",
   "metadata": {},
   "outputs": [],
   "source": [
    "number = 85\n",
    "massive = ()\n",
    "..."
   ]
  },
  {
   "cell_type": "markdown",
   "id": "116faa6b-60ad-48c6-b71e-bbaf1bb14c9d",
   "metadata": {},
   "source": [
    "А теперь словарь, где шести ключам в виде цифр соответствуют те же элементы"
   ]
  },
  {
   "cell_type": "code",
   "execution_count": null,
   "id": "49d3cda9-ef26-4d79-a24b-a81b1f601312",
   "metadata": {},
   "outputs": [],
   "source": [
    "number = 85\n",
    "massive = {}\n",
    "..."
   ]
  },
  {
   "cell_type": "markdown",
   "id": "54228117-a610-484c-a70c-a1e3dffd4b0a",
   "metadata": {},
   "source": [
    "Подробнее будем работать с этими типами данных в следующей части вводного модуля"
   ]
  },
  {
   "cell_type": "markdown",
   "id": "a2e75a09-90f9-4b4f-98b9-efdef40ce91c",
   "metadata": {},
   "source": [
    "# Ветвления"
   ]
  },
  {
   "cell_type": "markdown",
   "id": "b7d25492-e1e3-42e2-a6f1-344741dfeede",
   "metadata": {},
   "source": [
    "Как и в лекции, начнём с `if-elif-else`. Конструкция позволяет выполнять действия в зависимости от выполнения некоторых условий, отсюда другие название - условные конструкции. Вот и попробуем применить их для того же алгоритма выборки, что и в части булевого типа данных<br>\n",
    "Если число отрицательное нечётное в диапозоне [-100, -10], то выводим на экран сообщение о соответствии условиям, иначе обратное:"
   ]
  },
  {
   "cell_type": "code",
   "execution_count": null,
   "id": "003e8fe2-1755-432f-8640-8d41791f5b3f",
   "metadata": {},
   "outputs": [],
   "source": [
    "number = 85\n",
    "if ..."
   ]
  },
  {
   "cell_type": "markdown",
   "id": "346acdf2-4756-4464-bb07-36dbcdc3f22e",
   "metadata": {},
   "source": [
    "Усложним задачу, прописав все возможные варианты несоответствия. Если число выпадает из условия, нужно по отдельности проверить каждый из критериев и вывести информацию, какой именно критерий не был удовлетворён "
   ]
  },
  {
   "cell_type": "code",
   "execution_count": null,
   "id": "89a11d46-2d5b-4e51-bb97-169aef7d4f0b",
   "metadata": {},
   "outputs": [],
   "source": [
    "number = -562\n",
    "if ..."
   ]
  },
  {
   "cell_type": "markdown",
   "id": "61d19968-e462-4939-a4e1-eaabd330ea90",
   "metadata": {},
   "source": [
    "Чтобы избежать перегрузки вывода, при более чем одном несоответсвии заменим информацию о каждом на сообщение \"Не удовлетворяет нескольким условиям\""
   ]
  },
  {
   "cell_type": "code",
   "execution_count": null,
   "id": "a9516d68-3613-4199-82c8-d0c2fa70b896",
   "metadata": {},
   "outputs": [],
   "source": [
    "number = -562\n",
    "if ..."
   ]
  },
  {
   "cell_type": "markdown",
   "id": "b26f2327-e91c-4bce-9a8f-72c08b007304",
   "metadata": {},
   "source": [
    "Теперь разберём случаи наличия нескольких двузначных параметров, например трёх с состоянием <i>True</i> и <i>False</i>. Для проверки корректности составленного условия будем выводить состояния этих параметров"
   ]
  },
  {
   "cell_type": "code",
   "execution_count": null,
   "id": "720babcd-9d1d-44b5-a479-271ed5c1a4b4",
   "metadata": {},
   "outputs": [],
   "source": [
    "a = 1\n",
    "b = 0\n",
    "c = 1\n",
    "..."
   ]
  },
  {
   "cell_type": "markdown",
   "id": "ab2b8e88-c35e-424c-8914-614621fc0fbb",
   "metadata": {},
   "source": [
    "Такие задачи удобно решаются `match-case` структурами"
   ]
  },
  {
   "cell_type": "code",
   "execution_count": null,
   "id": "9a60a429-4a06-458a-be3c-b621ea20d6a2",
   "metadata": {},
   "outputs": [],
   "source": [
    "a = 1\n",
    "b = 0\n",
    "c = 1\n",
    "match ..."
   ]
  },
  {
   "cell_type": "markdown",
   "id": "5cd3d84d-90bd-407a-ae9c-f0bd17f84231",
   "metadata": {},
   "source": [
    "# Циклы"
   ]
  },
  {
   "cell_type": "markdown",
   "id": "b4231e5c-2c14-46ab-ba30-159341006c05",
   "metadata": {},
   "source": [
    "Введение циклов упростит процесс проверки нашего кода - сможем одним запуском увидеть результат для нескольких параметров. Напишем тесты для двух предыдущих задач:"
   ]
  },
  {
   "cell_type": "code",
   "execution_count": null,
   "id": "4de688d0-b82e-4e6a-af00-56a5ece4482a",
   "metadata": {},
   "outputs": [],
   "source": []
  },
  {
   "cell_type": "code",
   "execution_count": null,
   "id": "f40a58e3-120a-4494-a5ee-35f920fd1f1a",
   "metadata": {},
   "outputs": [],
   "source": []
  },
  {
   "cell_type": "markdown",
   "id": "61019581-4d21-433a-b7c2-bf0c2312b947",
   "metadata": {},
   "source": [
    "Существуют специализированные библиотеки для тестирования программ, поэтому продолжим работать с циклами над другими задачами. Пусть есть массив чисел, из которого требуется <b>удалить</b> отрицательные числа "
   ]
  },
  {
   "cell_type": "code",
   "execution_count": null,
   "id": "4b953d04-4638-461c-a2b5-8a32c8211007",
   "metadata": {},
   "outputs": [],
   "source": [
    "massive = [1, 42, -24, 6, -68, 54]\n",
    "for ..."
   ]
  },
  {
   "cell_type": "markdown",
   "id": "e23b02e8-1a56-4dfd-bab5-af7e61429d0f",
   "metadata": {},
   "source": [
    "А в одну строку?"
   ]
  },
  {
   "cell_type": "code",
   "execution_count": null,
   "id": "6b37e9b8-22d1-4933-bd4b-889b402cbb2f",
   "metadata": {},
   "outputs": [],
   "source": [
    "massive = [1, 42, -24, 6, -68, 54]\n",
    "filtered_massive = ..."
   ]
  },
  {
   "cell_type": "markdown",
   "id": "d737c384-1983-4f3b-9341-d2bb6a044a6b",
   "metadata": {},
   "source": [
    "Попробуйте реализовать тот же алгоритм через цикл `while`"
   ]
  },
  {
   "cell_type": "code",
   "execution_count": null,
   "id": "aee18163-848e-436b-a8f8-fc138c274bb9",
   "metadata": {},
   "outputs": [],
   "source": [
    "massive = [1, 42, -24, 6, -68, 54]\n",
    "while ..."
   ]
  },
  {
   "cell_type": "markdown",
   "id": "2c155a52-3210-4e95-ba99-90bba4253eeb",
   "metadata": {},
   "source": [
    "Сделаем нечто похожее, но на этот раз нам будут нужны индексы отрицательных элементов"
   ]
  },
  {
   "cell_type": "code",
   "execution_count": null,
   "id": "410bbf06-01cf-4b78-952f-d8012cf4e985",
   "metadata": {},
   "outputs": [],
   "source": [
    "massive = [1, 42, -24, 6, -68, 54]\n",
    "...\n",
    "print(indexes)"
   ]
  },
  {
   "cell_type": "markdown",
   "id": "895d7a18-bdad-4e86-9a85-3c04e51b843e",
   "metadata": {},
   "source": [
    "# Функции"
   ]
  },
  {
   "cell_type": "markdown",
   "id": "9d1d3dc9-7c97-449e-b4ec-039163dc8c32",
   "metadata": {},
   "source": [
    "Вот мы дошли до самостоятельных программных единиц - функций. На основе уже написанного, создадим функцию проверки числа на соответствие условиям - принимает число, возвращает <i>True</i> или <i>False</i>"
   ]
  },
  {
   "cell_type": "code",
   "execution_count": null,
   "id": "6d4adcfa-0d6f-4a3a-8b6f-5f800766bc86",
   "metadata": {},
   "outputs": [],
   "source": [
    "number = -36\n",
    "...."
   ]
  },
  {
   "cell_type": "markdown",
   "id": "cf8b2d13-a478-47f2-a66d-50b5c3846cf3",
   "metadata": {},
   "source": [
    "Пусть теперь функция делает это для массива чисел! Выводит соответственно массив булевых значений"
   ]
  },
  {
   "cell_type": "code",
   "execution_count": null,
   "id": "4732ca7f-b194-4f65-b886-03078d548404",
   "metadata": {},
   "outputs": [],
   "source": [
    "massive = [124, -62, -27, 215, -2]\n",
    "..."
   ]
  },
  {
   "cell_type": "markdown",
   "id": "a84c0ede-f356-477e-b6e7-800f6ab6e73c",
   "metadata": {},
   "source": [
    "Вернёмся к преобразованию типов данных. Строку цифр в функции разобъём на двузначные или трёхзначение числа, в зависимости от количества цифр в строке, и выведем их списком."
   ]
  },
  {
   "cell_type": "code",
   "execution_count": null,
   "id": "957dbcf6-fd83-4396-b804-d8ce755f8adc",
   "metadata": {},
   "outputs": [],
   "source": [
    "string = '14990096203562375064739257'\n",
    "...."
   ]
  },
  {
   "cell_type": "markdown",
   "id": "9109b314-fc3e-4cd9-8b6b-0d6951d8bc5a",
   "metadata": {},
   "source": [
    "Если разделителем чисел будет некоторый символ, например, `;`"
   ]
  },
  {
   "cell_type": "code",
   "execution_count": null,
   "id": "f5687430-8b69-4b36-9de3-f7df2c99024a",
   "metadata": {},
   "outputs": [],
   "source": [
    "string = '24;573;216;78;0;4672;567;89'\n",
    "..."
   ]
  },
  {
   "cell_type": "markdown",
   "id": "811c4fe2-4996-4e9b-bc37-881d1bb86472",
   "metadata": {},
   "source": [
    "Наконец, соберём из этой строки словарь, ключами которого будут номера чисел в получившейся последовательности. Функция выведет только словарь"
   ]
  },
  {
   "cell_type": "code",
   "execution_count": null,
   "id": "e078557a-b801-4433-9b63-a0fefeed91eb",
   "metadata": {},
   "outputs": [],
   "source": [
    "string = '24;573;216;78;0;4672;567;89'\n",
    "..."
   ]
  },
  {
   "cell_type": "markdown",
   "id": "af96f416-1d6f-4607-83fe-778f52f23418",
   "metadata": {},
   "source": [
    "Остаётся отработать передачу ключевых аргументов. В последней задаче про циклы мы получали индексы некоторых чисел. Пусть функция принимает два аргумента: 1 - сам массив, 2 - булевый, он будет показывать, требуется ли вывод массива индексов лишних элементов. При этом всегда выводится очищенный список. Второй аргумент по умолчанию <i>False</i>. В случаи <i>True</i> выводим оба массива в виде кортежа"
   ]
  },
  {
   "cell_type": "code",
   "execution_count": null,
   "id": "2f129593-6be0-4e1a-a355-eec91d6ee7cd",
   "metadata": {},
   "outputs": [],
   "source": [
    "massive = [1, 42, -24, 6, -68, 54]\n",
    "..."
   ]
  },
  {
   "cell_type": "markdown",
   "id": "51cbaf64-b6d5-46a3-9185-bdfc512239a0",
   "metadata": {},
   "source": [
    "## lambda"
   ]
  },
  {
   "cell_type": "markdown",
   "id": "5a0c7ebc-76d8-4a45-bc2d-a626d646907b",
   "metadata": {},
   "source": [
    "Помимо обычных массивных функций, python имеет `lambda-функции`, которые позволяют выполнять небольшие операции без прописывания функции, сравните:"
   ]
  },
  {
   "cell_type": "code",
   "execution_count": 2,
   "id": "37fcb340-ff86-4393-a2e9-507dab9dc3aa",
   "metadata": {},
   "outputs": [
    {
     "name": "stdout",
     "output_type": "stream",
     "text": [
      "9\n",
      "9\n"
     ]
    }
   ],
   "source": [
    "def sum_1(a, b):\n",
    "    return a + b\n",
    "\n",
    "sum_2 = lambda a, b: a + b\n",
    "\n",
    "print(sum_1(4, 5))\n",
    "print(sum_2(4, 5))"
   ]
  },
  {
   "cell_type": "markdown",
   "id": "ce9c362b-7360-4cf2-b439-274db6395111",
   "metadata": {},
   "source": [
    "Причём, обе записи равнозначны. После ключевого слова `lambda` следует перечисление ожидаемых аргументов и двоеточие. Далее само выражение. Если аргументы не нужны, то ограничиваемся двоеточием. Последнее может быть полезно в паре с функциями, требующими передачу самих функций без вызова, но нуждающихся в аргументах"
   ]
  },
  {
   "cell_type": "code",
   "execution_count": 5,
   "id": "36f39746-85b9-4a91-9e34-9f0242bf8a4c",
   "metadata": {},
   "outputs": [
    {
     "name": "stdout",
     "output_type": "stream",
     "text": [
      "9\n",
      "8\n",
      "12\n",
      "12\n"
     ]
    }
   ],
   "source": [
    "calc = lambda a, b, c: (a + b) * c\n",
    "print(calc(1, 2, 3))\n",
    "print(calc(6, 2, 1))\n",
    "\n",
    "p = lambda: print(12)\n",
    "p()\n",
    "p()"
   ]
  },
  {
   "cell_type": "markdown",
   "id": "800d9f7c-403c-4724-ba70-2a5a1bd9b7ae",
   "metadata": {},
   "source": [
    "## Самостоятельные задания"
   ]
  },
  {
   "cell_type": "markdown",
   "id": "a7c0df80-6460-4e70-a602-e535d431f8e5",
   "metadata": {},
   "source": [
    "В течение курса будут встречаться задачи решение которых перекладываем на вас. На каждом семинаре будем проверять их решение и разбирать ошибки при необходимости. Вот первая порция задач на две недели:"
   ]
  },
  {
   "cell_type": "markdown",
   "id": "cd74d6e0-fcb7-4c26-8c4d-58e1277cb95a",
   "metadata": {},
   "source": [
    "<b>1.2.1 Построение функции, которая включает в себя цикл и сложное условие выбора точек из массива данных"
   ]
  },
  {
   "cell_type": "markdown",
   "id": "5351a660-1256-4f9a-bb30-cc2de164afce",
   "metadata": {},
   "source": [
    "<b>1.2.2 Построение функции, преобразующей получаемую в качестве аргумента строку с данными в словарь</b><br>\n",
    "data = \"Time = 12:54:13;Date = 3.5.24;H = 124;T = 321;I = 1.1\""
   ]
  },
  {
   "cell_type": "markdown",
   "id": "c551ef30-7b0b-495d-8434-9a60d1bb1d64",
   "metadata": {},
   "source": [
    "В первой под сложным условием подразумивается проверка с несколькими математическими опреаторами. Во второй требуется получить словарь, ключами которого являются названия величин, а значениями - их числовые параметры, причём где возможно, требуется преобразование к числовым типам данных.<br>\n",
    "Каждая из функций должна быть готова принять аргументом массив(в 1-м) или строку(во 2-м) с любой длиной"
   ]
  }
 ],
 "metadata": {
  "kernelspec": {
   "display_name": "Python 3 (ipykernel)",
   "language": "python",
   "name": "python3"
  },
  "language_info": {
   "codemirror_mode": {
    "name": "ipython",
    "version": 3
   },
   "file_extension": ".py",
   "mimetype": "text/x-python",
   "name": "python",
   "nbconvert_exporter": "python",
   "pygments_lexer": "ipython3",
   "version": "3.12.4"
  }
 },
 "nbformat": 4,
 "nbformat_minor": 5
}
