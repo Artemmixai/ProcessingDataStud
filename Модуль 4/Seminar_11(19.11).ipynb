{
 "cells": [
  {
   "cell_type": "markdown",
   "metadata": {},
   "source": [
    "# Расчёт погрешностей измерений и правила их построения"
   ]
  },
  {
   "cell_type": "markdown",
   "metadata": {},
   "source": [
    "## Вычисление погрешностей данных"
   ]
  },
  {
   "cell_type": "markdown",
   "metadata": {},
   "source": [
    "_Упражнение 11.1_\n",
    "\n",
    "Создайте функцию расчёта средней квадратичной погрешности, напомню формулу:\n",
    "$$s=\\sqrt{\\frac{1}{N(N-1)}\\sum_{k=1}^N(X_k-X_{вр})^2}$$"
   ]
  },
  {
   "cell_type": "code",
   "execution_count": null,
   "metadata": {},
   "outputs": [],
   "source": [
    "import numpy as np\n",
    "\n",
    "def std(Y, Y_mean):\n",
    "    N = len(Y)\n",
    "    return np.sqrt(np.sum(np.power(Y-Y_mean, 2))/(N-1)/N)\n"
   ]
  },
  {
   "cell_type": "markdown",
   "metadata": {},
   "source": [
    "В качестве наиболее вероятного значения можно взять среднее при одинаковых параметрах или полученное фиттированием, например, функцией `curve_fit`. \n",
    "\n",
    "Доработайте вашу функцию таким расчётом:<br>\n",
    "    <p style=\"text-indent: 40px\">В одном случаи считается среднее на основе переданного массива;</p>\n",
    "    <p style=\"text-indent: 40px\">В другом принимается в его качестве - учтите разные типы данных</p>"
   ]
  },
  {
   "cell_type": "code",
   "execution_count": null,
   "metadata": {},
   "outputs": [],
   "source": [
    "def std_mean(Y: list | tuple | np.ndarray, \n",
    "             calc_mean: str | float | int | np.floating | np.integer='Average') -> np.floating:\n",
    "    \"\"\"\n",
    "    Расчёт средней квадратичной погрешности\n",
    "    :param Y: Принимает два значения:\n",
    "        str - вероятное значение считается как среднее арифметическое из всех переданных в функцию значений массива\n",
    "        int | float | np.float64 | ... - эталонное значение \n",
    "    \"\"\"\n",
    "    N = len(Y)\n",
    "    Y_mean = np.mean(Y) if type(calc_mean) is str else calc_mean\n",
    "    return np.sqrt(np.sum(np.power(Y-Y_mean, 2))/(N-1)/N)"
   ]
  },
  {
   "cell_type": "markdown",
   "metadata": {},
   "source": [
    "_Упражнение 11.2_"
   ]
  },
  {
   "cell_type": "markdown",
   "metadata": {},
   "source": [
    "Усложним задачу: сейчас наша функция считает только одну точку, теперь будем применять вычисление сразу для нескольких. \n",
    "\n",
    "На входе имеем массив, содержащий набор значений, который требуется разбить на блоки. Один блок даст одну среднюю точку и данные для расчёта отклонения. В первую очередь, требуется разбить весь массив на такие блоки.\n",
    "\n",
    "Сделаем два способа задания массивов для отображения:\n",
    "1) Аргументом передаётся число, задающее третий параметр среза по всему массиву `X`\n",
    "2) Кортеж или список из 3-х элементов среза, по которому будут вычислены погрешности\n",
    "\n",
    "_*Удобнее отработать данный выбор отдельно от прочего функционала, а уже затем встраивать в функцию_"
   ]
  },
  {
   "cell_type": "code",
   "execution_count": null,
   "metadata": {},
   "outputs": [],
   "source": [
    "def std_massive(X, x_points: int | tuple | np.ndarray | list = 1) -> np.floating:\n",
    "    if type(x_points) is int:\n",
    "        x_points = X[::x_points]\n",
    "    elif type(x_points) is tuple and len(x_points) == 3:\n",
    "        x_points = X[x_points[0]:x_points[1]:x_points[2]]"
   ]
  },
  {
   "cell_type": "markdown",
   "metadata": {},
   "source": [
    "Теперь есть массив координат, в которых высчитываются наиболее вероятные значения. Добавим её в результат _упражнения 1.1_ для случая расчёта среднего арифметического(следующим шагом будет реализация `curve_fit`). Таким образом, **x_points** будет содержать элементы массива `X`, по которым будет происходить разбиение на группы усреднения:\n",
    "\n",
    "~~~python\n",
    "X = [11, 12, 13, 21, 22, 23]\n",
    "x_point = (0, len(X), 3) or 3\n",
    "~~~\n",
    "\n",
    "Допишите функцию так, чтобы на вход подавались данные в виде одного массива вместе с индексами разбиения на блоки, а на выходе массив рассчитанных погрешностей, соответствующих порядку блоков"
   ]
  },
  {
   "cell_type": "code",
   "execution_count": null,
   "metadata": {},
   "outputs": [],
   "source": [
    "def std_massive(X, Y, x_points: int | tuple | np.ndarray | list = 1) -> list[np.floating]:\n",
    "    if type(x_points) is int:\n",
    "        N = x_points\n",
    "        indexes = np.arange(0, len(X)+1, x_points)\n",
    "        x_points = X[::x_points]\n",
    "    elif type(x_points) is tuple and len(x_points) == 3:\n",
    "        N = x_points[2]\n",
    "        indexes = np.arange(x_points[0], x_points[1]+1, x_points[2])\n",
    "        x_points = X[x_points[0]:x_points[1]:x_points[2]]\n",
    "    result = []\n",
    "    for i, index in enumerate(indexes[1:]):\n",
    "        Y_cut = Y[int(indexes[i]):int(index)]\n",
    "        Y_mean = np.mean(Y_cut)\n",
    "        result.append(np.sqrt(np.sum(np.power(Y_cut-Y_mean, 2))/(N-1)/N))\n",
    "    return result\n",
    "\n",
    "std_massive([11, 12, 13, 21, 22, 23], [11, 12, 13, 21, 22, 23], x_points=(0, 6, 3))"
   ]
  },
  {
   "cell_type": "markdown",
   "metadata": {},
   "source": [
    "_Упражнение 11.3_"
   ]
  },
  {
   "cell_type": "markdown",
   "metadata": {},
   "source": [
    "Попробуем написать новую функцию с расчётом через фиттирование. Эта часть будет состоять из двух частей:\n",
    "1) Применение `curve_fit` для получения эталонного значения\n",
    "2) Расчёт отклонений в выбранных точках по соседним\n",
    "\n",
    "Для первого пункта потребуется аргумент с функцией, по которой будем искать общий вид. \n",
    "\n",
    "Предлагаем ввести аргумент, задающий диапазон поиска значений для расчёта ошибок через отличие от эталонного _x_, координаты которых передаются массивом. То есть, блок для расчёта погрешности будет задаваться точками, координаты _x_ которых укладываются в диапозон $[x-interval, x+interval]$\n",
    "\n",
    "Эталонное значение получаем из результата работы `curve_fit` в точках переданного массива для построения.\n",
    "\n",
    "Аргументы функции такие: \n",
    "1) `X`, `Y` - массивы данных\n",
    "2) `x_points` - координаты точек для расчёта погрешностей\n",
    "3) `interval` - задаёт диапазон для получения блока значений\n",
    "\n",
    "На выходе всё тот же массив со значениями отклонений и параметрами от `curve_fit`"
   ]
  },
  {
   "cell_type": "code",
   "execution_count": null,
   "metadata": {},
   "outputs": [],
   "source": [
    "# На подумать"
   ]
  },
  {
   "cell_type": "markdown",
   "metadata": {},
   "source": [
    "Теперь имеем готовый код для получения массивов случайных ошибок с двумя методами расчёта"
   ]
  },
  {
   "cell_type": "markdown",
   "metadata": {},
   "source": [
    "**Задача 4.3** Возьмите одну из кривых с полусеместрового контроля и постройте для неё средне квадратичные значения погрешностей с учётом правил оформления. (Учтите наличие двух значений `Y` при одном `X`)"
   ]
  },
  {
   "cell_type": "markdown",
   "metadata": {},
   "source": [
    "**Задача 4.4** Повторите оформление и обработку данных из файла `data_43.txt` из статьи\n",
    "\n",
    "<img src=\"Graph_from_article.jpg\" width=\"700\" height=\"600\" />"
   ]
  }
 ],
 "metadata": {
  "kernelspec": {
   "display_name": "Python 3",
   "language": "python",
   "name": "python3"
  },
  "language_info": {
   "name": "python",
   "version": "3.12.5"
  }
 },
 "nbformat": 4,
 "nbformat_minor": 2
}
