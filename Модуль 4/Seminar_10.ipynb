{
 "cells": [
  {
   "cell_type": "markdown",
   "metadata": {},
   "source": [
    "# Настройка оформления графиков в matplotlib"
   ]
  },
  {
   "cell_type": "markdown",
   "metadata": {},
   "source": [
    "На этом занятии оформим ранее полученные графики и добавим к ним новые виды"
   ]
  },
  {
   "cell_type": "markdown",
   "metadata": {},
   "source": [
    "В первую очередь перенесите результат последнего занятия, на котором получены две кривые намагниченности на разных полях"
   ]
  },
  {
   "cell_type": "code",
   "execution_count": null,
   "metadata": {},
   "outputs": [],
   "source": []
  },
  {
   "cell_type": "markdown",
   "metadata": {},
   "source": [
    "Теперь подпишем каждый из них по параметрам эксперимента"
   ]
  },
  {
   "cell_type": "code",
   "execution_count": null,
   "metadata": {},
   "outputs": [],
   "source": [
    "plt.rc('text', usetex=True)\n",
    "..."
   ]
  },
  {
   "cell_type": "markdown",
   "metadata": {},
   "source": [
    "Отредакируйте размер шрифтов для удобного чтения названий\n",
    "\n",
    "Перейдём к осям: создадим подпись к оси **x**, увеличим шрифт чисел и их тиков"
   ]
  },
  {
   "cell_type": "code",
   "execution_count": null,
   "metadata": {},
   "outputs": [],
   "source": []
  },
  {
   "cell_type": "markdown",
   "metadata": {},
   "source": [
    "_Упражнение 9.2_"
   ]
  },
  {
   "cell_type": "markdown",
   "metadata": {},
   "source": [
    "Выберем один из графиков прошлого задания и отметим на нём маркеры каждой второй точки построения"
   ]
  },
  {
   "cell_type": "code",
   "execution_count": null,
   "metadata": {},
   "outputs": [],
   "source": [
    "fig = plt.figure(1, figsize=(10, 6))\n",
    "plt.rc('text', usetex=True)\n",
    "\n",
    "ax = fig.add_subplot(1, 1, 1)\n",
    "\n",
    "...\n"
   ]
  },
  {
   "cell_type": "markdown",
   "metadata": {},
   "source": [
    "Подгоните размеры шрифтов, линий, маркеров под новый размер графика"
   ]
  },
  {
   "cell_type": "markdown",
   "metadata": {},
   "source": [
    "Добавьте верните вторую линию на график.\n",
    "Разделите маркеры по форме или цвету - сделайте их различающимися по как минимум двум параметрам, причём создание всех линий должно производиться в цикле с телом из одной функции\n",
    "Добавьте легенду"
   ]
  },
  {
   "cell_type": "code",
   "execution_count": null,
   "metadata": {},
   "outputs": [],
   "source": []
  },
  {
   "cell_type": "markdown",
   "metadata": {},
   "source": [
    "_Упражнение 9.3_"
   ]
  },
  {
   "cell_type": "markdown",
   "metadata": {},
   "source": [
    "Теперь займёмся погрешностями. Для построения погрешностей, нам не хватает рассчёта отклонений в каждой точке или хотя бы в их части. Создадим массив отклонений на некоторый фиксированный процент, то есть создаём массив абсолютных отклонений каждой точки от идеального значения с заданной относительной погрешностью. \n",
    "\n",
    "Для проверки, постройте получившийся массив погрешности"
   ]
  },
  {
   "cell_type": "code",
   "execution_count": null,
   "metadata": {},
   "outputs": [],
   "source": [
    "y_err = ..."
   ]
  },
  {
   "cell_type": "markdown",
   "metadata": {},
   "source": [
    "Совместим получившиеся значения на графике с погрешностями. Настройте отображение"
   ]
  },
  {
   "cell_type": "code",
   "execution_count": null,
   "metadata": {},
   "outputs": [],
   "source": []
  },
  {
   "cell_type": "markdown",
   "metadata": {},
   "source": [
    "_Упражнение 9.4_"
   ]
  },
  {
   "cell_type": "markdown",
   "metadata": {},
   "source": [
    "Создадим трёхмерный график. Напишите двумерную сетку, на основе которой сгенерируйте некоторую поверхность, которую отобразите на графике\n",
    "\n",
    "Измените цветовую схему и добавьте подписи"
   ]
  },
  {
   "cell_type": "code",
   "execution_count": null,
   "metadata": {},
   "outputs": [],
   "source": []
  },
  {
   "cell_type": "markdown",
   "metadata": {},
   "source": [
    "**Задание 4.2** Имеется набор данных `MeasureData`, полученных в ходе некоторого эксперимента. Требуется визуализировать их и отметить погрешности, соответствующие максимальному отклонению при выбранных значений температуры\n",
    "\n",
    "Добавьте оформление графика"
   ]
  },
  {
   "cell_type": "code",
   "execution_count": 2,
   "metadata": {},
   "outputs": [
    {
     "data": {
      "text/plain": [
       "Ellipsis"
      ]
     },
     "execution_count": 2,
     "metadata": {},
     "output_type": "execute_result"
    }
   ],
   "source": [
    "import random\n",
    "\n",
    "# Генерация данных\n",
    "Temp = []\n",
    "Res = []\n",
    "[Temp.extend([T]*8) for T in range(300, 10, -10)]\n",
    "Res = [100*(1+0.03*(300-T))*(1-random.random()*0.03) for T in Temp]\n",
    "\n",
    "# Словарь, с которым вам предстит работать\n",
    "MeasureData = {'Temperature': Temp,\n",
    "               'Resistence': Res}\n",
    "..."
   ]
  },
  {
   "cell_type": "code",
   "execution_count": null,
   "metadata": {},
   "outputs": [],
   "source": []
  }
 ],
 "metadata": {
  "kernelspec": {
   "display_name": "Python 3",
   "language": "python",
   "name": "python3"
  },
  "language_info": {
   "codemirror_mode": {
    "name": "ipython",
    "version": 3
   },
   "file_extension": ".py",
   "mimetype": "text/x-python",
   "name": "python",
   "nbconvert_exporter": "python",
   "pygments_lexer": "ipython3",
   "version": "3.12.5"
  }
 },
 "nbformat": 4,
 "nbformat_minor": 2
}
