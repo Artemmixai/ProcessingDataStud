{
 "cells": [
  {
   "cell_type": "markdown",
   "metadata": {},
   "source": [
    "# Расчёт погрешностей измерений и правила их построения"
   ]
  },
  {
   "cell_type": "markdown",
   "metadata": {},
   "source": [
    "## Вычисление погрешностей данных\n",
    "В ходе любого измерения возникают ошибки, которые необходимо учитывать при использовании полученных значений. Сегодня обсудим какие ошибки бывают в принципе, как они считаются и какие методы языка можно применить для оптимизации "
   ]
  },
  {
   "cell_type": "markdown",
   "metadata": {},
   "source": [
    "Представление погрешностей можно разделить на _2_ вида:\n",
    "1) _Абсолютная_ - отличие значения от эталонного или наиболее вероятного в тех же единицах измерения<br> \n",
    "$$\\Delta x_i = |x_i-x_{вр}|$$\n",
    "2) _Относительная_ - отличие значения от эталонного или наиболее вероятного выраженное в процентах<br>\n",
    "$$\\varepsilon = \\frac{\\Delta x}{x_{вр}}$$"
   ]
  },
  {
   "cell_type": "markdown",
   "metadata": {},
   "source": [
    "Виды ошибок:\n",
    "1) _Грубый_ - в результате неточностей в проведении эксперимента. При наличие такого вида результаты можно считать **ложными** и не учитывать\n",
    "2) _Систематический_ - вызван самим прибором или методом измерений. Она известна заранее, исходя из используемого оборудования\n",
    "3) _Случайная_ - появляется из-за множества внешних факторов"
   ]
  },
  {
   "cell_type": "markdown",
   "metadata": {},
   "source": [
    "Виды физических измерений:\n",
    "1) _Прямые физические измерения_ - считывание значения со шкалы, индикатора прибора или сравнением с эталоном\n",
    "2) _Косвенные физические измерения_ - получаются расчётом из результатов других измерений"
   ]
  },
  {
   "cell_type": "markdown",
   "metadata": {},
   "source": [
    "Последние две классификации будут определять метод вычисления погрешностей."
   ]
  },
  {
   "cell_type": "markdown",
   "metadata": {},
   "source": [
    "### Наиболее вероятное значение\n",
    "Может быть известно (например при калибровке оборудования) или расчитанно при наличии статистики. Как правило, за него принимается среднее арифметическое результатов серии прямых измерений \n",
    "$$X_{вр}=\\frac{\\sum_{i=1}^NX_i}{N}$$\n",
    "Относительно него будем считать погрешности"
   ]
  },
  {
   "cell_type": "markdown",
   "metadata": {},
   "source": [
    "### Абсолютная погрешность прямых физических измерений\n",
    "Для однократных измерений абсолютной погрешностью является половина цена наименьшего деления шкалы или значение, пересчитанное из относительной погрешности прибора<br>\n",
    "\n",
    "В случаи серии получаем погрешность каждого измерения относительно наиболее вероятного значения и считаем стандартную ошибку среднего(средней квадратичной погрешности)\n",
    "$$s=\\sqrt{\\frac{1}{N(N-1)}\\sum_{k=1}^N(X_k-X_{вр})^2}$$"
   ]
  },
  {
   "cell_type": "markdown",
   "metadata": {},
   "source": [
    "### Абсолютная погрешность косвенных измерений\n",
    "Будем искать погрешность $y$, которую вычисляем как функцию от $x$: $y=f(x)$<br>\n",
    "\n",
    "Проведя касательную к $f(x)$ в некоторой точке и приняв значения $\\Delta x$ и $\\Delta y$ малыми, то получим, что:\n",
    "$$\\Delta y = f'(x)\\cdot\\Delta x$$\n",
    "\n",
    "В общем случаи:\n",
    "$$\\Delta y = \\frac{\\partial y}{\\partial x_1}\\cdot\\Delta x_1+\\frac{\\partial y}{\\partial x_2}\\cdot\\Delta x_2...$$\n",
    "то есть, для функции многих переменных погрешность определяется суммой вклада каждой из них, умноженной на частную производную по этой переменной\n",
    "\n",
    "Для подобных расчётов можно применить `sympy`"
   ]
  },
  {
   "cell_type": "code",
   "execution_count": 98,
   "metadata": {},
   "outputs": [
    {
     "name": "stdout",
     "output_type": "stream",
     "text": [
      "Первая производная по x: 2*x + y + exp(x)\n",
      "Первая производная по y: x + 2*y\n"
     ]
    },
    {
     "data": {
      "text/plain": [
       "(6.7182818284590455, 5.0)"
      ]
     },
     "execution_count": 98,
     "metadata": {},
     "output_type": "execute_result"
    }
   ],
   "source": [
    "import sympy as sp\n",
    "import numpy as np\n",
    "import math\n",
    "\n",
    "# Объявляем переменные\n",
    "x, y = sp.symbols('x y')\n",
    "\n",
    "# Определяем функцию от двух переменных\n",
    "f = x**2 + y**2 + x*y + sp.exp(x)\n",
    "\n",
    "# Вычисляем первую производную по x\n",
    "df_dx = sp.diff(f, x)\n",
    "print(f'Первая производная по x: {df_dx}')\n",
    "\n",
    "# Вычисляем первую производную по y\n",
    "df_dy = sp.diff(f, y)\n",
    "print(f'Первая производная по y: {df_dy}')\n",
    "\n",
    "x_val = 1\n",
    "y_val = 2\n",
    "\n",
    "# Подставляем значения в первую производную\n",
    "df_dx_val = float(df_dx.subs({x: x_val, y: y_val}))\n",
    "df_dy_val = float(df_dy.subs({x: x_val, y: y_val}))\n",
    "\n",
    "df_dx_val, df_dy_val\n"
   ]
  },
  {
   "cell_type": "markdown",
   "metadata": {},
   "source": [
    "При этом можно легко комбинировать получившиеся выражения:"
   ]
  },
  {
   "cell_type": "code",
   "execution_count": 103,
   "metadata": {},
   "outputs": [
    {
     "name": "stdout",
     "output_type": "stream",
     "text": [
      "0.205*x + 0.11*y + 0.1*exp(x)\n"
     ]
    },
    {
     "data": {
      "text/plain": [
       "0.43000000000000005"
      ]
     },
     "execution_count": 103,
     "metadata": {},
     "output_type": "execute_result"
    }
   ],
   "source": [
    "# Погрешность первой величины\n",
    "dx = 0.1\n",
    "\n",
    "# Погрешность второй величины\n",
    "dy = 0.005\n",
    "\n",
    "dF = df_dx*dx+df_dy*dy\n",
    "print(dF)\n",
    "\n",
    "float(dF.subs({x: 0, y: 3}))"
   ]
  },
  {
   "cell_type": "markdown",
   "metadata": {},
   "source": [
    "Мы не будем углубляться в данную библиотеку, подробнее можно почитать [здесь](https://pythonru.com/biblioteki/sympy-v-python)"
   ]
  },
  {
   "cell_type": "markdown",
   "metadata": {},
   "source": [
    "###  Относительная погрешность косвенных измерений"
   ]
  },
  {
   "cell_type": "markdown",
   "metadata": {},
   "source": [
    "Проделаем некоторые преобразования с начальным выражением\n",
    "$$\\varepsilon=\\frac{\\Delta y}{y}=\\frac{f'(x)}{f(x)}\\cdot\\Delta x=(ln(f(x)))'\\cdot\\Delta x$$"
   ]
  },
  {
   "cell_type": "markdown",
   "metadata": {},
   "source": [
    "То есть, можно применять тот же подход, что и к абсолютной погрешности"
   ]
  },
  {
   "cell_type": "markdown",
   "metadata": {},
   "source": [
    "## Округление результатов"
   ]
  },
  {
   "cell_type": "markdown",
   "metadata": {},
   "source": [
    "Из-за отклонений от идеального значения, пропадает смысл указывать большое количество цифр в ответе, если они меньше погрешности. Принято оставлять 1 или 2 значащие цифры в погрешности, причём, 1 цифра будет только если она от 2 и более с округлением к ближаёшему значению:<br>\n",
    "\n",
    "$1.245 \\simeq 1.2$<br>\n",
    "$3.1 \\simeq 3$<br>\n",
    "$4.526 \\simeq 5$<br>\n",
    "\n",
    "Результат сохраняет разряды, которые *не меньше* значащего в погрешности:<br>\n",
    "\n",
    "$122.21$ с погрешностью $1.53$ -> $122 \\pm 2$<br>\n",
    "$29362.46$ с погрешностью $53$ -> $29360 \\pm 50$<br>\n",
    "\n",
    "Более того, принято представлять значения в нормализованном виде, т.е. в целой части оставлять одну цифру, умноженную на 10 в некоторой степени с общей размерностью:<br>\n",
    "\n",
    "$29362.46$ м с погрешностью $53$ м -> $29360$ м $ \\pm 50$ м -> $(2936 \\pm 5)\\cdot 10^1$ м<br>\n",
    "\n",
    "Относительная погрешность всегда округляется до двух значащих\n",
    "цифр"
   ]
  },
  {
   "cell_type": "markdown",
   "metadata": {},
   "source": [
    "# Правила графического представления данных"
   ]
  },
  {
   "cell_type": "markdown",
   "metadata": {},
   "source": [
    "### Оси"
   ]
  },
  {
   "cell_type": "markdown",
   "metadata": {},
   "source": [
    "Выбирая отображаемые числовые значения подписей на осях, должны придерживаться одинакового значащего разряда с равными отличиями, т.е. пусть единичный отрезок выбран в размере $0.1 ~mm$ (рекомендуем выбирать равным $1, 2, 5~(\\cdot 10^n)$), тогда все подписи должны отличаться на него, например:"
   ]
  },
  {
   "cell_type": "code",
   "execution_count": 73,
   "metadata": {},
   "outputs": [
    {
     "data": {
      "text/plain": [
       "([<matplotlib.axis.YTick at 0x13c2e0aff80>,\n",
       "  <matplotlib.axis.YTick at 0x13c2f1c1a00>,\n",
       "  <matplotlib.axis.YTick at 0x13c303f0800>,\n",
       "  <matplotlib.axis.YTick at 0x13c305e7c80>,\n",
       "  <matplotlib.axis.YTick at 0x13c303c7680>],\n",
       " [Text(0, 0.0, '$\\\\mathdefault{0.0}$'),\n",
       "  Text(0, 0.2, '$\\\\mathdefault{0.2}$'),\n",
       "  Text(0, 0.4, '$\\\\mathdefault{0.4}$'),\n",
       "  Text(0, 0.6000000000000001, '$\\\\mathdefault{0.6}$'),\n",
       "  Text(0, 0.8, '$\\\\mathdefault{0.8}$')])"
      ]
     },
     "execution_count": 73,
     "metadata": {},
     "output_type": "execute_result"
    },
    {
     "data": {
      "image/png": "[encoded data removed]",
      "text/plain": [
       "<Figure size 640x480 with 1 Axes>"
      ]
     },
     "metadata": {},
     "output_type": "display_data"
    }
   ],
   "source": [
    "import matplotlib.pyplot as plt\n",
    "import numpy as np\n",
    "\n",
    "ones_x = 0.1\n",
    "ticks_x = np.arange(0, 1, 0.1)\n",
    "ones_y = 0.2\n",
    "ticks_y = np.arange(0, 1, 0.2)\n",
    "\n",
    "\n",
    "plt.xticks(fontsize=14, ticks=ticks_x)\n",
    "plt.yticks(fontsize=14, ticks=ticks_y)"
   ]
  },
  {
   "cell_type": "markdown",
   "metadata": {},
   "source": [
    "При этом, общий множитель лучше выносить к размерности в правый нижний и верхний левый угол в соответствии с осями"
   ]
  },
  {
   "cell_type": "code",
   "execution_count": 71,
   "metadata": {},
   "outputs": [
    {
     "data": {
      "text/plain": [
       "([<matplotlib.axis.YTick at 0x13c305e7ec0>,\n",
       "  <matplotlib.axis.YTick at 0x13c30603350>,\n",
       "  <matplotlib.axis.YTick at 0x13c306029f0>,\n",
       "  <matplotlib.axis.YTick at 0x13c318625a0>,\n",
       "  <matplotlib.axis.YTick at 0x13c31862ea0>],\n",
       " [Text(0, 0.0, '$\\\\mathdefault{0}$'),\n",
       "  Text(0, 2.0, '$\\\\mathdefault{2}$'),\n",
       "  Text(0, 4.0, '$\\\\mathdefault{4}$'),\n",
       "  Text(0, 6.000000000000001, '$\\\\mathdefault{6}$'),\n",
       "  Text(0, 8.0, '$\\\\mathdefault{8}$')])"
      ]
     },
     "execution_count": 71,
     "metadata": {},
     "output_type": "execute_result"
    },
    {
     "data": {
      "image/png": "[encoded data removed]",
      "text/plain": [
       "<Figure size 640x480 with 1 Axes>"
      ]
     },
     "metadata": {},
     "output_type": "display_data"
    }
   ],
   "source": [
    "plt.rc('text', usetex=True)\n",
    "\n",
    "plt.xlabel(r'$M, 10^{-4}$', loc='right', fontsize=15)\n",
    "plt.ylabel(r'$Ohm, 10^{-6}$', loc='top', fontsize=15)\n",
    "\n",
    "plt.xticks(fontsize=14, ticks=ticks_x*10)\n",
    "plt.yticks(fontsize=14, ticks=ticks_y*10)"
   ]
  },
  {
   "cell_type": "markdown",
   "metadata": {},
   "source": [
    "Необязательно начинать отчёт с точки _(0,0)_ - тогда указываются координаты новой точки"
   ]
  },
  {
   "cell_type": "code",
   "execution_count": 70,
   "metadata": {},
   "outputs": [
    {
     "data": {
      "text/plain": [
       "(-8.0, 1.0)"
      ]
     },
     "execution_count": 70,
     "metadata": {},
     "output_type": "execute_result"
    },
    {
     "data": {
      "image/png": "[encoded data removed]",
      "text/plain": [
       "<Figure size 640x480 with 1 Axes>"
      ]
     },
     "metadata": {},
     "output_type": "display_data"
    }
   ],
   "source": [
    "plt.xlabel(r'$M, 10^{-4}$', loc='right', fontsize=13)\n",
    "plt.ylabel(r'$Ohm, 10^{-6}$', loc='top', fontsize=13)\n",
    "\n",
    "plt.xticks(fontsize=14, ticks=ticks_x*10+4)\n",
    "plt.yticks(fontsize=14, ticks=ticks_y*10-8)\n",
    "\n",
    "plt.xlim(4, 14)\n",
    "plt.ylim(-8, 1)"
   ]
  },
  {
   "cell_type": "markdown",
   "metadata": {},
   "source": [
    "Нужно помнить, что значения на оси не всегда соответствуют кооржинатам точек на графиках. При необходимости выдельть какое-то значение, требуется добавить новую метку. Как вариант, использовать `plt.annotate`, добавляющая подпись со стрелкой"
   ]
  },
  {
   "cell_type": "code",
   "execution_count": 69,
   "metadata": {},
   "outputs": [
    {
     "data": {
      "text/plain": [
       "Text(6.1, -1.2000000000000002, '(5.6, -2.2)')"
      ]
     },
     "execution_count": 69,
     "metadata": {},
     "output_type": "execute_result"
    },
    {
     "data": {
      "image/png": "[encoded data removed]",
      "text/plain": [
       "<Figure size 640x480 with 1 Axes>"
      ]
     },
     "metadata": {},
     "output_type": "display_data"
    }
   ],
   "source": [
    "x = 5.6\n",
    "y = -2.2\n",
    "\n",
    "# Добавляем точку на график\n",
    "plt.plot(x, y, 'ro')\n",
    "\n",
    "\n",
    "plt.xlabel(r'$M, 10^{-4}$', loc='right', fontsize=13)\n",
    "plt.ylabel(r'$Ohm, 10^{-6}$', loc='top', fontsize=13)\n",
    "\n",
    "plt.xticks(fontsize=14, ticks=ticks_x*10+4)\n",
    "plt.yticks(fontsize=14, ticks=ticks_y*10-8)\n",
    "\n",
    "plt.xlim(4, 14)\n",
    "plt.ylim(-8, 1)\n",
    "\n",
    "plt.grid(True)\n",
    "\n",
    "plt.annotate(text=f'({x}, {y})',\n",
    "             xy=(x, y), \n",
    "             xytext=(x+0.5, y+1),  # Положение текста\n",
    "             arrowprops=dict(facecolor='black', arrowstyle='->'),\n",
    "             fontsize=15,\n",
    "             ha='center')\n",
    "\n"
   ]
  },
  {
   "cell_type": "markdown",
   "metadata": {},
   "source": [
    "### Линии и маркеры"
   ]
  },
  {
   "cell_type": "markdown",
   "metadata": {},
   "source": [
    "Размер и цвета подбираются так, чтобы было удобно различать отдельные кривые. Цаета или тип соседних линий выбираются контрастными, а размер маркеров как минимум вдвое толще самой линии. Желательно сохранять размеры всех линий одинаковыми"
   ]
  },
  {
   "cell_type": "code",
   "execution_count": 67,
   "metadata": {},
   "outputs": [
    {
     "data": {
      "text/plain": [
       "[<matplotlib.lines.Line2D at 0x13c307c84a0>]"
      ]
     },
     "execution_count": 67,
     "metadata": {},
     "output_type": "execute_result"
    },
    {
     "data": {
      "image/png": "[encoded data removed]",
      "text/plain": [
       "<Figure size 640x480 with 1 Axes>"
      ]
     },
     "metadata": {},
     "output_type": "display_data"
    }
   ],
   "source": [
    "x = np.linspace(0, 10, 11)\n",
    "plt.plot(x, np.linspace(1, 6, 11), 'o-', markersize=9, linewidth=4)\n",
    "plt.plot(x, np.linspace(1, 8, 11), 'o--', markersize=8, linewidth=3, color='r')"
   ]
  },
  {
   "cell_type": "markdown",
   "metadata": {},
   "source": [
    "При отображении погрешностей маркеры и ошибки для одной линии должны быть одного цвета - так вы уменьшите количество отдельно воспринимаемых элементов и упростите восприятие ваших данных. В этом же может помочь уменьшение количества отображаемых числовых значений."
   ]
  },
  {
   "cell_type": "markdown",
   "metadata": {},
   "source": [
    "### Текст"
   ]
  },
  {
   "cell_type": "markdown",
   "metadata": {},
   "source": [
    "Как на подписях, так и в легенде размер букв должен обеспечивать хорошую читаемость всего изображённого текста. регулируйте это аргументами **fontsize** и **labelsize**, при этом не забывайте увеличивать тики на осях одновременно с изменением размеров чисел"
   ]
  },
  {
   "cell_type": "markdown",
   "metadata": {},
   "source": [
    "http://py.scilink.ru/1_6_matplotlib_example/\n",
    "http://ostashevvb.spb.ru/Download/Errors.pdf"
   ]
  }
 ],
 "metadata": {
  "kernelspec": {
   "display_name": "Python 3",
   "language": "python",
   "name": "python3"
  },
  "language_info": {
   "codemirror_mode": {
    "name": "ipython",
    "version": 3
   },
   "file_extension": ".py",
   "mimetype": "text/x-python",
   "name": "python",
   "nbconvert_exporter": "python",
   "pygments_lexer": "ipython3",
   "version": "3.12.5"
  }
 },
 "nbformat": 4,
 "nbformat_minor": 2
}
