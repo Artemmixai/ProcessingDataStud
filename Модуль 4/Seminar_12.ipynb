{
 "cells": [
  {
   "cell_type": "markdown",
   "metadata": {},
   "source": [
    "Семинар по Plotly"
   ]
  },
  {
   "cell_type": "code",
   "execution_count": null,
   "metadata": {},
   "outputs": [],
   "source": [
    "import pandas as pd\n",
    "import plotly.graph_objects as go"
   ]
  },
  {
   "cell_type": "markdown",
   "metadata": {},
   "source": [
    "Данное занятие посвящено обработке осциллограмм. Эксперимент состоял в следующем: на образец в подается импульс тока, и снимается напряжение с образца. Образец обладает нелинейной зависимостью сопротивления на внешнее импульсное воздействие (з-н Ома выполняется не всегда). Необходимо построить графики напряжения и тока от времени, а также, по определенному участку, рассчитать сопротивление образца. "
   ]
  },
  {
   "cell_type": "markdown",
   "metadata": {},
   "source": [
    "Прочитайте данные из файла \"1.csv\""
   ]
  },
  {
   "cell_type": "code",
   "execution_count": null,
   "metadata": {},
   "outputs": [],
   "source": []
  },
  {
   "cell_type": "markdown",
   "metadata": {},
   "source": [
    " Данные снимаются с трех каналов `CH1, CH2, CH3`, также для каждого из каналов пишется время `time1` в миллисекундах. Данные на первом канале `CH1` соответствует напряжению в мВ на образце.\n",
    "\n",
    "1)  Постройте график зависимости напряжения от времени с использованием библиотеки plo.tly. Пока можно ограничиться подписями осей c учетом размерностей, кастомизацией займемся дальше."
   ]
  },
  {
   "cell_type": "code",
   "execution_count": null,
   "metadata": {},
   "outputs": [],
   "source": []
  },
  {
   "cell_type": "markdown",
   "metadata": {},
   "source": []
  },
  {
   "cell_type": "markdown",
   "metadata": {},
   "source": [
    "Вы можете заметить, что измерения стартуют с некоторого отрицательного значения, будем называть его фоном. Необходимо его определить это значение и перестроить график таким образом, чтобы он начинался с 0 по оси y. "
   ]
  },
  {
   "cell_type": "code",
   "execution_count": null,
   "metadata": {},
   "outputs": [],
   "source": []
  },
  {
   "cell_type": "markdown",
   "metadata": {},
   "source": [
    "Отлично! Теперь найдем ток в цепи и построим его в отдельном окне."
   ]
  },
  {
   "cell_type": "markdown",
   "metadata": {},
   "source": [
    "Полный ток в цепи можно найти по формуле $I = U_{sh}/R_{sh}$.\n",
    "\n",
    "Разность каналов `CH2 - CH3`, записанная в столбец  `CH23`, соответствует напряжению на шунте. Сопротивление шунта $R_{sh}$ = 2.5 мОм.  Учтите фон для тока аналогичным образом. "
   ]
  },
  {
   "cell_type": "code",
   "execution_count": null,
   "metadata": {},
   "outputs": [],
   "source": []
  },
  {
   "cell_type": "markdown",
   "metadata": {},
   "source": [
    "Теперь построим два графика рядом, каждый со своими осями, и добавим легенду, если вы не сделали этого раньше. "
   ]
  },
  {
   "cell_type": "code",
   "execution_count": null,
   "metadata": {},
   "outputs": [],
   "source": []
  },
  {
   "cell_type": "markdown",
   "metadata": {},
   "source": [
    "После того как мы научились строить два графика рядом, попробуем построить один график с двумя линиями тока и напряжения. "
   ]
  },
  {
   "cell_type": "code",
   "execution_count": null,
   "metadata": {},
   "outputs": [],
   "source": []
  },
  {
   "cell_type": "markdown",
   "metadata": {},
   "source": [
    "Чтобы добавить вторую ось можно использовать аргумент ` yaxis='y2'` в функции `go.Scatter`. Для добавления названия оси и корректного отображение можно использовать следующий словарь в настройке окружения: \n",
    "` yaxis2=dict(title = \"Current, I\",overlaying = 'y', side= \"right\", showgrid = False)`"
   ]
  },
  {
   "cell_type": "markdown",
   "metadata": {},
   "source": []
  },
  {
   "cell_type": "markdown",
   "metadata": {},
   "source": [
    "Теперь остается привести график к стандартному виду:\n",
    "- подписи осей\n",
    "- легенда\n",
    "- фон"
   ]
  },
  {
   "cell_type": "code",
   "execution_count": null,
   "metadata": {},
   "outputs": [],
   "source": []
  },
  {
   "cell_type": "markdown",
   "metadata": {},
   "source": [
    "Используйте интерактивные команды графика, чтобы получить информацию о максимуме напряжения. \n"
   ]
  },
  {
   "cell_type": "code",
   "execution_count": null,
   "metadata": {},
   "outputs": [],
   "source": []
  },
  {
   "cell_type": "markdown",
   "metadata": {},
   "source": [
    "Сохраните график в виде картинки в формате \"svg\" для дальнейшего использования в отчетных материалах.\n"
   ]
  },
  {
   "cell_type": "markdown",
   "metadata": {},
   "source": [
    "Задача 4.5. Обработайте данные из файлов \"4.5_warmup\", \"4.5_cooling\", постройте данные на одном графике, профиттируйте полученные зависимости. Рассчитайте погрешности и добавьте на график. "
   ]
  },
  {
   "cell_type": "markdown",
   "metadata": {},
   "source": []
  }
 ],
 "metadata": {
  "language_info": {
   "name": "python"
  }
 },
 "nbformat": 4,
 "nbformat_minor": 2
}
